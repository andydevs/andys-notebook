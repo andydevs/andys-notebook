{
 "cells": [
  {
   "cell_type": "markdown",
   "id": "fd6678b6",
   "metadata": {},
   "source": [
    "# Encryption n' Stuff\n",
    "\n",
    "Encrypt and decrypt something using old cyphers. Try to crack the cypher"
   ]
  },
  {
   "cell_type": "code",
   "execution_count": 87,
   "id": "0f9581be",
   "metadata": {},
   "outputs": [],
   "source": [
    "import math as mt\n",
    "import numpy as np"
   ]
  },
  {
   "cell_type": "markdown",
   "id": "e036c3b1",
   "metadata": {},
   "source": [
    "Our plaintext and key"
   ]
  },
  {
   "cell_type": "code",
   "execution_count": 89,
   "id": "5373df01",
   "metadata": {},
   "outputs": [],
   "source": [
    "plaintext = \"\"\"Did you ever hear the tragedy of Darth Plagueis The Wise? \n",
    "I thought not. It's not a story the Jedi would tell you. It's a Sith \n",
    "legend. Darth Plagueis was a Dark Lord of the Sith, so powerful and \n",
    "so wise he could use the Force to influence the midichlorians to create \n",
    "life. He had such a knowledge of the dark side that he could even keep \n",
    "the ones he cared about from dying. The dark side of the Force is a \n",
    "pathway to many abilities some consider to be unnatural. He became so \n",
    "powerful. the only thing he was afraid of was losing his power, which \n",
    "eventually, of course, he did. Unfortunately, he taught his apprentice \n",
    "everything he knew, then his apprentice killed him in his sleep. Ironic. \n",
    "He could save others from death, but not himself.\"\"\"\n",
    "\n",
    "key = 'notfromajedi'"
   ]
  },
  {
   "cell_type": "markdown",
   "id": "a52ff957",
   "metadata": {},
   "source": [
    "Encrypt it using vigenere cipher"
   ]
  },
  {
   "cell_type": "code",
   "execution_count": 91,
   "id": "2a2b7a67",
   "metadata": {},
   "outputs": [
    {
     "name": "stdout",
     "output_type": "stream",
     "text": [
      "²ØØëÞâÏÛÉÛ×ÙÇäáÉÏ",
      "ØÛÏÖÙÊëÜÇ©ÅÛâ×¶ÞÐÔÖÏÎ×Â×ÙÉØàÆ©",
      "n²ãÜÕçÖÕÕÓÓÝ½ÚâÏÙÙÊâèÕäèÕÒÊ³ÓÓÝéÞâÍÎ",
      "ØÎÚÛßáä³ÙÜÐ¹ÛãÕtÑÉÐÓÝØ³ÎÓÞÍ¹ÚÐÛÛ×ØàáÆ×Ï¸ÇäÚ­Ù×ÈÝÕÚÚÔ´ÓÙÌâãâÞäÆÜËÙÕÐâÊyàÐÜÍÜÓÜËÒÜÖÖÉÞáÔÚÚÔ§Ù×ÇÎããÛÝÓÍßÊÒÌÓèÎ×ÚÊÎÎÇÑÚÞæÏÓÝàÞÔÌàÔÕÚ×wÍÓËÉ·ÙÚÐÑÝÚÇÑÐÑàÞäÍÏÉËÎÞÚæ×ÒÎÆÖÔâÝÊ×áÉËÙÑÓ×ÕçÛÑÏÛÉ×ÚÙËâwÕÒÊØÜÔçÚÔÄË×ÉÍÐÖÕçãÇÜÔÑÒèÝÔÙµÒÊÍÏáßåØÑÆÔÊâ×Ù¸ÞßÄÏ",
      "ÍÜÐpâÐáÉáÆÝâÞÓÓÝæËÇÍÕ×ãÝËåàÐ×ÊÌÝÝçÏÖÔßÞÔËÓéÔàÐáÖÜÆÐ·ÙÔÔÐÂ×ÊÜÝ~ÖáæÒÓÐÚÐãÜËÞÛÍã",
      "ØÑ×ÝÛÚÔØËØÊÔáÕÏÖÜÇÜÅÜÛãÙÛÝÔÒÎ×ÞÞëËäØÒÎÇÑyÙÜ×ÝáÖËÑÐâãÌÒÜÖÜØÉ×ÙÖØÑºÒÏÝáèÛàÐáÆÖÞÖÔÚÓäÔÉÞ",
      "ÌÒáÕÖâáÒÏÞÎÇÎyÙÜ×áæÕÒÎÒÐ×ÙÝÝÒØ",
      "ØÑÓÝÎÛâÂÚÕÖÎÜãÝÉ×ØÊÖÑÉÍ×ÝÓØÛÒÎ×áÛÙËâªÜÔÒÒÑpºÔÄÙÚÐÍâÕÜ×ÜÕÒÊÖÜÕæÕßÑÆËÙÌÑéÚÝÜÕÍÍÖáÔàÌ \n"
     ]
    }
   ],
   "source": [
    "# Convert plaintext and key to integers\n",
    "plaintext_a = np.array(list(plaintext), dtype='<U1')\n",
    "key_a = np.array(list(key), dtype='<U1')\n",
    "plaintext_i = plaintext_a.view('<u4')\n",
    "key_i = key_a.view('<u4')\n",
    "\n",
    "# Extend key to fit plaintext for encryption\n",
    "n = plaintext_i.shape[0] / key_i.shape[0]\n",
    "n = int(mt.ceil(n))\n",
    "key_si = np.tile(key_i, n)[:plaintext_i.shape[0]]\n",
    "\n",
    "# Encrypt plaintext using key into cyphertext\n",
    "ciphertext_i = plaintext_i + key_si\n",
    "ciphertext_a = ciphertext_i.view('<U1')\n",
    "ciphertext = ''.join(ciphertext_a)\n",
    "\n",
    "# Print cyphertext\n",
    "print(ciphertext)"
   ]
  },
  {
   "cell_type": "markdown",
   "id": "63798a26",
   "metadata": {},
   "source": [
    "Now let's try decryptin"
   ]
  },
  {
   "cell_type": "code",
   "execution_count": 94,
   "id": "fe1edc18",
   "metadata": {},
   "outputs": [
    {
     "name": "stdout",
     "output_type": "stream",
     "text": [
      "Did you ever hear the tragedy of Darth Plagueis The Wise? \n",
      "I thought not. It's not a story the Jedi would tell you. It's a Sith \n",
      "legend. Darth Plagueis was a Dark Lord of the Sith, so powerful and \n",
      "so wise he could use the Force to influence the midichlorians to create \n",
      "life. He had such a knowledge of the dark side that he could even keep \n",
      "the ones he cared about from dying. The dark side of the Force is a \n",
      "pathway to many abilities some consider to be unnatural. He became so \n",
      "powerful. the only thing he was afraid of was losing his power, which \n",
      "eventually, of course, he did. Unfortunately, he taught his apprentice \n",
      "everything he knew, then his apprentice killed him in his sleep. Ironic. \n",
      "He could save others from death, but not himself.\n"
     ]
    }
   ],
   "source": [
    "# Convert cyphertext and key to integers\n",
    "ciphertext_a = np.array(list(ciphertext), dtype='<U1')\n",
    "key_a = np.array(list(key), dtype='<U1')\n",
    "ciphertext_i = ciphertext_i.view('<u4')b\n",
    "key_i = key_a.view('<u4')\n",
    "\n",
    "# Extend key to fit plaintext for decryption\n",
    "n = ciphertext_i.shape[0] / key_i.shape[0]\n",
    "n = int(mt.ceil(n))\n",
    "key_si = np.tile(key_i, n)[:ciphertext_i.shape[0]]\n",
    "\n",
    "# Decrypt ciphertext using key into plaintext\n",
    "plaintext_i = ciphertext_i - key_si\n",
    "plaintext_a = plaintext_i.view('<U1')\n",
    "plaintext = ''.join(plaintext_a)\n",
    "\n",
    "# Print plaintext\n",
    "print(plaintext)"
   ]
  },
  {
   "cell_type": "markdown",
   "id": "ca6774ce",
   "metadata": {},
   "source": [
    "Try cracking it!"
   ]
  },
  {
   "cell_type": "code",
   "execution_count": 97,
   "id": "493aa3d7",
   "metadata": {},
   "outputs": [],
   "source": [
    "# Convert cyphertext to integers\n",
    "ciphertext_a = np.array(list(ciphertext), dtype='<U1')\n",
    "ciphertext_i = ciphertext_i.view('<u4')"
   ]
  }
 ],
 "metadata": {
  "kernelspec": {
   "display_name": "Python 3 (ipykernel)",
   "language": "python",
   "name": "python3"
  },
  "language_info": {
   "codemirror_mode": {
    "name": "ipython",
    "version": 3
   },
   "file_extension": ".py",
   "mimetype": "text/x-python",
   "name": "python",
   "nbconvert_exporter": "python",
   "pygments_lexer": "ipython3",
   "version": "3.9.9"
  }
 },
 "nbformat": 4,
 "nbformat_minor": 5
}
