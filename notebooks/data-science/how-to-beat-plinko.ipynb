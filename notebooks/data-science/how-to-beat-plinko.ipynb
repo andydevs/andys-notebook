{
 "cells": [
  {
   "cell_type": "markdown",
   "id": "110d6f70-3c70-4e85-ab5d-9ac87c3d81cd",
   "metadata": {},
   "source": [
    "# How Do You Beat Stake Plinko\n",
    "\n",
    "So I saw a couple videos of people [losing their minds and dollars over casino games](https://www.youtube.com/watch?v=2eNBfXb-A-Q) (warning: NSFW language/content). Now, I do know there's ways to exploit some gambling games. It got me wondering if there's one for one of these. Specifically, I want to know if there's a way to exploit the game Plinko (the one that looks like the picture)\n",
    "\n",
    "![Plinko Game Lol](../../resources/plinko-picture.webp)."
   ]
  },
  {
   "cell_type": "code",
   "execution_count": 42,
   "id": "a569d86f-d1b7-4871-b144-90b62bf2de70",
   "metadata": {},
   "outputs": [],
   "source": [
    "import numpy as np\n",
    "import scipy as sci\n",
    "import matplotlib\n",
    "from matplotlib import pyplot as plt\n",
    "\n",
    "# Config\n",
    "matplotlib.rcdefaults()\n",
    "np.set_printoptions(precision=2)"
   ]
  },
  {
   "cell_type": "markdown",
   "id": "43b2b7a7-690d-423a-adbe-0be17403cee0",
   "metadata": {},
   "source": [
    "## How the Game Works\n",
    "\n",
    "The game works like a Galton Board. Each puck/ball falls down a series of pegs into one of many buckets, each with a particular multiplier displayed. For each ball, you bet a certain amount for that ball. Whichever bucket that ball lands on, the money bet on that ball is multiplied by the multiplier. As can be seen in the image above, however, some of the multipliers are less than 1, meaning you will lose money if your ball lands in one of those buckets!\n",
    "\n",
    "Given that it's a galton board, we can compute the probabilities for each slot using a binomial distribution of probabilities. For now, we'll label each bucket with an integer $r$ going left to right, with the leftmost being $r = 0$, and the total number of bins being $N + 1$. \n",
    "\n",
    "For each peg, we'll label $P(L)$ and $P(R)$ as the probability of a ball going left or right on that peg respectfully. The probability of a ball landing in bin $r$ will be written as $P(B = r)$ and can be given by the following:\n",
    "\n",
    "$$\n",
    "P(B = r) = {N \\choose r} P(L)^{\\left(N - r\\right)} P(R)^r\n",
    "$$"
   ]
  },
  {
   "cell_type": "code",
   "execution_count": 43,
   "id": "b7d33bd1-2df6-4f40-bd91-c9ee6d6a81fa",
   "metadata": {},
   "outputs": [
    {
     "data": {
      "image/png": "[encoded data removed]",
      "text/plain": [
       "<Figure size 640x480 with 1 Axes>"
      ]
     },
     "metadata": {},
     "output_type": "display_data"
    }
   ],
   "source": [
    "N = 12               # Total number of bins minus one\n",
    "pL = pR = .5         # Assuming 50/50 chance of going left or right on any peg\n",
    "r = np.arange(N + 1) # Indeces for each bin\n",
    "\n",
    "# Compute final distribution\n",
    "pB = sci.special.comb(N, r) * (pL ** (N - r)) * (pR ** r)\n",
    "\n",
    "# Plot it\n",
    "plt.bar(r, pB)\n",
    "plt.title('Probability Pistribution for Plinko Balls')\n",
    "plt.xlabel('r', usetex=True)\n",
    "plt.ylabel('P(B = r)', usetex=True)\n",
    "plt.show()"
   ]
  },
  {
   "cell_type": "markdown",
   "id": "7e3c2a68-d501-455f-9fb8-3c468a27305f",
   "metadata": {},
   "source": [
    "## Can we Win?\n",
    "\n",
    "If we're extremely lucky, yes. We can bet all of our money on one ball and win big if it lands in one of the far ends with the high multipliers. However, unlike kick streamers, we have sanity and reasoning. We know this is highly unlikely and it gives us no control of the situation. The most likely scenario would be the ball would land on one of the middle multipliers and we'll lose some money (or all of it if we keep trying). Then we get upset and punch holes in our walls.\n",
    "\n",
    "Realistically, we need to look at the result of many ball drops over time and determine how much we can win in the long run. Imagine, if you will, that we drop several balls, each with a little bit of our balance bet on it. With this strategy, the random chance events combined with the most common ones will over all average out to a singular, predictable outcome: the Expectation Value.\n",
    "\n",
    "The expectation value is simply the sum of all of the multipliers weighted by their respective probabilities. If the Expectation value is less than 1, This means that, using the many balls strategy, we'll still lose money in the long run. So, it's not worth playing... ever (in fact the notebook would stop here).\n",
    "\n",
    "Looking at the bins in the example image above, we can see the multipliers labeled for each. Using those we can compute the expectation value $E[M]$ for our multiplier $M$ based on the distribution we calculated.\n",
    "\n",
    "$$\n",
    "E[M] = \\sum_r M_r P(B = r) = \\sum_r M_r {N \\choose r} P(L)^{\\left(N - r\\right)} P(R)^r\n",
    "$$"
   ]
  },
  {
   "cell_type": "code",
   "execution_count": 44,
   "id": "13c3ee3f-42ee-4a56-931e-0772a0919355",
   "metadata": {},
   "outputs": [
    {
     "name": "stdout",
     "output_type": "stream",
     "text": [
      "Expected Multiplier: 0.99\n"
     ]
    }
   ],
   "source": [
    "# Using the multipliers I see in the image above\n",
    "multipliers = np.array([ 33, 11, 4, 2, 1.1, .6, .3, .6, 1.1, 2, 4, 11, 33 ])\n",
    "\n",
    "# Again, assuming 50/50 chances for every peg\n",
    "pL = pR = 0.5\n",
    "\n",
    "def expected_multiplier(multipliers):\n",
    "    \"\"\"\n",
    "    Compute expected most likely multiplier given the\n",
    "    array of multiplier bins\n",
    "    \"\"\"\n",
    "    N = multipliers.shape[0] - 1\n",
    "    r = np.arange(0, multipliers.shape[0])\n",
    "    pM = sci.special.comb(N, r) * (pL ** (N - r)) * (pR ** r)\n",
    "    return np.sum(multipliers * pM)\n",
    "\n",
    "print('Expected Multiplier: {:0.2f}'.format(expected_multiplier(multipliers)))"
   ]
  },
  {
   "cell_type": "markdown",
   "id": "58a952a1-9c6f-4873-849b-a4b84cab5d10",
   "metadata": {},
   "source": [
    "And it looks like the multiplier is ever so slightly less than 1, and we can't really win.\n",
    "\n",
    "However, if we actually look into the plinko game on Stake, there are other configurations (i.e. Risk levels) with different multipliers. Maybe one of them would provide better odds for us"
   ]
  },
  {
   "cell_type": "code",
   "execution_count": 45,
   "id": "bd40ca8d-f519-48b9-8288-04d0af9f84dc",
   "metadata": {},
   "outputs": [
    {
     "name": "stdout",
     "output_type": "stream",
     "text": [
      "Low Risk Expectation: 0.99\n",
      "Medium Risk Expectation: 0.99\n",
      "High Risk Expectation: 0.99\n"
     ]
    }
   ],
   "source": [
    "low_risk = np.array([ 5.6, 2.1, 1.1, 1, .5, 1, 1.1, 2.1, 5.6 ])\n",
    "medium_risk = np.array([ 33, 11, 4, 2, 1.1, .6, .3, .6, 1.1, 2, 4, 11, 33 ])\n",
    "high_risk = np.array([ 110, 41, 10, 5, 3, 1.5, 1, 0.5, 0.3, 0.5, 1, 1.5, 3, 5, 10, 41, 110 ])\n",
    "\n",
    "print('Low Risk Expectation: {:.2f}'.format(expected_multiplier(low_risk)))\n",
    "print('Medium Risk Expectation: {:.2f}'.format(expected_multiplier(medium_risk)))\n",
    "print('High Risk Expectation: {:.2f}'.format(expected_multiplier(high_risk)))"
   ]
  },
  {
   "cell_type": "markdown",
   "id": "fdfccf35-c235-498b-90c8-bea20a0539d1",
   "metadata": {},
   "source": [
    "As it turns out, the house indeed always wins. \n",
    "\n",
    "And so, how do you beat Plinko?\n",
    "\n",
    "![That's the neat part. You don't!](../../resources/you-dont.jpeg).\n",
    "This is why you don't gamble, kids."
   ]
  }
 ],
 "metadata": {
  "kernelspec": {
   "display_name": "Python 3 (ipykernel)",
   "language": "python",
   "name": "python3"
  },
  "language_info": {
   "codemirror_mode": {
    "name": "ipython",
    "version": 3
   },
   "file_extension": ".py",
   "mimetype": "text/x-python",
   "name": "python",
   "nbconvert_exporter": "python",
   "pygments_lexer": "ipython3",
   "version": "3.12.5"
  }
 },
 "nbformat": 4,
 "nbformat_minor": 5
}
