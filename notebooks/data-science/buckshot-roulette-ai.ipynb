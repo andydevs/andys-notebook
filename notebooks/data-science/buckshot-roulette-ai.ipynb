{
 "cells": [
  {
   "cell_type": "markdown",
   "id": "925e2295-44ca-4245-9f28-752d9868253b",
   "metadata": {},
   "source": [
    "# Buckshot Roulette AI\n",
    "\n",
    "I want to train an AI to beat the game [Buckshot Roulette](https://store.steampowered.com/app/2835570/Buckshot_Roulette/). The final output would be to create an applet that I can put in the current parameters of the game and the AI will tell me what to do next to have the best chance of winning!. I'll be using Reinforcement Learning techniques outlined in [this video series](https://www.youtube.com/watch?v=NFo9v_yKQXA&list=PLzvYlJMoZ02Dxtwe-MmH4nOB5jYlMGBjr) (primarily the first two or three episodes)."
   ]
  },
  {
   "cell_type": "code",
   "execution_count": 1,
   "id": "6c723a85-7b48-4eb2-b1a1-7a7c0a6097ae",
   "metadata": {},
   "outputs": [],
   "source": [
    "import numpy as np"
   ]
  },
  {
   "cell_type": "markdown",
   "id": "939a2cb2-adcf-4f53-a085-3f4c7d0135a7",
   "metadata": {},
   "source": [
    "## Aim of the Game\n",
    "\n",
    "I'll mainly stick with the \"two-player\" example (you playing against the \"dealer\")."
   ]
  }
 ],
 "metadata": {
  "kernelspec": {
   "display_name": "Python 3 (ipykernel)",
   "language": "python",
   "name": "python3"
  },
  "language_info": {
   "codemirror_mode": {
    "name": "ipython",
    "version": 3
   },
   "file_extension": ".py",
   "mimetype": "text/x-python",
   "name": "python",
   "nbconvert_exporter": "python",
   "pygments_lexer": "ipython3",
   "version": "3.12.3"
  }
 },
 "nbformat": 4,
 "nbformat_minor": 5
}
