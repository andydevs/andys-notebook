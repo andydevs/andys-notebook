{
 "cells": [
  {
   "cell_type": "markdown",
   "id": "2a710575-48e9-40d2-a755-c9c8f83c5f10",
   "metadata": {},
   "source": [
    "# Area of a Shadow of a Cube under Point Light!"
   ]
  },
  {
   "cell_type": "code",
   "execution_count": 1,
   "id": "6e4ac17e-8f76-4bec-92e6-a971147fdbc0",
   "metadata": {},
   "outputs": [],
   "source": [
    "# import jupyter_manim\n",
    "from manim import *\n",
    "import numpy as np"
   ]
  },
  {
   "cell_type": "markdown",
   "id": "9fad1488-7613-4bad-b52f-c5a71c077d09",
   "metadata": {},
   "source": [
    "## 2D Case\n",
    "\n",
    "We'll start with a 2D example of a line segment being shined on by a point light casting a shadow on a line L"
   ]
  },
  {
   "cell_type": "code",
   "execution_count": 37,
   "id": "0c5807ab-770a-4179-a579-f119a5e8bb25",
   "metadata": {},
   "outputs": [
    {
     "data": {
      "text/html": [
       "<pre style=\"white-space:pre;overflow-x:auto;line-height:normal;font-family:Menlo,'DejaVu Sans Mono',consolas,'Courier New',monospace\">Manim Community <span style=\"color: #008000; text-decoration-color: #008000\">v0.19.0</span>\n",
       "\n",
       "</pre>\n"
      ],
      "text/plain": [
       "Manim Community \u001b[32mv0.\u001b[0m\u001b[32m19.0\u001b[0m\n",
       "\n"
      ]
     },
     "metadata": {},
     "output_type": "display_data"
    },
    {
     "name": "stdout",
     "output_type": "stream",
     "text": [
      "[[ -1.  10.]\n",
      " [ 20.  10.]\n",
      " [ -1. -10.]\n",
      " [ 20. -10.]]\n"
     ]
    },
    {
     "data": {
      "text/html": [
       "<video src=\"media/jupyter/CellScene@2025-05-21@14-28-53.mp4\" controls autoplay loop style=\"max-width: 60%;\"  >\n",
       "      Your browser does not support the <code>video</code> element.\n",
       "    </video>"
      ],
      "text/plain": [
       "<IPython.core.display.Video object>"
      ]
     },
     "metadata": {},
     "output_type": "display_data"
    }
   ],
   "source": [
    "%%manim -qm -v WARNING CellScene\n",
    "\n",
    "class CellScene(Scene):\n",
    "    width = 7.0\n",
    "    angle_subdiv = 2\n",
    "    \n",
    "    def construct(self):\n",
    "        # grid\n",
    "        grid = Axes(\n",
    "            x_range=(-1.0, 20.0, 1.0),\n",
    "            y_range=(-10.0, 10.0, 1.0),\n",
    "            x_length=config['frame_width'],\n",
    "            y_length=config['frame_height'],\n",
    "            axis_config={\n",
    "                'stroke_opacity': 0.5,\n",
    "                'tick_size': 0.05,\n",
    "            },\n",
    "            tips=False\n",
    "        )\n",
    "\n",
    "        # Point source/origin\n",
    "        O_pos = grid.coords_to_point(0.0, 0.0)\n",
    "        O = Dot(point=O_pos, color=YELLOW, radius=0.1)\n",
    "\n",
    "        # Line Segment\n",
    "        T_start = grid.coords_to_point(self.width, -3.0)\n",
    "        T_end = grid.coords_to_point(self.width, 3.0)\n",
    "        T = Line(start=T_start, end=T_end, color=BLUE)\n",
    "\n",
    "        # Back line\n",
    "        B = grid.plot_implicit_curve(lambda x, _: x - 2.0*self.width)\n",
    "\n",
    "        # Light\n",
    "        L_img_end_points = np.array([ UL, UR, DL, DR ]) * np.array([\n",
    "            [config.frame_x_radius, config.frame_y_radius, 0.0]\n",
    "        ])\n",
    "        L_img_end_coords = grid.point_to_coords(L_img_end_points)\n",
    "        print(L_img_end_coords)\n",
    "\n",
    "        # Animation\n",
    "        self.add(grid)\n",
    "        self.add(O, T, B)\n",
    "        self.wait(3)"
   ]
  }
 ],
 "metadata": {
  "kernelspec": {
   "display_name": "Python 3 (ipykernel)",
   "language": "python",
   "name": "python3"
  },
  "language_info": {
   "codemirror_mode": {
    "name": "ipython",
    "version": 3
   },
   "file_extension": ".py",
   "mimetype": "text/x-python",
   "name": "python",
   "nbconvert_exporter": "python",
   "pygments_lexer": "ipython3",
   "version": "3.11.11"
  }
 },
 "nbformat": 4,
 "nbformat_minor": 5
}
