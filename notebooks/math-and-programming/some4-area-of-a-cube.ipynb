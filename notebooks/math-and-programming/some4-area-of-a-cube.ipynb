{
 "cells": [
  {
   "cell_type": "markdown",
   "id": "2a710575-48e9-40d2-a755-c9c8f83c5f10",
   "metadata": {},
   "source": [
    "# Area of a Shadow of a Cube under Point Light!"
   ]
  },
  {
   "cell_type": "code",
   "execution_count": 56,
   "id": "6e4ac17e-8f76-4bec-92e6-a971147fdbc0",
   "metadata": {},
   "outputs": [],
   "source": [
    "import jupyter_manim\n",
    "from manim import *\n",
    "import numpy as np"
   ]
  },
  {
   "cell_type": "markdown",
   "id": "9fad1488-7613-4bad-b52f-c5a71c077d09",
   "metadata": {},
   "source": [
    "## 2D Case\n",
    "\n",
    "We'll start with a 2D example of a line segment being shined on by a point light casting a shadow on a line L"
   ]
  },
  {
   "cell_type": "code",
   "execution_count": 93,
   "id": "0c5807ab-770a-4179-a579-f119a5e8bb25",
   "metadata": {},
   "outputs": [
    {
     "name": "stderr",
     "output_type": "stream",
     "text": [
      "                                                                         "
     ]
    },
    {
     "data": {
      "text/html": [
       "<video src=\"media/jupyter/CellScene@2025-05-20@00-08-04.mp4\" controls autoplay loop style=\"max-width: 60%;\"  >\n",
       "      Your browser does not support the <code>video</code> element.\n",
       "    </video>"
      ],
      "text/plain": [
       "<IPython.core.display.Video object>"
      ]
     },
     "metadata": {},
     "output_type": "display_data"
    }
   ],
   "source": [
    "%%manim --hide-splash -qm -v WARNING CellScene\n",
    "\n",
    "class CellScene(Scene):\n",
    "    def construct(self):\n",
    "        grid = NumberPlane(\n",
    "            x_range=(-1.0, 13.0, 1.0),\n",
    "            background_line_style={\n",
    "                'stroke_opacity': 0.3\n",
    "            },\n",
    "            axis_config={\n",
    "                'stroke_opacity': 0.5\n",
    "            },\n",
    "        )\n",
    "        width = 5.0\n",
    "        angle_subdiv = 2\n",
    "\n",
    "        O_pos = grid.coords_to_point(0.0, 0.0)\n",
    "        O = Dot(point=O_pos, color=YELLOW, radius=0.1)\n",
    "\n",
    "        T_start = grid.coords_to_point(width, -1.0)\n",
    "        T_end = grid.coords_to_point(width, 1.0)\n",
    "        T = Line(start=T_start, end=T_end, stroke_width=8)\n",
    "\n",
    "        L = grid.plot_implicit_curve(lambda x, _: x - 2.0*width)\n",
    "\n",
    "        lines = VGroup()\n",
    "        top = config['frame_height']/2\n",
    "        right = config['frame_width']/2 - O_pos[0]\n",
    "        max_length = np.sqrt(top**2 + right**2)\n",
    "        line_angle = np.atan((T_end[1] - O_pos[1])/(T_end[0] - O_pos[0]))\n",
    "        angles = np.arange(np.pi/2 - line_angle/angle_subdiv, -np.pi/2, -line_angle / angle_subdiv)\n",
    "        for angle in angles:\n",
    "            endpoint = np.array([ np.cos(angle), np.sin(angle), 0.0 ])\n",
    "            endpoint *= max_length\n",
    "            line = DashedLine(\n",
    "                start=O_pos, \n",
    "                end=(O_pos + endpoint), \n",
    "                color=YELLOW,\n",
    "                stroke_opacity=0.3)\n",
    "            lines.add(line)\n",
    "\n",
    "        self.add(grid)\n",
    "        self.play(AnimationGroup(*[Create(M) for M in [O, T, L]]))\n",
    "        self.play(AnimationGroup(*[Create(l, run_time=0.2) for l in lines], lag_ratio=0.05))\n",
    "        self.wait(5)"
   ]
  }
 ],
 "metadata": {
  "kernelspec": {
   "display_name": "Python 3 (ipykernel)",
   "language": "python",
   "name": "python3"
  },
  "language_info": {
   "codemirror_mode": {
    "name": "ipython",
    "version": 3
   },
   "file_extension": ".py",
   "mimetype": "text/x-python",
   "name": "python",
   "nbconvert_exporter": "python",
   "pygments_lexer": "ipython3",
   "version": "3.12.3"
  }
 },
 "nbformat": 4,
 "nbformat_minor": 5
}
