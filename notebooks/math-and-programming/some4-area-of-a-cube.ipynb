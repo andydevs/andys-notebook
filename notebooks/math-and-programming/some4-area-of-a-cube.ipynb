{
 "cells": [
  {
   "cell_type": "code",
   "execution_count": 25,
   "id": "6e4ac17e-8f76-4bec-92e6-a971147fdbc0",
   "metadata": {},
   "outputs": [],
   "source": [
    "import jupyter_manim\n",
    "from manim import *"
   ]
  },
  {
   "cell_type": "code",
   "execution_count": 27,
   "id": "0c5807ab-770a-4179-a579-f119a5e8bb25",
   "metadata": {},
   "outputs": [
    {
     "name": "stderr",
     "output_type": "stream",
     "text": [
      "                                                                   "
     ]
    },
    {
     "data": {
      "text/html": [
       "<video src=\"media/jupyter/CellScene@2025-05-19@22-40-42.mp4\" controls autoplay loop style=\"max-width: 60%;\"  >\n",
       "      Your browser does not support the <code>video</code> element.\n",
       "    </video>"
      ],
      "text/plain": [
       "<IPython.core.display.Video object>"
      ]
     },
     "metadata": {},
     "output_type": "display_data"
    }
   ],
   "source": [
    "%%manim --hide-splash -qm -v WARNING CellScene\n",
    "\n",
    "class CellScene(Scene):\n",
    "    def construct(self):\n",
    "        circle = Circle()\n",
    "        self.play(Create(circle))\n",
    "        self.wait(1)"
   ]
  }
 ],
 "metadata": {
  "kernelspec": {
   "display_name": "Python 3 (ipykernel)",
   "language": "python",
   "name": "python3"
  },
  "language_info": {
   "codemirror_mode": {
    "name": "ipython",
    "version": 3
   },
   "file_extension": ".py",
   "mimetype": "text/x-python",
   "name": "python",
   "nbconvert_exporter": "python",
   "pygments_lexer": "ipython3",
   "version": "3.12.3"
  }
 },
 "nbformat": 4,
 "nbformat_minor": 5
}
