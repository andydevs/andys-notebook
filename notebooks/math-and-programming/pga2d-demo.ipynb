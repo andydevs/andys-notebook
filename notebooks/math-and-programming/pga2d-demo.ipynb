{
 "cells": [
  {
   "cell_type": "markdown",
   "metadata": {},
   "source": [
    "# PGA Rendering (in 2D)"
   ]
  },
  {
   "cell_type": "code",
   "execution_count": 2,
   "metadata": {},
   "outputs": [
    {
     "data": {
      "application/vnd.jupyter.widget-view+json": {
       "model_id": "a654cafcee8545bfaedb51d0bed32bc5",
       "version_major": 2,
       "version_minor": 0
      },
      "text/plain": [
       "Canvas(height=600, layout=Layout(height='auto', width='auto'), width=800)"
      ]
     },
     "execution_count": 2,
     "metadata": {},
     "output_type": "execute_result"
    }
   ],
   "source": [
    "import clifford as cl\n",
    "import numpy as np\n",
    "from warnings import filterwarnings\n",
    "from numba.core.errors import NumbaDeprecationWarning\n",
    "filterwarnings(\"ignore\", category=NumbaDeprecationWarning)\n",
    "from anutils.mnp.pga2d.draw_context import PGADrawContext\n",
    "cl.print_precision(2)\n",
    "\n",
    "# Using 2D Algebra\n",
    "layout, blades = cl.Cl(2, 0, 1, names=['', 'e0', 'e1', 'e2', 'e01', 'e02', 'e12', 'e012'])\n",
    "pga_context = lambda: PGADrawContext(layout, blades)\n",
    "pga_debug_context = lambda: PGADrawContext(layout, blades, debug=True)\n",
    "globals().update({ k:v for k,v in blades.items() if k != '' })\n",
    "e20 = -e02\n",
    "\n",
    "ctx = pga_debug_context()\n",
    "ctx.canvas"
   ]
  },
  {
   "cell_type": "markdown",
   "metadata": {},
   "source": [
    "## PGA Elements\n",
    "\n",
    "Vectors are lines. We represent a line as a linear equation (equal to zero). Each of the coefficients have their own basis vector.\n",
    "\n",
    "$$ a x + b y + c = 0 \\rightarrow v = a \\textbf{e}_1 + b \\textbf{e}_2 + c \\textbf{e}_0 $$"
   ]
  },
  {
   "cell_type": "code",
   "execution_count": 3,
   "metadata": {},
   "outputs": [
    {
     "name": "stdout",
     "output_type": "stream",
     "text": [
      "-(100^e0) + (1^e1) + (1^e2)\n"
     ]
    },
    {
     "data": {
      "application/vnd.jupyter.widget-view+json": {
       "model_id": "1629a94e30b84fd098d8c82e711935eb",
       "version_major": 2,
       "version_minor": 0
      },
      "text/plain": [
       "Canvas(height=600, layout=Layout(height='auto', width='auto'), width=800)"
      ]
     },
     "execution_count": 3,
     "metadata": {},
     "output_type": "execute_result"
    }
   ],
   "source": [
    "v = e1 + e2 - 100*e0\n",
    "print(v)\n",
    "\n",
    "ctx = pga_context()\n",
    "ctx.draw_line(v)\n",
    "ctx.canvas"
   ]
  },
  {
   "cell_type": "markdown",
   "metadata": {},
   "source": [
    "Bivectors are points:\n",
    "\n",
    "$$\n",
    "    P = (x, y) \\rightarrow x\\textbf{e}_{20} + y\\textbf{e}_{01} + \\textbf{e}_{12}\n",
    "$$\n",
    "\n",
    "Note: the coefficient $\\textbf{e}_{12}$ is usually $1.0$ which represents a normalized bivector. However, in PGA, all scalar multiples of multivectors ultimately represent the same object.\n",
    "\n",
    "$$\n",
    "    P_a = x\\textbf{e}_{20} + y\\textbf{e}_{01} + \\textbf{e}_{12} \\rightarrow P_b = 2x\\textbf{e}_{20} + 2y\\textbf{e}_{01} + 2\\textbf{e}_{12} = P_a\n",
    "$$\n",
    "\n",
    "$\\textbf{e}_{12}$ can geometrically represent the origin, as this would equate to $(0, 0)$ given the formula above.\n",
    "\n",
    "In fact, the above formula can be written much more succinctly utilizing the unit pseudoscalar $\\textbf{e}_{012}$\n",
    "\n",
    "$$\n",
    "    P = \\textbf{e}_{12} + \\textbf{e}_{012}(x\\textbf{e}_{1} + y\\textbf{e}_{2})\n",
    "$$\n",
    "\n",
    "We can finally, in 2D PGA, represent points as the intersection of offsets to the $x$ and $y$ axes.\n",
    "\n",
    "$$\n",
    "    P = (\\textbf{e}_1 - x\\textbf{e}_0)(\\textbf{e}_2 - y\\textbf{e}_0)\n",
    "$$"
   ]
  },
  {
   "cell_type": "code",
   "execution_count": 4,
   "metadata": {},
   "outputs": [
    {
     "name": "stdout",
     "output_type": "stream",
     "text": [
      "p: -(50^e01) - (90^e02) + (1^e12)\n",
      "origin: (1^e12)\n"
     ]
    },
    {
     "data": {
      "application/vnd.jupyter.widget-view+json": {
       "model_id": "420694360aba4bedae364e46d07b8f25",
       "version_major": 2,
       "version_minor": 0
      },
      "text/plain": [
       "Canvas(height=600, layout=Layout(height='auto', width='auto'), width=800)"
      ]
     },
     "execution_count": 4,
     "metadata": {},
     "output_type": "execute_result"
    }
   ],
   "source": [
    "p = e12 - (-90*e1 + 50*e2) * e012 # -90*e20 + 25*e01 + e12\n",
    "o = e12\n",
    "print('p:', p)\n",
    "print('origin:', o)\n",
    "\n",
    "ctx = pga_context()\n",
    "ctx.draw_circle(p)\n",
    "ctx.draw_circle(o, color='blue', radius=2.0)\n",
    "ctx.canvas"
   ]
  },
  {
   "cell_type": "markdown",
   "metadata": {},
   "source": [
    "## PGA Operations\n",
    "\n",
    "Find the intersection of lines using the exterior (or wedge) product $\\wedge$"
   ]
  },
  {
   "cell_type": "code",
   "execution_count": 5,
   "metadata": {},
   "outputs": [
    {
     "name": "stdout",
     "output_type": "stream",
     "text": [
      "v0: -(100.0^e0) + (1.2^e1) - (0.1^e2)\n",
      "v1: (40.0^e0) + (0.1^e1) - (0.9^e2)\n",
      "p0: -(58.0^e01) + (94.0^e02) - (1.07^e12) normalized: (54.21^e01) - (87.85^e02) + (1.0^e12)\n"
     ]
    },
    {
     "data": {
      "application/vnd.jupyter.widget-view+json": {
       "model_id": "39b3741da97b432cbc36e2a636393754",
       "version_major": 2,
       "version_minor": 0
      },
      "text/plain": [
       "Canvas(height=600, layout=Layout(height='auto', width='auto'), width=800)"
      ]
     },
     "execution_count": 5,
     "metadata": {},
     "output_type": "execute_result"
    }
   ],
   "source": [
    "v0 = -100*e0 + 1.2*e1 - 0.1*e2\n",
    "v1 = 40*e0 + 0.1*e1 - 0.9*e2\n",
    "p0 = v0 ^ v1\n",
    "print('v0:', v0)\n",
    "print('v1:', v1)\n",
    "print('p0:', p0, 'normalized:', p0/p0[e12])\n",
    "\n",
    "ctx = pga_context()\n",
    "ctx.draw_line(v0)\n",
    "ctx.draw_line(v1, color='blue')\n",
    "ctx.draw_circle(p0, color='red')\n",
    "ctx.canvas"
   ]
  },
  {
   "cell_type": "markdown",
   "metadata": {},
   "source": [
    "Find the line passing through two points using the regressive (or vee) product: $\\vee$"
   ]
  },
  {
   "cell_type": "code",
   "execution_count": 6,
   "metadata": {},
   "outputs": [
    {
     "name": "stdout",
     "output_type": "stream",
     "text": [
      "p1: (90^e01) + (40^e02) + (1^e12)\n",
      "p2: -(10^e01) - (100^e02) + (1^e12)\n",
      "v: -(8600^e0) + (100^e1) + (140^e2)\n"
     ]
    },
    {
     "data": {
      "application/vnd.jupyter.widget-view+json": {
       "model_id": "e8415e95a827444fbe59502f7ac19109",
       "version_major": 2,
       "version_minor": 0
      },
      "text/plain": [
       "Canvas(height=600, layout=Layout(height='auto', width='auto'), width=800)"
      ]
     },
     "execution_count": 6,
     "metadata": {},
     "output_type": "execute_result"
    }
   ],
   "source": [
    "p1 = -40*e20 + 90*e01 + e12\n",
    "p2 = 100*e20 - 10*e01 + e12\n",
    "v = p1 & p2\n",
    "print('p1:', p1)\n",
    "print('p2:', p2)\n",
    "print('v:', v)\n",
    "\n",
    "ctx = pga_context()\n",
    "ctx.draw_line(v)\n",
    "ctx.draw_circle(p1, color='blue')\n",
    "ctx.draw_circle(p2, color='red')\n",
    "ctx.canvas"
   ]
  },
  {
   "cell_type": "markdown",
   "metadata": {},
   "source": [
    "Find a line perpendicular to line $V$ passing through point $P$ using the dot product: $\\cdot$"
   ]
  },
  {
   "cell_type": "code",
   "execution_count": 7,
   "metadata": {},
   "outputs": [
    {
     "name": "stdout",
     "output_type": "stream",
     "text": [
      "v: (90.0^e0) - (0.1^e1) - (0.5^e2)\n",
      "p: (5^e01) - (40^e02) + (1^e12)\n",
      "vp: -(19.5^e0) + (0.5^e1) - (0.1^e2)\n"
     ]
    },
    {
     "data": {
      "application/vnd.jupyter.widget-view+json": {
       "model_id": "dac58ca998474e2fb3bbc8c179632815",
       "version_major": 2,
       "version_minor": 0
      },
      "text/plain": [
       "Canvas(height=600, layout=Layout(height='auto', width='auto'), width=800)"
      ]
     },
     "execution_count": 7,
     "metadata": {},
     "output_type": "execute_result"
    }
   ],
   "source": [
    "v = 90*e0 - 0.1*e1 - 0.5*e2\n",
    "p = 40*e20 + 5*e01 + e12\n",
    "vp = v | p\n",
    "print('v:',   v)\n",
    "print('p:',   p)\n",
    "print('vp:', vp)\n",
    "\n",
    "ctx = pga_context()\n",
    "ctx.draw_line(v)\n",
    "ctx.draw_line(vp, color='red')\n",
    "ctx.draw_circle(p, color='blue')\n",
    "ctx.canvas"
   ]
  },
  {
   "cell_type": "markdown",
   "metadata": {},
   "source": [
    "Project a point $P$ onto a line $V$ using the formula: $(V \\cdot P)V$"
   ]
  },
  {
   "cell_type": "code",
   "execution_count": 8,
   "metadata": {},
   "outputs": [
    {
     "name": "stdout",
     "output_type": "stream",
     "text": [
      "v: (90.0^e0) - (0.1^e1) - (0.5^e2)\n",
      "p: (5^e01) - (40^e02) + (1^e12)\n",
      "p on v: -(43.05^e01) + (18.75^e02) - (0.26^e12)\n"
     ]
    },
    {
     "data": {
      "application/vnd.jupyter.widget-view+json": {
       "model_id": "898b180bff7a42c58bfa37d07edd9332",
       "version_major": 2,
       "version_minor": 0
      },
      "text/plain": [
       "Canvas(height=600, layout=Layout(height='auto', width='auto'), width=800)"
      ]
     },
     "execution_count": 8,
     "metadata": {},
     "output_type": "execute_result"
    }
   ],
   "source": [
    "v = 90*e0 - 0.1*e1 - 0.5*e2\n",
    "p = 40*e20 + 5*e01 + e12\n",
    "ponv = (v | p)*v\n",
    "print('v:', v)\n",
    "print('p:', p)\n",
    "print('p on v:', ponv)\n",
    "\n",
    "ctx = pga_context()\n",
    "ctx.draw_line(v)\n",
    "ctx.draw_circle(p, color='blue')\n",
    "ctx.draw_circle(ponv, color='red')\n",
    "ctx.canvas"
   ]
  },
  {
   "cell_type": "markdown",
   "metadata": {},
   "source": [
    "You can also use the same formula to project a line $V$ onto a point $P$ using $(V \\cdot P)P$"
   ]
  },
  {
   "cell_type": "code",
   "execution_count": 9,
   "metadata": {},
   "outputs": [
    {
     "name": "stdout",
     "output_type": "stream",
     "text": [
      "v: (90.0^e0) - (0.1^e1) - (0.5^e2)\n",
      "p: (5^e01) - (40^e02) + (1^e12)\n",
      "v on p: -(6.5^e0) + (0.1^e1) + (0.5^e2)\n"
     ]
    },
    {
     "data": {
      "application/vnd.jupyter.widget-view+json": {
       "model_id": "0d5c12a028e742b8a0e91b383995e920",
       "version_major": 2,
       "version_minor": 0
      },
      "text/plain": [
       "Canvas(height=600, layout=Layout(height='auto', width='auto'), width=800)"
      ]
     },
     "execution_count": 9,
     "metadata": {},
     "output_type": "execute_result"
    }
   ],
   "source": [
    "v = 90*e0 - 0.1*e1 - 0.5*e2\n",
    "p = 40*e20 + 5*e01 + e12\n",
    "vonp = (v | p)*p\n",
    "print('v:', v)\n",
    "print('p:', p)\n",
    "print('v on p:', vonp)\n",
    "\n",
    "ctx = pga_context()\n",
    "ctx.draw_line(v)\n",
    "ctx.draw_line(vonp, color='red')\n",
    "ctx.draw_circle(p, color='blue')\n",
    "ctx.canvas"
   ]
  },
  {
   "cell_type": "markdown",
   "metadata": {},
   "source": [
    "Find the midpoint between two points: just add them!"
   ]
  },
  {
   "cell_type": "code",
   "execution_count": 10,
   "metadata": {},
   "outputs": [
    {
     "name": "stdout",
     "output_type": "stream",
     "text": [
      "p1: (90^e01) + (40^e02) + (1^e12)\n",
      "p2: -(10^e01) - (100^e02) + (1^e12)\n",
      "pM: (80^e01) - (60^e02) + (2^e12) normalized: (40.0^e01) - (30.0^e02) + (1.0^e12)\n"
     ]
    },
    {
     "data": {
      "application/vnd.jupyter.widget-view+json": {
       "model_id": "c4e7ffce846145b5805ae7dcb187ba59",
       "version_major": 2,
       "version_minor": 0
      },
      "text/plain": [
       "Canvas(height=600, layout=Layout(height='auto', width='auto'), width=800)"
      ]
     },
     "execution_count": 10,
     "metadata": {},
     "output_type": "execute_result"
    }
   ],
   "source": [
    "p1 = -40*e20 + 90*e01 + e12\n",
    "p2 = 100*e20 - 10*e01 + e12\n",
    "pM = p1 + p2\n",
    "print('p1:', p1)\n",
    "print('p2:', p2)\n",
    "print('pM:', pM, 'normalized:', pM/pM[e12])\n",
    "\n",
    "ctx = pga_context()\n",
    "ctx.draw_circle(p1, color='blue')\n",
    "ctx.draw_circle(p2, color='red')\n",
    "ctx.draw_circle(pM, color='black')\n",
    "ctx.canvas"
   ]
  }
 ],
 "metadata": {
  "kernelspec": {
   "display_name": "Python 3 (ipykernel)",
   "language": "python",
   "name": "python3"
  },
  "language_info": {
   "codemirror_mode": {
    "name": "ipython",
    "version": 3
   },
   "file_extension": ".py",
   "mimetype": "text/x-python",
   "name": "python",
   "nbconvert_exporter": "python",
   "pygments_lexer": "ipython3",
   "version": "3.11.11"
  }
 },
 "nbformat": 4,
 "nbformat_minor": 4
}
