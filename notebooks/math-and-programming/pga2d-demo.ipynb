{
 "cells": [
  {
   "cell_type": "markdown",
   "metadata": {},
   "source": [
    "# 2D Projective Geometric Algebra"
   ]
  },
  {
   "cell_type": "code",
   "execution_count": 8,
   "metadata": {},
   "outputs": [],
   "source": [
    "import clifford as cl\n",
    "from time import sleep\n",
    "import numpy as np\n",
    "from IPython.display import Markdown, Latex\n",
    "from ipycanvas import hold_canvas\n",
    "from warnings import filterwarnings\n",
    "from itertools import permutations\n",
    "import re\n",
    "from numba.core.errors import NumbaDeprecationWarning\n",
    "filterwarnings(\"ignore\", category=NumbaDeprecationWarning)\n",
    "from anutils.mnp.pga2d.draw_context import PGADrawContext\n",
    "from anutils.mnp.pga2d import build_tex_format_for_layout\n",
    "cl.print_precision(2)\n",
    "\n",
    "# Using 2D Algebra\n",
    "layout, blades = cl.Cl(2, 0, 1, names=['', 'e0', 'e1', 'e2', 'e01', 'e02', 'e12', 'e012'])\n",
    "pga_context = lambda: PGADrawContext(layout, blades)\n",
    "pga_debug_context = lambda: PGADrawContext(layout, blades, debug=True)\n",
    "e0 = e1 = e2 = e01 = e02 = e12 = e012 = None\n",
    "globals().update({ k:v for k,v in blades.items() if k != '' })\n",
    "e20 = -e02\n",
    "O = e12\n",
    "I = e012"
   ]
  },
  {
   "cell_type": "markdown",
   "metadata": {},
   "source": [
    "## Elements and Operations\n",
    "\n",
    "Important operations here are the Wedge Product ($\\wedge$), the Vee Product ($\\vee$), and the Dot Product ($\\cdot$). There's also the Geometric Product of two multivectors $u$ and $v$ (written as $uv$). As all of these operations are indeed linear we only need to focus on the results of the operations on the unit multivectors themselves. Here we'll print out the results in the table"
   ]
  },
  {
   "cell_type": "code",
   "execution_count": 9,
   "metadata": {},
   "outputs": [
    {
     "data": {
      "text/markdown": [
       "\n",
       "| $\\textbf{a}$ | $\\textbf{b}$ | $\\textbf{a} \\wedge \\textbf{b}$ | $\\textbf{a} \\vee \\textbf{b}$ | $\\textbf{a} \\cdot \\textbf{b}$ | $ \\textbf{a} \\textbf{b} $ |\n",
       "|:---:|:---:|:---:|:---:|:---:|:---:|\n",
       "|$1.0$|$1.0$|$1.0$|$0.0$|$0.0$|$1.0$|\n",
       "|$1.0$|$\\mathbf{e}_{0}$|$\\mathbf{e}_{0}$|$0.0$|$0.0$|$\\mathbf{e}_{0}$|\n",
       "|$1.0$|$\\mathbf{e}_{1}$|$\\mathbf{e}_{1}$|$0.0$|$0.0$|$\\mathbf{e}_{1}$|\n",
       "|$1.0$|$\\mathbf{e}_{2}$|$\\mathbf{e}_{2}$|$0.0$|$0.0$|$\\mathbf{e}_{2}$|\n",
       "|$1.0$|$\\mathbf{e}_{01}$|$\\mathbf{e}_{01}$|$0.0$|$0.0$|$\\mathbf{e}_{01}$|\n",
       "|$1.0$|$\\mathbf{e}_{02}$|$\\mathbf{e}_{02}$|$0.0$|$0.0$|$\\mathbf{e}_{02}$|\n",
       "|$1.0$|$\\mathbf{e}_{12}$|$\\mathbf{e}_{12}$|$0.0$|$0.0$|$\\mathbf{e}_{12}$|\n",
       "|$1.0$|$\\mathbf{e}_{012}$|$\\mathbf{e}_{012}$|$1.0$|$0.0$|$\\mathbf{e}_{012}$|\n",
       "|$\\mathbf{e}_{0}$|$1.0$|$\\mathbf{e}_{0}$|$0.0$|$0.0$|$\\mathbf{e}_{0}$|\n",
       "|$\\mathbf{e}_{0}$|$\\mathbf{e}_{0}$|$0.0$|$0.0$|$0.0$|$0.0$|\n",
       "|$\\mathbf{e}_{0}$|$\\mathbf{e}_{1}$|$\\mathbf{e}_{01}$|$0.0$|$0.0$|$\\mathbf{e}_{01}$|\n",
       "|$\\mathbf{e}_{0}$|$\\mathbf{e}_{2}$|$\\mathbf{e}_{02}$|$0.0$|$0.0$|$\\mathbf{e}_{02}$|\n",
       "|$\\mathbf{e}_{0}$|$\\mathbf{e}_{01}$|$0.0$|$0.0$|$0.0$|$0.0$|\n",
       "|$\\mathbf{e}_{0}$|$\\mathbf{e}_{02}$|$0.0$|$0.0$|$0.0$|$0.0$|\n",
       "|$\\mathbf{e}_{0}$|$\\mathbf{e}_{12}$|$\\mathbf{e}_{012}$|$1.0$|$0.0$|$\\mathbf{e}_{012}$|\n",
       "|$\\mathbf{e}_{0}$|$\\mathbf{e}_{012}$|$0.0$|$\\mathbf{e}_{0}$|$0.0$|$0.0$|\n",
       "|$\\mathbf{e}_{1}$|$1.0$|$\\mathbf{e}_{1}$|$0.0$|$0.0$|$\\mathbf{e}_{1}$|\n",
       "|$\\mathbf{e}_{1}$|$\\mathbf{e}_{0}$|$-\\mathbf{e}_{01}$|$0.0$|$0.0$|$-\\mathbf{e}_{01}$|\n",
       "|$\\mathbf{e}_{1}$|$\\mathbf{e}_{1}$|$0.0$|$0.0$|$1.0$|$1.0$|\n",
       "|$\\mathbf{e}_{1}$|$\\mathbf{e}_{2}$|$\\mathbf{e}_{12}$|$0.0$|$0.0$|$\\mathbf{e}_{12}$|\n",
       "|$\\mathbf{e}_{1}$|$\\mathbf{e}_{01}$|$0.0$|$0.0$|$-\\mathbf{e}_{0}$|$-\\mathbf{e}_{0}$|\n",
       "|$\\mathbf{e}_{1}$|$\\mathbf{e}_{02}$|$-\\mathbf{e}_{012}$|$-1.0$|$0.0$|$-\\mathbf{e}_{012}$|\n",
       "|$\\mathbf{e}_{1}$|$\\mathbf{e}_{12}$|$0.0$|$0.0$|$\\mathbf{e}_{2}$|$\\mathbf{e}_{2}$|\n",
       "|$\\mathbf{e}_{1}$|$\\mathbf{e}_{012}$|$0.0$|$\\mathbf{e}_{1}$|$-\\mathbf{e}_{02}$|$-\\mathbf{e}_{02}$|\n",
       "|$\\mathbf{e}_{2}$|$1.0$|$\\mathbf{e}_{2}$|$0.0$|$0.0$|$\\mathbf{e}_{2}$|\n",
       "|$\\mathbf{e}_{2}$|$\\mathbf{e}_{0}$|$-\\mathbf{e}_{02}$|$0.0$|$0.0$|$-\\mathbf{e}_{02}$|\n",
       "|$\\mathbf{e}_{2}$|$\\mathbf{e}_{1}$|$-\\mathbf{e}_{12}$|$0.0$|$0.0$|$-\\mathbf{e}_{12}$|\n",
       "|$\\mathbf{e}_{2}$|$\\mathbf{e}_{2}$|$0.0$|$0.0$|$1.0$|$1.0$|\n",
       "|$\\mathbf{e}_{2}$|$\\mathbf{e}_{01}$|$\\mathbf{e}_{012}$|$1.0$|$0.0$|$\\mathbf{e}_{012}$|\n",
       "|$\\mathbf{e}_{2}$|$\\mathbf{e}_{02}$|$0.0$|$0.0$|$-\\mathbf{e}_{0}$|$-\\mathbf{e}_{0}$|\n",
       "|$\\mathbf{e}_{2}$|$\\mathbf{e}_{12}$|$0.0$|$0.0$|$-\\mathbf{e}_{1}$|$-\\mathbf{e}_{1}$|\n",
       "|$\\mathbf{e}_{2}$|$\\mathbf{e}_{012}$|$0.0$|$\\mathbf{e}_{2}$|$\\mathbf{e}_{01}$|$\\mathbf{e}_{01}$|\n",
       "|$\\mathbf{e}_{01}$|$1.0$|$\\mathbf{e}_{01}$|$0.0$|$0.0$|$\\mathbf{e}_{01}$|\n",
       "|$\\mathbf{e}_{01}$|$\\mathbf{e}_{0}$|$0.0$|$0.0$|$0.0$|$0.0$|\n",
       "|$\\mathbf{e}_{01}$|$\\mathbf{e}_{1}$|$0.0$|$0.0$|$\\mathbf{e}_{0}$|$\\mathbf{e}_{0}$|\n",
       "|$\\mathbf{e}_{01}$|$\\mathbf{e}_{2}$|$\\mathbf{e}_{012}$|$1.0$|$0.0$|$\\mathbf{e}_{012}$|\n",
       "|$\\mathbf{e}_{01}$|$\\mathbf{e}_{01}$|$0.0$|$0.0$|$0.0$|$0.0$|\n",
       "|$\\mathbf{e}_{01}$|$\\mathbf{e}_{02}$|$0.0$|$\\mathbf{e}_{0}$|$0.0$|$0.0$|\n",
       "|$\\mathbf{e}_{01}$|$\\mathbf{e}_{12}$|$0.0$|$\\mathbf{e}_{1}$|$0.0$|$\\mathbf{e}_{02}$|\n",
       "|$\\mathbf{e}_{01}$|$\\mathbf{e}_{012}$|$0.0$|$\\mathbf{e}_{01}$|$0.0$|$0.0$|\n",
       "|$\\mathbf{e}_{02}$|$1.0$|$\\mathbf{e}_{02}$|$0.0$|$0.0$|$\\mathbf{e}_{02}$|\n",
       "|$\\mathbf{e}_{02}$|$\\mathbf{e}_{0}$|$0.0$|$0.0$|$0.0$|$0.0$|\n",
       "|$\\mathbf{e}_{02}$|$\\mathbf{e}_{1}$|$-\\mathbf{e}_{012}$|$-1.0$|$0.0$|$-\\mathbf{e}_{012}$|\n",
       "|$\\mathbf{e}_{02}$|$\\mathbf{e}_{2}$|$0.0$|$0.0$|$\\mathbf{e}_{0}$|$\\mathbf{e}_{0}$|\n",
       "|$\\mathbf{e}_{02}$|$\\mathbf{e}_{01}$|$0.0$|$-\\mathbf{e}_{0}$|$0.0$|$0.0$|\n",
       "|$\\mathbf{e}_{02}$|$\\mathbf{e}_{02}$|$0.0$|$0.0$|$0.0$|$0.0$|\n",
       "|$\\mathbf{e}_{02}$|$\\mathbf{e}_{12}$|$0.0$|$\\mathbf{e}_{2}$|$0.0$|$-\\mathbf{e}_{01}$|\n",
       "|$\\mathbf{e}_{02}$|$\\mathbf{e}_{012}$|$0.0$|$\\mathbf{e}_{02}$|$0.0$|$0.0$|\n",
       "|$\\mathbf{e}_{12}$|$1.0$|$\\mathbf{e}_{12}$|$0.0$|$0.0$|$\\mathbf{e}_{12}$|\n",
       "|$\\mathbf{e}_{12}$|$\\mathbf{e}_{0}$|$\\mathbf{e}_{012}$|$1.0$|$0.0$|$\\mathbf{e}_{012}$|\n",
       "|$\\mathbf{e}_{12}$|$\\mathbf{e}_{1}$|$0.0$|$0.0$|$-\\mathbf{e}_{2}$|$-\\mathbf{e}_{2}$|\n",
       "|$\\mathbf{e}_{12}$|$\\mathbf{e}_{2}$|$0.0$|$0.0$|$\\mathbf{e}_{1}$|$\\mathbf{e}_{1}$|\n",
       "|$\\mathbf{e}_{12}$|$\\mathbf{e}_{01}$|$0.0$|$-\\mathbf{e}_{1}$|$0.0$|$-\\mathbf{e}_{02}$|\n",
       "|$\\mathbf{e}_{12}$|$\\mathbf{e}_{02}$|$0.0$|$-\\mathbf{e}_{2}$|$0.0$|$\\mathbf{e}_{01}$|\n",
       "|$\\mathbf{e}_{12}$|$\\mathbf{e}_{12}$|$0.0$|$0.0$|$-1.0$|$-1.0$|\n",
       "|$\\mathbf{e}_{12}$|$\\mathbf{e}_{012}$|$0.0$|$\\mathbf{e}_{12}$|$-\\mathbf{e}_{0}$|$-\\mathbf{e}_{0}$|\n",
       "|$\\mathbf{e}_{012}$|$1.0$|$\\mathbf{e}_{012}$|$1.0$|$0.0$|$\\mathbf{e}_{012}$|\n",
       "|$\\mathbf{e}_{012}$|$\\mathbf{e}_{0}$|$0.0$|$\\mathbf{e}_{0}$|$0.0$|$0.0$|\n",
       "|$\\mathbf{e}_{012}$|$\\mathbf{e}_{1}$|$0.0$|$\\mathbf{e}_{1}$|$-\\mathbf{e}_{02}$|$-\\mathbf{e}_{02}$|\n",
       "|$\\mathbf{e}_{012}$|$\\mathbf{e}_{2}$|$0.0$|$\\mathbf{e}_{2}$|$\\mathbf{e}_{01}$|$\\mathbf{e}_{01}$|\n",
       "|$\\mathbf{e}_{012}$|$\\mathbf{e}_{01}$|$0.0$|$\\mathbf{e}_{01}$|$0.0$|$0.0$|\n",
       "|$\\mathbf{e}_{012}$|$\\mathbf{e}_{02}$|$0.0$|$\\mathbf{e}_{02}$|$0.0$|$0.0$|\n",
       "|$\\mathbf{e}_{012}$|$\\mathbf{e}_{12}$|$0.0$|$\\mathbf{e}_{12}$|$-\\mathbf{e}_{0}$|$-\\mathbf{e}_{0}$|\n",
       "|$\\mathbf{e}_{012}$|$\\mathbf{e}_{012}$|$0.0$|$\\mathbf{e}_{012}$|$0.0$|$0.0$|\n"
      ],
      "text/plain": [
       "<IPython.core.display.Markdown object>"
      ]
     },
     "execution_count": 9,
     "metadata": {},
     "output_type": "execute_result"
    }
   ],
   "source": [
    "es = list(blades.values())\n",
    "pairs = cl.array([ [a,b] for a in es for b in es ])\n",
    "\n",
    "an = pairs[:,0]\n",
    "bn = pairs[:,1]\n",
    "wedge = an ^ bn\n",
    "vee = cl.array([ a.vee(b) for a,b in zip(an,bn) ])\n",
    "dot = an | bn\n",
    "gps = an*bn\n",
    "to_tex = build_tex_format_for_layout(layout, precision=1)\n",
    "table_markdown = \"\"\"\n",
    "| $\\\\textbf{a}$ | $\\\\textbf{b}$ | $\\\\textbf{a} \\\\wedge \\\\textbf{b}$ | $\\\\textbf{a} \\\\vee \\\\textbf{b}$ | $\\\\textbf{a} \\\\cdot \\\\textbf{b}$ | $ \\\\textbf{a} \\\\textbf{b} $ |\n",
    "|:---:|:---:|:---:|:---:|:---:|:---:|\n",
    "\"\"\"\n",
    "for es in zip(an,bn,wedge,vee,dot,gps):\n",
    "    line = '|' + '|'.join('$'+to_tex(e)+'$' for e in es) + '|\\n'\n",
    "    table_markdown += line\n",
    "Markdown(table_markdown)"
   ]
  },
  {
   "cell_type": "markdown",
   "metadata": {},
   "source": [
    "## PGA Elements"
   ]
  },
  {
   "cell_type": "markdown",
   "metadata": {},
   "source": [
    "\n",
    "### Vectors are lines\n",
    "\n",
    "We represent a line as a linear equation (equal to zero) with three coefficients. \n",
    "\n",
    "$$\n",
    "    a\\ x + b\\ y + c = 0\n",
    "$$\n",
    "\n",
    "To represent these lines as vectors, each of these coefficients have their own PGA basis vector $\\textbf{e}_i$ in a linear combination.\n",
    "\n",
    "$$ \n",
    "    \\textbf{v} = a\\ \\textbf{e}_1 + b\\ \\textbf{e}_2 + c\\ \\textbf{e}_0\n",
    "$$"
   ]
  },
  {
   "cell_type": "code",
   "execution_count": 10,
   "metadata": {},
   "outputs": [
    {
     "name": "stdout",
     "output_type": "stream",
     "text": [
      "(100.0^e0) - (0.6^e1) + (0.4^e2)\n"
     ]
    },
    {
     "data": {
      "application/vnd.jupyter.widget-view+json": {
       "model_id": "7833ba4c65204e9a911a76aad1027b62",
       "version_major": 2,
       "version_minor": 0
      },
      "text/plain": [
       "Canvas(height=600, layout=Layout(height='auto', width='auto'), width=800)"
      ]
     },
     "execution_count": 10,
     "metadata": {},
     "output_type": "execute_result"
    }
   ],
   "source": [
    "v = -3/5*e1 + 2/5*e2 + 100*e0\n",
    "print(v)\n",
    "\n",
    "pga_context().draw(v).canvas"
   ]
  },
  {
   "cell_type": "markdown",
   "metadata": {},
   "source": [
    "### Bivectors are points\n",
    "\n",
    "$$\n",
    "    \\textbf{P} = (x, y) \\rightarrow x\\ \\textbf{e}_{20} + y\\ \\textbf{e}_{01} + \\textbf{e}_{12}\n",
    "$$\n",
    "\n",
    "Note: the coefficient $\\textbf{e}_{12}$ is usually $1.0$ which represents a normalized bivector. However, in PGA, all scalar multiples of multivectors ultimately represent the same object.\n",
    "\n",
    "$$\n",
    "    \\textbf{P}_a = x\\textbf{e}_{20} + y\\textbf{e}_{01} + \\textbf{e}_{12}\n",
    "$$\n",
    "\n",
    "$$\n",
    "    \\textbf{P}_b = 2x\\textbf{e}_{20} + 2y\\textbf{e}_{01} + 2\\textbf{e}_{12} = P_a\n",
    "$$\n",
    "\n",
    "$\\textbf{e}_{12}$ can geometrically represent the origin $\\textbf{O}$, as this would equate to $(0, 0)$ given the formula above.\n",
    "\n",
    "In fact, the above formula can be written much more succinctly utilizing the unit pseudoscalar $\\textbf{I} = \\textbf{e}_{012}$\n",
    "\n",
    "$$\n",
    "    \\textbf{P} = \\textbf{O} + (x\\textbf{e}_{1} + y\\textbf{e}_{2})\\textbf{I}\n",
    "$$\n",
    "\n",
    "We can finally, in 2D PGA, represent points as the intersection of offsets to the $x$ and $y$ axes.\n",
    "\n",
    "$$\n",
    "    \\textbf{P} = (\\textbf{e}_1 - x\\textbf{e}_0)(\\textbf{e}_2 - y\\textbf{e}_0)\n",
    "$$"
   ]
  },
  {
   "cell_type": "code",
   "execution_count": 11,
   "metadata": {},
   "outputs": [
    {
     "name": "stdout",
     "output_type": "stream",
     "text": [
      "p: (50^e01) + (90^e02) + (1^e12)\n",
      "origin: (1^e12)\n"
     ]
    },
    {
     "data": {
      "application/vnd.jupyter.widget-view+json": {
       "model_id": "43bfd54b66074f3c81bc6477fb248bd2",
       "version_major": 2,
       "version_minor": 0
      },
      "text/plain": [
       "Canvas(height=600, layout=Layout(height='auto', width='auto'), width=800)"
      ]
     },
     "execution_count": 11,
     "metadata": {},
     "output_type": "execute_result"
    }
   ],
   "source": [
    "p = O + I*(-90*e1 + 50*e2) # -90*e20 + 50*e01 + e12\n",
    "print('p:', p)\n",
    "print('origin:', O)\n",
    "\n",
    "pga_context().draw(p).draw(O).canvas"
   ]
  },
  {
   "cell_type": "markdown",
   "metadata": {},
   "source": [
    "## PGA Operations"
   ]
  },
  {
   "cell_type": "markdown",
   "metadata": {},
   "source": [
    "### Wedge Product: Intersections\n",
    "\n",
    "The wedge product $v \\wedge u$ is computed from the above basis vector rules:\n",
    "\n",
    "$$\n",
    "    \\textbf{v} \\wedge \\textbf{u} = (v_1 \\textbf{e}_1 + v_2 \\textbf{e}_2 + v_0 \\textbf{e}_0) \\wedge (u_1 \\textbf{e}_1 + u_2 \\textbf{e}_2 + u_0 \\textbf{e}_0)\n",
    "$$\n",
    "\n",
    "$$\n",
    "\\begin{aligned}\n",
    "    = && v_1 u_1 (\\textbf{e}_1 \\wedge \\textbf{e}_1) \n",
    "    & + & v_1 u_2 (\\textbf{e}_1 \\wedge \\textbf{e}_2) \n",
    "    & + & v_1 u_0  (\\textbf{e}_1 \\wedge \\textbf{e}_0) \\\\\n",
    "     && v_2 u_1 (\\textbf{e}_2 \\wedge \\textbf{e}_1) \n",
    "     & + & v_2 u_2 (\\textbf{e}_2 \\wedge \\textbf{e}_2) \n",
    "     & + & v_2 u_0 (\\textbf{e}_2 \\wedge \\textbf{e}_0) \\\\\n",
    "     && v_0 u_1 (\\textbf{e}_0 \\wedge \\textbf{e}_1) \n",
    "     & + & v_0 u_2 (\\textbf{e}_0 \\wedge \\textbf{e}_2) \n",
    "     & + & v_0 u_0 (\\textbf{e}_0 \\wedge \\textbf{e}_0)\n",
    "\\end{aligned}\n",
    "$$\n",
    "\n",
    "$$\n",
    "= (v_1 u_2 - v_2 u_1) \\textbf{e}_{12} + (u_1 v_0 - v_1 u_0) \\textbf{e}_{01} + (v_2 u_0 - u_2 v_0) \\textbf{e}_{20}\n",
    "$$\n",
    "\n",
    "Geometrically, treating $v$ and $u$ as lines, this is the intersection of both lines!"
   ]
  },
  {
   "cell_type": "code",
   "execution_count": 12,
   "metadata": {},
   "outputs": [
    {
     "name": "stdout",
     "output_type": "stream",
     "text": [
      "v: -(100.0^e0) + (1.2^e1) - (0.1^e2)\n",
      "u: (40.0^e0) + (0.1^e1) - (0.9^e2)\n",
      "v ^ u: -(58.0^e01) + (94.0^e02) - (1.07^e12)\n",
      "normalized: (54.21^e01) - (87.85^e02) + (1.0^e12)\n"
     ]
    },
    {
     "data": {
      "application/vnd.jupyter.widget-view+json": {
       "model_id": "ff9f2fbac2954528bbcd0f71b282a195",
       "version_major": 2,
       "version_minor": 0
      },
      "text/plain": [
       "Canvas(height=600, layout=Layout(height='auto', width='auto'), width=800)"
      ]
     },
     "execution_count": 12,
     "metadata": {},
     "output_type": "execute_result"
    }
   ],
   "source": [
    "v = 1.2*e1 - 0.1*e2 - 100*e0\n",
    "u = 0.1*e1 - 0.9*e2 +  40*e0\n",
    "p = v ^ u\n",
    "print('v:', v)\n",
    "print('u:', u)\n",
    "print('v ^ u:', p)\n",
    "print('normalized:', p/p[e12])\n",
    "\n",
    "pga_context().draw(v, u, p).canvas"
   ]
  },
  {
   "cell_type": "markdown",
   "metadata": {},
   "source": [
    "### Intersection of Two Parallel Lines: Point at Infinity\n",
    "\n",
    "What if the two lines are parallel? By definition they wouldn't have an intersection then. In PGA, this discrepency is handled by describing parallel lines as intersecting at \"infinity\". Given two parallel lines $\\textbf{v}$ and $\\textbf{v} + \\alpha \\textbf{e}_0$, their intersection can be computed using the basis vector rules:\n",
    "\n",
    "$$\n",
    "    \\textbf{v} \\wedge (\\textbf{v} + \\alpha \\textbf{e}_0) = (v_1 \\textbf{e}_1 + v_2 \\textbf{e}_2 + v_0 \\textbf{e}_0) \\wedge (v_1 \\textbf{e}_1 + v_2 \\textbf{e}_2 + (v_0 + \\alpha) \\textbf{e}_0)\n",
    "$$\n",
    "\n",
    "$$\n",
    "\\begin{aligned}\n",
    "    = && v_1^2   & (\\textbf{e}_1 \\wedge \\textbf{e}_1) + v_1 v_2 & (\\textbf{e}_1 \\wedge \\textbf{e}_2) + v_1 (v_0 + \\alpha) & (\\textbf{e}_1 \\wedge \\textbf{e}_0) \\\\\n",
    "     && v_2 v_1 & (\\textbf{e}_2 \\wedge \\textbf{e}_1) + v_2^2   & (\\textbf{e}_2 \\wedge \\textbf{e}_2) + v_2 (v_0 + \\alpha) & (\\textbf{e}_2 \\wedge \\textbf{e}_0) \\\\\n",
    "     && v_0 v_1 & (\\textbf{e}_0 \\wedge \\textbf{e}_1) + v_0 v_2 & (\\textbf{e}_0 \\wedge \\textbf{e}_2) + v_0 (v_0 + \\alpha) & (\\textbf{e}_0 \\wedge \\textbf{e}_0)\n",
    "\\end{aligned}\n",
    "$$\n",
    "\n",
    "$$\n",
    "    = (v_1 v_2 - v_2 v_1) \\textbf{e}_{12} + (v_1 (v_0 + \\alpha) - v_0 v_1) \\textbf{e}_{10} + (v_2 (v_0 + \\alpha) - v_0 v_2) \\textbf{e}_{20}\n",
    "$$\n",
    "\n",
    "$$\n",
    "    = (\\alpha v_1) \\textbf{e}_{10} + (\\alpha v_2) \\textbf{e}_{20}\n",
    "$$\n",
    "\n",
    "$$\n",
    "    = \\textbf{I} ( - v_2 \\textbf{e}_1 + v_1 \\textbf{e}_2 )\n",
    "$$\n",
    "\n",
    "This appears to be a point without an origin value $\\textbf{O} = \\textbf{e}_{12}$. This would be considered a \"Point at Infinity\". To visualize this, we can add an $\\textbf{O}$ back in and vary the scale of the origin point to see what happens to the point. As the scale of $\\textbf{O}$ goes to $0$, the point travels in the direction along both parallel lines away from the screen, into what we would call \"Infinity\"."
   ]
  },
  {
   "cell_type": "code",
   "execution_count": 13,
   "metadata": {},
   "outputs": [
    {
     "data": {
      "application/vnd.jupyter.widget-view+json": {
       "model_id": "0c507451026b45a198be8ba9e73011eb",
       "version_major": 2,
       "version_minor": 0
      },
      "text/plain": [
       "Canvas(height=600, layout=Layout(height='auto', width='auto'), width=800)"
      ]
     },
     "execution_count": 13,
     "metadata": {},
     "output_type": "execute_result"
    }
   ],
   "source": [
    "v = -4/5 * e1 + 1/5 * e2 + 50 * e0\n",
    "a = 100\n",
    "\n",
    "# Intersection between parallel lines\n",
    "d = v ^ (v + a * e0)\n",
    "\n",
    "# The trend towards infinity as O gets closer to 0\n",
    "ps = np.linspace(1, 0, 8)*O + d\n",
    "\n",
    "pga_context().draw(v, (v + a*e0), *ps).canvas"
   ]
  },
  {
   "cell_type": "markdown",
   "metadata": {},
   "source": [
    "### Join two points: Vee Product\n",
    "\n",
    "Find the line passing through two points using the regressive (or vee) product: $\\vee$"
   ]
  },
  {
   "cell_type": "code",
   "execution_count": 14,
   "metadata": {},
   "outputs": [
    {
     "name": "stdout",
     "output_type": "stream",
     "text": [
      "p1: (90^e01) + (40^e02) + (1^e12)\n",
      "p2: -(10^e01) - (100^e02) + (1^e12)\n",
      "v: -(8600^e0) + (100^e1) + (140^e2)\n"
     ]
    },
    {
     "data": {
      "application/vnd.jupyter.widget-view+json": {
       "model_id": "eb4bfba36b6f415190738bacfad1e28a",
       "version_major": 2,
       "version_minor": 0
      },
      "text/plain": [
       "Canvas(height=600, layout=Layout(height='auto', width='auto'), width=800)"
      ]
     },
     "execution_count": 14,
     "metadata": {},
     "output_type": "execute_result"
    }
   ],
   "source": [
    "p1 = O + I*(-40*e1 + 90*e2)\n",
    "p2 = O + I*(100*e1 - 10*e2)\n",
    "v = p1 & p2\n",
    "print('p1:', p1)\n",
    "print('p2:', p2)\n",
    "print('v:', v)\n",
    "\n",
    "pga_context().draw(v, p1, p2).canvas"
   ]
  },
  {
   "cell_type": "markdown",
   "metadata": {},
   "source": [
    "### Join two points Pt. 2: Computing the distance\n",
    "\n",
    "Since scalar multiples of PGA objects don't affect the geometry of that object, they offer a gauge symmetry that can actually be useful in encoding information within that objects. This gives the join operator another trick up it's sleeve. The operation not only produces the line between two points, the resulting line is scaled by the distance between the two points! To see this, we should first remind ourselves of the classical distance given two points: $P_a = (x_a,\\ y_a)$ and $P_b = (x_b,\\ y_b)$. We will focus on the squared distance for now since finding the actual distance after that is trivial.\n",
    "\n",
    "$$\n",
    "    \\text{dist}\\left(P_b,\\ P_a\\right)^2 = |x_b - x_a|^2 + |y_b - y_a|^2\n",
    "$$\n",
    "\n",
    "Now let's convert to PGA use the join operator and focus it's effects on the basis vectors. \n",
    "\n",
    "$$\n",
    "\\begin{align*}\n",
    "     P_a &\\rightarrow \\textbf{P}_a &= x_a \\textbf{e}_{20} + y_a \\textbf{e}_{01} + \\textbf{e}_{12} \\\\\n",
    "     P_b &\\rightarrow \\textbf{P}_b &= x_b \\textbf{e}_{20} + y_b \\textbf{e}_{01} + \\textbf{e}_{12} \n",
    "\\end{align*}\n",
    "$$\n",
    "\n",
    "\n",
    "The join operator $\\vee$ can actually be computed using the meet $\\wedge$ of the duals of the basis multivectors. The dual (in PGA) of a basis multivector $\\textbf{X}$ is another multivector $\\star\\textbf{X}$ which, in a geometric product with $\\textbf{X}$ produces the unit pseudoscalar $\\textbf{I} = \\textbf{e}_{012}$. For example: the dual of $\\textbf{e}_{20}$ labeled ($\\star \\textbf{e}_{20}$) will be $\\textbf{e}_1$, since $\\textbf{e}_{20} \\textbf{e}_1 = \\textbf{e}_{201} = \\textbf{e}_{012} = \\textbf{I}$. Given that, the join operation $\\textbf{X} \\vee \\textbf{Y}$ can be expressed as $\\star\\left(\\star\\textbf{X} \\wedge \\star\\textbf{Y}\\right)$. It's important to note that the join (along with the meet, the dot product, and the geometric product for that matter) are all bilinear operations, meaning that the join of two linear combinations of basis vectors can be computed if you know the joins of the individual pairs of basis vectors.\n",
    "\n",
    "$$\n",
    "\\begin{align*}\n",
    "    \\textbf{P}_a \\vee \\textbf{P}_b &= \\star\\left(\\star\\textbf{P}_a \\wedge \\star\\textbf{P}_b\\right) \\\\\n",
    "    &= \\star\\left(\\star \\left(x_a \\textbf{e}_{20} + y_a \\textbf{e}_{01} + \\textbf{e}_{12}\\right) \\wedge \\star \\left(x_b \\textbf{e}_{20} + y_b \\textbf{e}_{01} + \\textbf{e}_{12}\\right) \\right) \\\\\n",
    "    &= \\star \\left( \\left(x_a \\textbf{e}_{1} + y_a \\textbf{e}_{2} + \\textbf{e}_{0}\\right) \\wedge \\left(x_b \\textbf{e}_{1} + y_b \\textbf{e}_{2} + \\textbf{e}_{0}\\right) \\right)\n",
    "\\end{align*}\n",
    "$$\n",
    "\n",
    "Compute the wedge products between the duals:\n",
    "\n",
    "$$\n",
    "\\begin{align*}\n",
    "      \\left(x_a \\textbf{e}_{1} + y_a \\textbf{e}_{2} + \\textbf{e}_{0}\\right) \\wedge \\left(x_b \\textbf{e}_{1} + y_b \\textbf{e}_{2} + \\textbf{e}_{0}\\right)\n",
    "    &= x_a x_b \\left( \\textbf{e}_{1} \\wedge \\textbf{e}_{1} \\right) \n",
    "    + x_a y_b \\left( \\textbf{e}_{1} \\wedge \\textbf{e}_{2} \\right) \n",
    "    + x_a \\left( \\textbf{e}_{1} \\wedge \\textbf{e}_{0} \\right) \\\\   \n",
    "    &+ y_a x_b \\left( \\textbf{e}_{2} \\wedge \\textbf{e}_{1} \\right) \n",
    "    + y_a y_b \\left( \\textbf{e}_{2} \\wedge \\textbf{e}_{2} \\right) \n",
    "    +     y_a \\left( \\textbf{e}_{2} \\wedge \\textbf{e}_{0} \\right) \\\\   \n",
    "    &+     x_b \\left( \\textbf{e}_{0} \\wedge \\textbf{e}_{1} \\right) \n",
    "    +     y_b \\left( \\textbf{e}_{0} \\wedge \\textbf{e}_{2} \\right) \n",
    "    +         \\left( \\textbf{e}_{0} \\wedge \\textbf{e}_{0} \\right) \\\\ \n",
    "    &= \\left( x_a y_b - x_b y_a \\right) \\textbf{e}_{12}\n",
    "     + \\left( y_a - y_b \\right) \\textbf{e}_{20}\n",
    "     + \\left( x_b - x_a \\right) \\textbf{e}_{01}\n",
    "\\end{align*}\n",
    "$$\n",
    "\n",
    "Now take the dual of the result\n",
    "\n",
    "$$\n",
    "\\begin{align*}\n",
    "\\star \\left( \\left( x_a y_b - x_b y_a \\right) \\textbf{e}_{12}\n",
    "     + \\left( y_a - y_b \\right) \\textbf{e}_{20}\n",
    "     + \\left( x_b - x_a \\right) \\textbf{e}_{01} \\right) \\\\\n",
    "= \\left( x_a y_b - x_b y_a \\right) \\textbf{e}_{0}\n",
    "     + \\left( y_a - y_b \\right) \\textbf{e}_{1}\n",
    "     + \\left( x_b - x_a \\right) \\textbf{e}_{2}\n",
    "\\end{align*}\n",
    "$$\n",
    "\n",
    "If we take the geometric product of this line with itself, the result is the magnitude squared of the vector.\n",
    "\n",
    "$$\n",
    "\\left( \\left( x_a y_b - x_b y_a \\right) \\textbf{e}_{0}\n",
    "     + \\left( y_a - y_b \\right) \\textbf{e}_{1}\n",
    "     + \\left( x_b - x_a \\right) \\textbf{e}_{2} \\right) ^ 2 \\\\\n",
    "= \\left( y_a - y_b \\right)^2 + \\left( x_b - x_a \\right)^2 \\\\\n",
    "= |x_b - x_a|^2 + |y_b - y_a|^2\n",
    "$$\n",
    "\n",
    "So as a result, if we want to compute the distance between two points, we join the line between them and compute the magnitude of the line!\n",
    "\n",
    "$$\n",
    "     \\text{dist}(P_b,\\ P_a)^2 = ||\\textbf{P}_b \\vee \\textbf{P}_a||^2\n",
    "$$"
   ]
  },
  {
   "cell_type": "code",
   "execution_count": 15,
   "metadata": {},
   "outputs": [
    {
     "name": "stdout",
     "output_type": "stream",
     "text": [
      "p1: (90^e01) + (100^e02) + (1^e12)\n",
      "p2: -(10^e01) - (100^e02) + (1^e12)\n",
      "p3: (120^e01) - (190^e02) + (1^e12)\n",
      "v1: -(8000^e0) + (100^e1) + (200^e2)\n",
      "v2: -(29100^e0) - (30^e1) + (290^e2)\n",
      "v3: (13900^e0) - (130^e1) + (90^e2)\n",
      "dist(p1, p2)^2: 50000\n",
      "dist(p1, p3)^2: 85000\n",
      "dist(p2, p3)^2: 25000\n"
     ]
    },
    {
     "data": {
      "application/vnd.jupyter.widget-view+json": {
       "model_id": "2d7a1ee7a1f24525a46c89aba9fa503f",
       "version_major": 2,
       "version_minor": 0
      },
      "text/plain": [
       "Canvas(height=600, layout=Layout(height='auto', width='auto'), width=800)"
      ]
     },
     "execution_count": 15,
     "metadata": {},
     "output_type": "execute_result"
    }
   ],
   "source": [
    "p1 = O + I*(-100*e1 + 90*e2)\n",
    "p2 = O + I*(100*e1 - 10*e2)\n",
    "p3 = O + I*(190*e1 + 120*e2)\n",
    "v12 = p1 & p2\n",
    "v13 = p1 & p3\n",
    "v23 = p2 & p3\n",
    "print('p1:', p1)\n",
    "print('p2:', p2)\n",
    "print('p3:', p3)\n",
    "print('v1:', v12)\n",
    "print('v2:', v13)\n",
    "print('v3:', v23)\n",
    "print('dist(p1, p2)^2:', v12.mag2())\n",
    "print('dist(p1, p3)^2:', v13.mag2())\n",
    "print('dist(p2, p3)^2:', v23.mag2())\n",
    "\n",
    "pga_context().draw(v12, v13, v23, p1, p2, p3).canvas"
   ]
  },
  {
   "cell_type": "markdown",
   "metadata": {},
   "source": [
    "### Perpendicular lines: Dot Product\n",
    "\n",
    "Normally the dot product between two vectors returns a scalar value indicating the alignment and magnitude between lines. However, the dot product between a vector $\\textbf{v}$ and a bivector $\\textbf{P}$ returns a vector which will actually be the line perpendicular to $\\textbf{v}$ passing through $\\textbf{P}$\n",
    "\n",
    "$$\n",
    "    \\textbf{v} \\cdot \\textbf{P}\n",
    "$$"
   ]
  },
  {
   "cell_type": "code",
   "execution_count": 16,
   "metadata": {},
   "outputs": [
    {
     "name": "stdout",
     "output_type": "stream",
     "text": [
      "v: (270^e0) - (1^e1) + (2^e2)\n",
      "p: (5^e01) - (40^e02) + (1^e12)\n",
      "vp: (85^e0) - (2^e1) - (1^e2)\n"
     ]
    },
    {
     "data": {
      "application/vnd.jupyter.widget-view+json": {
       "model_id": "0e945b52a2c94afca7ac8baef0a0f17a",
       "version_major": 2,
       "version_minor": 0
      },
      "text/plain": [
       "Canvas(height=600, layout=Layout(height='auto', width='auto'), width=800)"
      ]
     },
     "execution_count": 16,
     "metadata": {},
     "output_type": "execute_result"
    }
   ],
   "source": [
    "v = - 1*e1 + 2*e2 + 270*e0\n",
    "p = O + I*(40*e1 + 5*e2)\n",
    "vp = v | p\n",
    "print('v:',   v)\n",
    "print('p:',   p)\n",
    "print('vp:', vp)\n",
    "\n",
    "pga_context().draw(v, vp, p).canvas"
   ]
  },
  {
   "cell_type": "markdown",
   "metadata": {},
   "source": [
    "### Projections\n",
    "\n",
    "Project a point $\\textbf{P}$ onto a line $\\textbf{v}$ using the formula: \n",
    "\n",
    "$$\n",
    "    \\frac{\\textbf{v} \\cdot \\textbf{P}}{\\textbf{v}}\n",
    "$$"
   ]
  },
  {
   "cell_type": "code",
   "execution_count": 17,
   "metadata": {},
   "outputs": [
    {
     "name": "stdout",
     "output_type": "stream",
     "text": [
      "v: (270^e0) - (1^e1) + (2^e2)\n",
      "p: (5^e01) - (40^e02) + (1^e12)\n",
      "p on v: (91.0^e01) + (88.0^e02) - (1.0^e12)\n"
     ]
    },
    {
     "data": {
      "application/vnd.jupyter.widget-view+json": {
       "model_id": "3cdb0dc1c70d48b88415f3ac8715923c",
       "version_major": 2,
       "version_minor": 0
      },
      "text/plain": [
       "Canvas(height=600, layout=Layout(height='auto', width='auto'), width=800)"
      ]
     },
     "execution_count": 17,
     "metadata": {},
     "output_type": "execute_result"
    }
   ],
   "source": [
    "v = - 1*e1 + 2*e2 + 270*e0\n",
    "p = O + I*(40*e1 + 5*e2)\n",
    "ponv = (v | p) / v\n",
    "print('v:', v)\n",
    "print('p:', p)\n",
    "print('p on v:', ponv)\n",
    "\n",
    "pga_context().draw(v, p, ponv).canvas"
   ]
  },
  {
   "cell_type": "markdown",
   "metadata": {},
   "source": [
    "You can also use the same formula to project a line $\\textbf{v}$ onto a point $\\textbf{P}$ using the following:\n",
    "\n",
    "$$\n",
    "\\frac{\\textbf{v} \\cdot \\textbf{P}}{\\textbf{P}}\n",
    "$$"
   ]
  },
  {
   "cell_type": "code",
   "execution_count": 18,
   "metadata": {},
   "outputs": [
    {
     "name": "stdout",
     "output_type": "stream",
     "text": [
      "v: (270^e0) - (1^e1) + (2^e2)\n",
      "p: (5^e01) - (40^e02) + (1^e12)\n",
      "v on p: (30.0^e0) - (1.0^e1) + (2.0^e2)\n"
     ]
    },
    {
     "data": {
      "application/vnd.jupyter.widget-view+json": {
       "model_id": "b33272fe3b4847819869998fa60f6a08",
       "version_major": 2,
       "version_minor": 0
      },
      "text/plain": [
       "Canvas(height=600, layout=Layout(height='auto', width='auto'), width=800)"
      ]
     },
     "execution_count": 18,
     "metadata": {},
     "output_type": "execute_result"
    }
   ],
   "source": [
    "v = - 1*e1 + 2*e2 + 270*e0\n",
    "p = O + I*(40*e1 + 5*e2)\n",
    "vonp = (v | p) / p\n",
    "print('v:', v)\n",
    "print('p:', p)\n",
    "print('v on p:', vonp)\n",
    "\n",
    "pga_context().draw(v, vonp, p).canvas"
   ]
  },
  {
   "cell_type": "markdown",
   "metadata": {},
   "source": [
    "### Midpoints\n",
    "\n",
    "Find the midpoint between two points: just add them!"
   ]
  },
  {
   "cell_type": "code",
   "execution_count": 19,
   "metadata": {},
   "outputs": [
    {
     "name": "stdout",
     "output_type": "stream",
     "text": [
      "p1: (90^e01) + (40^e02) + (1^e12)\n",
      "p2: -(10^e01) - (100^e02) + (1^e12)\n",
      "pM: (80^e01) - (60^e02) + (2^e12) normalized: (40.0^e01) - (30.0^e02) + (1.0^e12)\n"
     ]
    },
    {
     "data": {
      "application/vnd.jupyter.widget-view+json": {
       "model_id": "61149848b5994f03bf25af35a9cae5dc",
       "version_major": 2,
       "version_minor": 0
      },
      "text/plain": [
       "Canvas(height=600, layout=Layout(height='auto', width='auto'), width=800)"
      ]
     },
     "execution_count": 19,
     "metadata": {},
     "output_type": "execute_result"
    }
   ],
   "source": [
    "p1 = O + I*( -40*e1 + 90*e2 )\n",
    "p2 = O + I*( 100*e1 - 10*e2 )\n",
    "pM = p1 + p2\n",
    "print('p1:', p1)\n",
    "print('p2:', p2)\n",
    "print('pM:', pM, 'normalized:', pM/pM[e12])\n",
    "\n",
    "pga_context().draw(p1, p2, pM).canvas"
   ]
  },
  {
   "cell_type": "markdown",
   "metadata": {},
   "source": [
    "## Transformations of Objects\n",
    "\n",
    "### Reflection\n",
    "\n",
    "The simplest transformation of objects in 2D PGA is a reflection. In fact, all transformations can be modeled by composing reflections, as will be seen below. Reflections are modeled entirely with the line of reflection $\\textbf{v}$. Any PGA object (be it points or lines), can be reflected over such a line with the following formula:\n",
    "\n",
    "$$\n",
    "    P \\rightarrow \\tilde{\\textbf{v}} P \\textbf{v}\n",
    "$$\n",
    "\n",
    "$\\tilde{\\textbf{v}}$ in this case is known as the \"reverse\" operator. It will be apparent what this means in later cells"
   ]
  },
  {
   "cell_type": "code",
   "execution_count": 20,
   "metadata": {},
   "outputs": [
    {
     "data": {
      "application/vnd.jupyter.widget-view+json": {
       "model_id": "eb26825a07044e9cb73c1808439f234a",
       "version_major": 2,
       "version_minor": 0
      },
      "text/plain": [
       "Canvas(height=600, layout=Layout(height='auto', width='auto'), width=800)"
      ]
     },
     "execution_count": 20,
     "metadata": {},
     "output_type": "execute_result"
    }
   ],
   "source": [
    "obj = cl.array([\n",
    "    O + I*(20*e1 - 40*e2),\n",
    "    O + I*(40*e1 + 40*e2),\n",
    "    O + I*(80*e1 - 30*e2)\n",
    "])\n",
    "v = 3*e1 - 1*e2 - 400*e0\n",
    "ref = ~v * obj * v\n",
    "\n",
    "ctx = pga_context()\n",
    "ctx.draw(v)\n",
    "ctx.draw_polygon(obj, color='green', line_width=2.0)\n",
    "ctx.draw_polygon(ref, color='orange', line_width=2.0)\n",
    "ctx.canvas"
   ]
  },
  {
   "cell_type": "markdown",
   "metadata": {},
   "source": [
    "### Rotation\n",
    "\n",
    "If we take two lines $\\textbf{v}$ and $\\textbf{u}$ which intersect at a point $\\textbf{u} \\wedge \\textbf{v}$, we will do two reflections. The result of this will actually be a rotation around $\\textbf{u} \\wedge \\textbf{v}$. The rotation angle will be twice the angle between lines $\\textbf{v}$ and $\\textbf{u}$.\n",
    "\n",
    "$$\n",
    "    \\textbf{P} \\rightarrow \\tilde{\\textbf{v}} \\tilde{\\textbf{u}} \\textbf{P} \\textbf{u} \\textbf{v}\n",
    "$$\n",
    "\n",
    "We can do the reflections independently as above, or we can combine the lines $\\textbf{u}$ and $\\textbf{v}$ with the geometric product $\\textbf{u}\\textbf{v}$. This produces an object $\\textbf{m}$ called a _motor_. \n",
    "\n",
    "$$\n",
    "    \\textbf{m} = \\textbf{u}\\textbf{v}\n",
    "$$\n",
    "\n",
    "It's important to note that this is different from simply the point $\\textbf{u} \\wedge \\textbf{v}$, as it contains more information regarding the rotation action.\n",
    "\n",
    "The reverse operator $\\tilde{\\textbf{m}}$ can actually be understood algebraically as taking the product $\\textbf{u}\\textbf{v}$ and reversing the order of the terms in the product (while also computing the reverses of the terms)\n",
    "\n",
    "$$\n",
    "    \\tilde{\\textbf{m}} = \\tilde{\\textbf{v}}\\tilde{\\textbf{u}}\n",
    "$$\n",
    "\n",
    "The above operation can be simplified to just using the motor\n",
    "\n",
    "$$\n",
    "    \\textbf{P} \\rightarrow \\tilde{\\textbf{m}} \\textbf{P} \\textbf{m}\n",
    "$$"
   ]
  },
  {
   "cell_type": "code",
   "execution_count": 21,
   "metadata": {},
   "outputs": [
    {
     "name": "stdout",
     "output_type": "stream",
     "text": [
      "Point P: (900^e01) + (800^e02) - (5^e12)\n",
      "Motor m: 5 + (900^e01) + (800^e02) - (5^e12)\n"
     ]
    },
    {
     "data": {
      "application/vnd.jupyter.widget-view+json": {
       "model_id": "e71aed8937dd4afdb21853eb2d2aa183",
       "version_major": 2,
       "version_minor": 0
      },
      "text/plain": [
       "Canvas(height=600, layout=Layout(height='auto', width='auto'), width=800)"
      ]
     },
     "execution_count": 21,
     "metadata": {},
     "output_type": "execute_result"
    }
   ],
   "source": [
    "obj = cl.array([\n",
    "    O + I*(20*e1 - 40*e2),\n",
    "    O + I*(40*e1 + 40*e2),\n",
    "    O + I*(80*e1 - 30*e2)\n",
    "])\n",
    "\n",
    "v = -2*e1 + 1*e2 + 500*e0\n",
    "u = -3*e1 - 1*e2 + 300*e0\n",
    "m = u*v\n",
    "p = u ^ v\n",
    "print('Point P:', p)\n",
    "print('Motor m:', m)\n",
    "\n",
    "ref = ~u*obj*u\n",
    "rot = ~m*obj*m\n",
    "\n",
    "ctx = pga_context()\n",
    "ctx.draw(u, v, p)\n",
    "ctx.draw_polygon(obj, color='green', line_width=2.0)\n",
    "ctx.draw_polygon(ref, color='#ccc', line_width=1.0)\n",
    "ctx.draw_polygon(rot, color='orange', line_width=2.0)\n",
    "ctx.canvas"
   ]
  },
  {
   "cell_type": "markdown",
   "metadata": {},
   "source": [
    "### Translations\n",
    "\n",
    "Parallel lines intersect at infinity. If we take the geometric product of two parallel lines $\\textbf{v}$ and $\\textbf{u} = \\textbf{v} + \\alpha \\textbf{e}_0$, the resulting motor will be a rotation around a point at infinity. In other words: a translation\n",
    "\n",
    "In PGA, all motion (translation and rotation) is modeled as a rotation around a point, either on screen or at infinity.\n",
    "\n",
    "$$\n",
    "    \\textbf{m} = \\textbf{v} (\\textbf{v} + \\alpha \\textbf{e}_0)\n",
    "$$\n",
    "\n",
    "$$\n",
    "    \\textbf{P} \\rightarrow \\tilde{\\textbf{m}} \\textbf{P} \\textbf{m}\n",
    "$$"
   ]
  },
  {
   "cell_type": "code",
   "execution_count": 22,
   "metadata": {},
   "outputs": [
    {
     "name": "stdout",
     "output_type": "stream",
     "text": [
      "Point P: (46.67^e01) - (23.33^e02)\n",
      "Motor m: 0.56 + (46.67^e01) - (23.33^e02)\n"
     ]
    },
    {
     "data": {
      "application/vnd.jupyter.widget-view+json": {
       "model_id": "07cf3f22d8a6456f9c35ecdc3e216184",
       "version_major": 2,
       "version_minor": 0
      },
      "text/plain": [
       "Canvas(height=600, layout=Layout(height='auto', width='auto'), width=800)"
      ]
     },
     "execution_count": 22,
     "metadata": {},
     "output_type": "execute_result"
    }
   ],
   "source": [
    "obj = cl.array([\n",
    "    O + I*(20*e1 - 40*e2),\n",
    "    O + I*(40*e1 + 40*e2),\n",
    "    O + I*(80*e1 - 30*e2)\n",
    "])\n",
    "\n",
    "u = 2/3*e1 - 1/3*e2 - 70*e0\n",
    "v = u - 70*e0\n",
    "m = u*v\n",
    "p = u ^ v\n",
    "print('Point P:', p)\n",
    "print('Motor m:', m)\n",
    "\n",
    "ref = ~u*obj*u\n",
    "trs = ~m*obj*m\n",
    "\n",
    "ctx = pga_context()\n",
    "ctx.draw(u, v, p)\n",
    "ctx.draw_polygon(obj, color='green', line_width=2.0)\n",
    "ctx.draw_polygon(ref, color='#ccc', line_width=1.0)\n",
    "ctx.draw_polygon(trs, color='orange', line_width=2.0)\n",
    "ctx.canvas"
   ]
  },
  {
   "cell_type": "markdown",
   "metadata": {},
   "source": [
    "### General Motion\n",
    "\n",
    "A generic motor can be made using the exponential operation. Take any bivector $\\textbf{P}$ (either a regular point or a point at infinity, considered the axis of rotation/translation) and scale it by a factor proportional to half the angle of rotation (or distance of translation) to be performed and raise $e$ to the result\n",
    "\n",
    "$$\n",
    "    \\textbf{m} = e^{\\frac{\\theta}{2} \\textbf{P}}\n",
    "$$\n",
    "\n",
    "The benefit of this is that combinations of rotations and translations can be modeled as a single rotation around an offset axis"
   ]
  },
  {
   "cell_type": "code",
   "execution_count": 23,
   "metadata": {},
   "outputs": [
    {
     "data": {
      "application/vnd.jupyter.widget-view+json": {
       "model_id": "4e110419078c483ba9bb6fd1936220b2",
       "version_major": 2,
       "version_minor": 0
      },
      "text/plain": [
       "Canvas(height=600, layout=Layout(height='auto', width='auto'), width=800)"
      ]
     },
     "execution_count": 23,
     "metadata": {},
     "output_type": "execute_result"
    }
   ],
   "source": [
    "obj = cl.array([\n",
    "    O + I*(20*e1 - 40*e2),\n",
    "    O + I*(40*e1 + 40*e2),\n",
    "    O + I*(80*e1 - 30*e2)\n",
    "])\n",
    "\n",
    "p = O + I*(100*e1 + 200*e2)\n",
    "angle = 45 * np.pi/180\n",
    "\n",
    "m = (angle/2 * p).exp()\n",
    "mot = ~m*obj*m\n",
    "\n",
    "ctx = pga_context()\n",
    "ctx.draw(p)\n",
    "ctx.draw_polygon(obj, color='green', line_width=2.0)\n",
    "ctx.draw_polygon(mot, color='orange', line_width=2.0)\n",
    "ctx.canvas"
   ]
  },
  {
   "cell_type": "markdown",
   "metadata": {},
   "source": [
    "## Rendering\n",
    "\n",
    "PGA is powerful enough that many rendering tasks can be achieved through PGA operations. In fact, the above demos have been drawn largely using PGA!"
   ]
  },
  {
   "cell_type": "code",
   "execution_count": 24,
   "metadata": {},
   "outputs": [
    {
     "data": {
      "application/vnd.jupyter.widget-view+json": {
       "model_id": "46579b6319714232a6e5455f5a75f282",
       "version_major": 2,
       "version_minor": 0
      },
      "text/plain": [
       "Canvas(height=600, layout=Layout(height='auto', width='auto'), width=800)"
      ]
     },
     "execution_count": 24,
     "metadata": {},
     "output_type": "execute_result"
    }
   ],
   "source": [
    "pga_debug_context().canvas"
   ]
  },
  {
   "cell_type": "markdown",
   "metadata": {},
   "source": [
    "### Drawing Lines\n",
    "\n",
    "For an infinite line, given that the two ends of the line are known, we can use common algorithms like bresnaham's line algorithm to draw the line between the ends. \n",
    "\n",
    "Now for finding the ends of a line, what if we considered the bounds of the screen to themselves be PGA lines. Then we can simply compute the intersection of our line with each of the boundaries to get the points needed to draw the full line.\n",
    "\n",
    "This will however find four points. We will need the two points within the screen, so we can use the distance formula described above to find the two closest points relative to the center. These will be the boundaries of our lines"
   ]
  },
  {
   "cell_type": "code",
   "execution_count": 25,
   "metadata": {},
   "outputs": [
    {
     "data": {
      "application/vnd.jupyter.widget-view+json": {
       "model_id": "d4176521752940caac8ab1a35a2e1f99",
       "version_major": 2,
       "version_minor": 0
      },
      "text/plain": [
       "Canvas(height=600, layout=Layout(height='auto', width='auto'), width=800)"
      ]
     },
     "execution_count": 25,
     "metadata": {},
     "output_type": "execute_result"
    }
   ],
   "source": [
    "width = 600\n",
    "height = 400\n",
    "\n",
    "bounds = cl.array([\n",
    "     e1 - width//2*e0,\n",
    "    -e1 - width//2*e0,\n",
    "     e2 - height//2*e0,\n",
    "    -e2 - height//2*e0\n",
    "])\n",
    "v = 1.125*e1 - 2*e2 + 200*e0\n",
    "intersects = v ^ bounds\n",
    "\n",
    "ctx = pga_context()\n",
    "for b in bounds:\n",
    "    ctx.draw_line(b, color='#ccc')\n",
    "ctx.draw_line(v, color='#9999ff')\n",
    "for i in intersects:\n",
    "    if i[e12] != 0:\n",
    "        ctx.draw_circle(i, color='#ff99ff', radius=5)\n",
    "a, b = sorted(intersects, key=lambda a: (e12 & a.normal()).mag2())[:2]\n",
    "q = ctx._reference_motor()\n",
    "ctx._draw_line_segment(~q*a*q, ~q*b*q, color='#0000ff')\n",
    "ctx.draw_circle(a, color='#ff00ff', radius=7)\n",
    "ctx.draw_circle(b, color='#ff00ff', radius=7)\n",
    "ctx.draw_circle(e12, color='#999', radius=5)\n",
    "ctx.canvas"
   ]
  }
 ],
 "metadata": {
  "kernelspec": {
   "display_name": "Python 3 (ipykernel)",
   "language": "python",
   "name": "python3"
  },
  "language_info": {
   "codemirror_mode": {
    "name": "ipython",
    "version": 3
   },
   "file_extension": ".py",
   "mimetype": "text/x-python",
   "name": "python",
   "nbconvert_exporter": "python",
   "pygments_lexer": "ipython3",
   "version": "3.12.3"
  }
 },
 "nbformat": 4,
 "nbformat_minor": 4
}
