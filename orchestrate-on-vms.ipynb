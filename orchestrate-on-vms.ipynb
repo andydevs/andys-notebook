{
 "cells": [
  {
   "cell_type": "markdown",
   "id": "34db3781-857b-49bb-9749-560f3946aa01",
   "metadata": {},
   "source": [
    "# Orchestrating Script on Multiple Virtual Machines\n",
    "\n",
    "Learning how to run a script on a bunch of virtual machines programatically from a central controller machine. Hypothetically I could use this to divide work for a complex task among multiple machines. I'll be using ssh to communicate with the machines"
   ]
  },
  {
   "cell_type": "code",
   "execution_count": null,
   "id": "94dd3d9c-94c5-41c7-a30b-60c7ccb0af36",
   "metadata": {},
   "outputs": [],
   "source": [
    "import paramiko\n",
    "import time\n",
    "import codecs\n",
    "import os\n",
    "import stat\n",
    "from random import randint\n",
    "import concurrent.futures\n",
    "\n",
    "# Here would be the ip addresses for our workers\n",
    "workers = [\n",
    "\n",
    "]\n",
    "\n",
    "bufsize = int(2**16)"
   ]
  },
  {
   "cell_type": "markdown",
   "id": "9ddcbc8c-2ab0-44ce-9848-f86272a13a51",
   "metadata": {},
   "source": [
    "Connect to server and execute some commands in an interactive shell"
   ]
  },
  {
   "cell_type": "code",
   "execution_count": null,
   "id": "91468846-ccac-4abb-99cf-651daeef23bd",
   "metadata": {},
   "outputs": [],
   "source": [
    "commands = [\n",
    "    'cd workerdir',\n",
    "    'ls -a']\n",
    "\n",
    "# Run commands in ssh client\n",
    "client = paramiko.client.SSHClient()\n",
    "client.load_system_host_keys()\n",
    "client.connect(workers[0], username='worker')\n",
    "shell = client.invoke_shell()\n",
    "time.sleep(0.1)\n",
    "banner_out = shell.recv(bufsize)\n",
    "banner_out = codecs.decode(banner_out, 'utf-8')\n",
    "output = banner_out\n",
    "for command in commands:\n",
    "    command_enc = codecs.encode(command + '\\n', 'utf-8')\n",
    "    shell.send(command_enc)\n",
    "    time.sleep(0.1)\n",
    "    command_out = shell.recv(bufsize)\n",
    "    command_out = codecs.decode(command_out, 'utf-8')\n",
    "    output += command_out\n",
    "client.close()\n",
    "\n",
    "# Get output\n",
    "print(output)"
   ]
  },
  {
   "cell_type": "markdown",
   "id": "461efe4c-08b6-4e87-9581-a4643d702e6c",
   "metadata": {},
   "source": [
    "Transfer a script to the worker"
   ]
  },
  {
   "cell_type": "code",
   "execution_count": null,
   "id": "4d641a67-0bf8-44e3-81c7-40c5c4428969",
   "metadata": {},
   "outputs": [],
   "source": [
    "client = paramiko.client.SSHClient()\n",
    "client.load_system_host_keys()\n",
    "client.connect(workers[0], username='worker')\n",
    "sftp = client.open_sftp()\n",
    "time.sleep(0.1)\n",
    "stats = sftp.put('worker-script.py', 'workerdir/worker-script.py')\n",
    "client.close()"
   ]
  },
  {
   "cell_type": "markdown",
   "id": "e492f5f4-831c-4913-96d1-8fe80221fb97",
   "metadata": {},
   "source": [
    "Run script on worker"
   ]
  },
  {
   "cell_type": "code",
   "execution_count": null,
   "id": "950bd587-1fcd-492c-943c-c9f1da324f1d",
   "metadata": {},
   "outputs": [],
   "source": [
    "# Random nth prime number to find\n",
    "n = randint(2100, 2800)\n",
    "\n",
    "# Run on worker\n",
    "client = paramiko.client.SSHClient()\n",
    "client.load_system_host_keys()\n",
    "client.connect(workers[0], username='worker')\n",
    "stdin, stdout, stderr = client.exec_command(f'python workerdir/worker-script.py {n} > workerdir/result.txt')\n",
    "stdout.channel.recv_exit_status()\n",
    "sftp = client.open_sftp()\n",
    "with sftp.open('workerdir/result.txt', 'r') as f:\n",
    "    data = f.read()\n",
    "    data = codecs.decode(data, 'utf-8')\n",
    "client.close()\n",
    "number = int(data)\n",
    "\n",
    "# Return number\n",
    "print(number)"
   ]
  },
  {
   "cell_type": "markdown",
   "id": "0e2fab0d-57db-4712-a5c1-63d7ba455f1b",
   "metadata": {},
   "source": [
    "Now do this concurrently"
   ]
  },
  {
   "cell_type": "code",
   "execution_count": null,
   "id": "b546f5e2-5a26-4a22-9a9d-a97ec37134f0",
   "metadata": {},
   "outputs": [],
   "source": [
    "# Create array of nth prime numbers to find\n",
    "nth_primes = [\n",
    "    randint(2100, 3200)\n",
    "    for _ in range(9)\n",
    "]\n",
    "\n",
    "# Partition array\n",
    "nth_prime_partition = []\n",
    "for i, worker in enumerate(workers):\n",
    "    s = i*len(nth_primes)//len(workers)\n",
    "    e = (i + 1)*len(nth_primes)//len(workers)\n",
    "    nth_prime_partition.append((worker, nth_primes[s:e]))\n",
    "\n",
    "def generate_prime_number(worker, nth_primes):\n",
    "    \"\"\"\n",
    "    Generate prime numbers for worker\n",
    "    \n",
    "    :worker:     ip address of worker\n",
    "    :nth_primes: list of n'th prime numbers to find\n",
    "    \"\"\"\n",
    "    client = paramiko.client.SSHClient()\n",
    "    client.load_system_host_keys()\n",
    "    client.connect(worker, username='worker')\n",
    "    stdin, stdout, stderr = client.exec_command('rm -f workerdir/result.txt')\n",
    "    stdout.channel.recv_exit_status()\n",
    "    for n in nth_primes:\n",
    "        stdin, stdout, stderr = client.exec_command(f'python workerdir/worker-script.py {n} >> workerdir/result.txt')\n",
    "        stdout.channel.recv_exit_status()\n",
    "    sftp = client.open_sftp()\n",
    "    with sftp.open('workerdir/result.txt', 'r') as f:\n",
    "        data = f.read()\n",
    "        data = codecs.decode(data, 'utf-8')\n",
    "    client.close()\n",
    "    return [ int(num) for num in data.split('\\n') if num ]\n",
    "\n",
    "\n",
    "# Run commands on workers using separate threads\n",
    "with concurrent.futures.ThreadPoolExecutor(max_workers=len(workers)) as exe:\n",
    "    futures_with_workers = { \n",
    "        exe.submit(generate_prime_number, worker, nth_primes) : (worker, nth_primes) \n",
    "        for worker, nth_primes in nth_prime_partition }\n",
    "    for future in concurrent.futures.as_completed(futures_with_workers):\n",
    "        worker, nth_primes = futures_with_workers[future]\n",
    "        try:\n",
    "            primes = future.result()\n",
    "            print('Worker', worker, 'generated:')\n",
    "            for nth, prime in zip(nth_primes, primes):\n",
    "                print(f'\\t{nth} = {prime}')\n",
    "        except Exception as exc:\n",
    "            print('Worker', worker, 'resulted in error:', exc)"
   ]
  }
 ],
 "metadata": {
  "kernelspec": {
   "display_name": "Python 3 (ipykernel)",
   "language": "python",
   "name": "python3"
  },
  "language_info": {
   "codemirror_mode": {
    "name": "ipython",
    "version": 3
   },
   "file_extension": ".py",
   "mimetype": "text/x-python",
   "name": "python",
   "nbconvert_exporter": "python",
   "pygments_lexer": "ipython3",
   "version": "3.10.4"
  }
 },
 "nbformat": 4,
 "nbformat_minor": 5
}
