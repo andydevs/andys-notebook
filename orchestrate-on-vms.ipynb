{
 "cells": [
  {
   "cell_type": "markdown",
   "id": "34db3781-857b-49bb-9749-560f3946aa01",
   "metadata": {},
   "source": [
    "# Orchestrating Script on Multiple Virtual Machines\n",
    "\n",
    "Learning how to run a script on a bunch of virtual machines programatically from a central controller machine. Hypothetically I could use this to divide work for a complex task among multiple machines. I'll be using ssh to communicate with the machines"
   ]
  },
  {
   "cell_type": "code",
   "execution_count": 1,
   "id": "94dd3d9c-94c5-41c7-a30b-60c7ccb0af36",
   "metadata": {},
   "outputs": [
    {
     "name": "stdout",
     "output_type": "stream",
     "text": [
      "Nth Primes to Find: [7671, 6514, 7987, 3500, 7774, 8073, 2683, 3629, 6836, 7845, 7743, 5256, 3519, 6918, 2263, 1081, 6627, 5236, 1726, 4010, 4797, 5746, 7292, 8227, 4939, 2883, 8883, 9647, 3108, 4433, 7475, 1207, 9855, 7786, 2605, 7673, 8156, 2145, 1783, 5802, 6911, 2285, 1151, 3485, 8007, 5670, 4207, 4830, 7829, 9291, 6392, 7709, 4685, 7116, 4394, 8094, 7612, 4976, 7744, 3037, 4470, 1904, 5878, 4318, 4237, 3313, 2648, 2676, 1567, 1885, 2301, 5207, 3739, 1940, 3422, 6503, 8330, 4386, 6849, 9731, 8975, 6944, 6559, 8662, 7976, 4729, 5345, 9665, 7194, 9606, 9770, 8097, 2836, 4165, 6252, 1365, 7126, 7500, 5783, 7026]\n"
     ]
    }
   ],
   "source": [
    "import paramiko\n",
    "import time\n",
    "import codecs\n",
    "import os\n",
    "import stat\n",
    "from random import randint\n",
    "import concurrent.futures\n",
    "from linode_api4 import (LinodeClient, StackScript, Instance, Tag, Type, Region)\n",
    "from os import environ\n",
    "from dotenv import load_dotenv\n",
    "load_dotenv()\n",
    "bufsize = int(2**16)\n",
    "\n",
    "# Parameters\n",
    "num_workers = 3\n",
    "nth_primes = [\n",
    "    randint(1000, 10000)\n",
    "    for _ in range(100)\n",
    "]\n",
    "print('Nth Primes to Find:', nth_primes)\n",
    "\n",
    "# Linode client\n",
    "api_key = environ['LINODE_API_KEY']\n",
    "linode_client = LinodeClient(api_key)"
   ]
  },
  {
   "cell_type": "markdown",
   "id": "e6922e77-bdc2-4c62-8e7c-671988a6ac16",
   "metadata": {},
   "source": [
    "Can we access linode with the right credentials?"
   ]
  },
  {
   "cell_type": "code",
   "execution_count": 2,
   "id": "67aa7221-296e-4124-a056-9afe9ff3ba7b",
   "metadata": {},
   "outputs": [
    {
     "data": {
      "text/plain": [
       "User: anshulkharbanda"
      ]
     },
     "execution_count": 2,
     "metadata": {},
     "output_type": "execute_result"
    }
   ],
   "source": [
    "linode_client.account.users()[0]"
   ]
  },
  {
   "cell_type": "markdown",
   "id": "3c58889b-c7e3-41cb-8660-c0c72bb97182",
   "metadata": {},
   "source": [
    "To clean up our workspace, we'll delete old instances"
   ]
  },
  {
   "cell_type": "code",
   "execution_count": 3,
   "id": "77017a1e-d1f4-4f69-a9f6-772792440f46",
   "metadata": {},
   "outputs": [
    {
     "name": "stdout",
     "output_type": "stream",
     "text": [
      "0 Instance(s) deleted...\n"
     ]
    }
   ],
   "source": [
    "tag = next(tag for tag in linode_client.tags() if tag.label == 'worker')\n",
    "instances = [obj for obj in tag.objects if isinstance(obj, Instance)]\n",
    "for instance in instances:\n",
    "    instance.delete()\n",
    "print(f'{len(instances)} Instance(s) deleted...')"
   ]
  },
  {
   "cell_type": "markdown",
   "id": "52a99114-c887-46be-ad1d-0732f76ef391",
   "metadata": {},
   "source": [
    "We're interested in creating a few small worker nodes in the us-east region. Let's query linode with our requirements"
   ]
  },
  {
   "cell_type": "code",
   "execution_count": 4,
   "id": "fc7741e4-d8e0-4e66-8d65-a17f64d71c8e",
   "metadata": {},
   "outputs": [
    {
     "name": "stdout",
     "output_type": "stream",
     "text": [
      "StackScript: 1078791\n",
      "Image: linode/ubuntu22.04\n",
      "Type: g6-nanode-1\n",
      "Region: us-east\n"
     ]
    }
   ],
   "source": [
    "worker_script = linode_client.linode.stackscripts(StackScript.label == 'worker', mine_only=True)[0]\n",
    "image = next(image for image in worker_script.images if 'ubuntu22.04' in image.id)\n",
    "linode_type = linode_client.linode.types(Type.label.contains('nanode'))[0]\n",
    "region = next(region for region in linode_client.regions() if 'us-east' in region.id)\n",
    "print(worker_script, image, linode_type, region, sep='\\n')"
   ]
  },
  {
   "cell_type": "markdown",
   "id": "eb92f541-93e4-48f3-bf4d-8c28fb601012",
   "metadata": {},
   "source": [
    "Now we can create a series of workers using these objects"
   ]
  },
  {
   "cell_type": "code",
   "execution_count": 5,
   "id": "6cf8f667-a7ff-44d1-ba81-c1e0a450f8cd",
   "metadata": {},
   "outputs": [
    {
     "name": "stdout",
     "output_type": "stream",
     "text": [
      "Instance: 39786633\n",
      "Instance: 39786635\n",
      "Instance: 39786639\n",
      "Waiting for instances to setup...\n",
      "Aight, we prolly good\n"
     ]
    }
   ],
   "source": [
    "_passwords = [] # Hopefully we won't need this :-\\\n",
    "\n",
    "# Create the workers\n",
    "workers = []\n",
    "for i in range(num_workers):\n",
    "    # Create an instance on linode for workers\n",
    "    instance, password = linode_client.linode.instance_create(ltype=linode_type,\n",
    "                                                              region=region,\n",
    "                                                              image=image,\n",
    "                                                              stackscript=worker_script,\n",
    "                                                              label=f'worker-{i}',\n",
    "                                                              tags=['worker', 'hobby', 'temp'])\n",
    "    \n",
    "    # Save to workers array\n",
    "    workers.append(instance)\n",
    "    _passwords.append(password)\n",
    "    \n",
    "print(*workers, sep='\\n')\n",
    "\n",
    "# We're gonna wait for a bit for these instances to actually get up and running\n",
    "print('Waiting for instances to setup...')\n",
    "time.sleep(140)\n",
    "print('Aight, we prolly good')"
   ]
  },
  {
   "cell_type": "markdown",
   "id": "9ddcbc8c-2ab0-44ce-9848-f86272a13a51",
   "metadata": {},
   "source": [
    "Connect to server and execute some commands in an interactive shell"
   ]
  },
  {
   "cell_type": "code",
   "execution_count": 6,
   "id": "91468846-ccac-4abb-99cf-651daeef23bd",
   "metadata": {},
   "outputs": [
    {
     "name": "stdout",
     "output_type": "stream",
     "text": [
      "Welcome to Ubuntu 22.04.1 LTS (GNU/Linux 5.15.0-47-generic x86_64)\n",
      "\n",
      " * Documentation:  https://help.ubuntu.com\n",
      " * Management:     https://landscape.canonical.com\n",
      " * Support:        https://ubuntu.com/advantage\n",
      "\n",
      "  System information as of Tue Oct 25 06:47:28 AM UTC 2022\n",
      "\n",
      "  System load:           0.83740234375\n",
      "  Usage of /:            11.8% of 24.04GB\n",
      "  Memory usage:          19%\n",
      "  Swap usage:            0%\n",
      "  Processes:             102\n",
      "  Users logged in:       0\n",
      "  IPv4 address for eth0: 97.107.141.93\n",
      "  IPv6 address for eth0: 2600:3c03::f03c:93ff:fed9:7e63\n",
      "\n",
      "50 updates can be applied immediately.\n",
      "30 of these updates are standard security updates.\n",
      "To see these additional updates run: apt list --upgradable\n",
      "\n",
      "\n",
      "\n",
      "The programs included with the Ubuntu system are free software;\n",
      "the exact distribution terms for each program are described in the\n",
      "individual files in /usr/share/doc/*/copyright.\n",
      "\n",
      "Ubuntu comes with ABSOLUTELY NO WARRANTY, to the extent permitted by\n",
      "applicable law.\n",
      "\n",
      "To run a command as administrator (user \"root\"), use \"sudo <command>\".\n",
      "See \"man sudo_root\" for details.\n",
      "\n",
      "\u001b[?2004h\u001b[33m[06:47 AM]\u001b[0m worker@localhost \u001b[94m~\u001b[0m \n",
      "> cd workerdir\n",
      "-bash: cd: workerdir: No such file or directory\n",
      "\u001b[?2004h\u001b[33m[06:47 AM]\u001b[0m worker@localhost \u001b[94m~\u001b[0m \n",
      "> ls -a\n",
      "\u001b[0m\u001b[01;34m.\u001b[0m  \u001b[01;34m..\u001b[0m  \u001b[01;34m.cache\u001b[0m  \u001b[01;34m.ssh\u001b[0m  .bash_logout  .bashrc  .bashrc.old  .profile\n",
      "\u001b[?2004h\u001b[33m[06:47 AM]\u001b[0m worker@localhost \u001b[94m~\u001b[0m \n",
      "> \n"
     ]
    }
   ],
   "source": [
    "commands = [\n",
    "    'cd workerdir',\n",
    "    'ls -a']\n",
    "\n",
    "# Run commands in ssh client\n",
    "ssh_client = paramiko.client.SSHClient()\n",
    "ssh_client.load_system_host_keys()\n",
    "ssh_client.set_missing_host_key_policy(paramiko.client.AutoAddPolicy)\n",
    "ssh_client.connect(workers[0].ipv4[0], username='worker')\n",
    "shell = ssh_client.invoke_shell()\n",
    "time.sleep(0.1)\n",
    "banner_out = shell.recv(bufsize)\n",
    "banner_out = codecs.decode(banner_out, 'utf-8')\n",
    "output = banner_out\n",
    "for command in commands:\n",
    "    command_enc = codecs.encode(command + '\\n', 'utf-8')\n",
    "    shell.send(command_enc)\n",
    "    time.sleep(0.1)\n",
    "    command_out = shell.recv(bufsize)\n",
    "    command_out = codecs.decode(command_out, 'utf-8')\n",
    "    output += command_out\n",
    "ssh_client.close()\n",
    "\n",
    "# Get output\n",
    "print(output)"
   ]
  },
  {
   "cell_type": "markdown",
   "id": "461efe4c-08b6-4e87-9581-a4643d702e6c",
   "metadata": {},
   "source": [
    "Transfer a script to the worker"
   ]
  },
  {
   "cell_type": "code",
   "execution_count": 7,
   "id": "4d641a67-0bf8-44e3-81c7-40c5c4428969",
   "metadata": {},
   "outputs": [
    {
     "name": "stdout",
     "output_type": "stream",
     "text": [
      "-rw-rw-r--   1 1000     1000         1755 25 Oct 02:47 ?\n"
     ]
    }
   ],
   "source": [
    "ssh_client = paramiko.client.SSHClient()\n",
    "ssh_client.load_system_host_keys()\n",
    "ssh_client.set_missing_host_key_policy(paramiko.client.AutoAddPolicy)\n",
    "ssh_client.connect(workers[0].ipv4[0], username='worker')\n",
    "sftp = ssh_client.open_sftp()\n",
    "if 'workerdir' not in sftp.listdir():\n",
    "    stats = sftp.mkdir('workerdir')\n",
    "stats = sftp.put('worker-script.py', 'workerdir/worker-script.py')\n",
    "print(stats)\n",
    "ssh_client.close()"
   ]
  },
  {
   "cell_type": "markdown",
   "id": "e492f5f4-831c-4913-96d1-8fe80221fb97",
   "metadata": {},
   "source": [
    "Run script on worker"
   ]
  },
  {
   "cell_type": "code",
   "execution_count": 8,
   "id": "950bd587-1fcd-492c-943c-c9f1da324f1d",
   "metadata": {},
   "outputs": [
    {
     "name": "stdout",
     "output_type": "stream",
     "text": [
      "20921\n"
     ]
    }
   ],
   "source": [
    "# Random nth prime number to find\n",
    "n = randint(2100, 2800)\n",
    "\n",
    "# Run on worker\n",
    "ssh_client = paramiko.client.SSHClient()\n",
    "ssh_client.load_system_host_keys()\n",
    "ssh_client.set_missing_host_key_policy(paramiko.client.AutoAddPolicy)\n",
    "ssh_client.connect(workers[0].ipv4[0], username='worker')\n",
    "stdin, stdout, stderr = ssh_client.exec_command(f'python workerdir/worker-script.py {n} > workerdir/result.txt')\n",
    "stdout.channel.recv_exit_status()\n",
    "sftp = ssh_client.open_sftp()\n",
    "with sftp.open('workerdir/result.txt', 'r') as f:\n",
    "    data = f.read()\n",
    "    data = codecs.decode(data, 'utf-8')\n",
    "ssh_client.close()\n",
    "number = int(data)\n",
    "\n",
    "# Return number\n",
    "print(number)"
   ]
  },
  {
   "cell_type": "markdown",
   "id": "0e2fab0d-57db-4712-a5c1-63d7ba455f1b",
   "metadata": {},
   "source": [
    "Now do this concurrently"
   ]
  },
  {
   "cell_type": "code",
   "execution_count": 11,
   "id": "b546f5e2-5a26-4a22-9a9d-a97ec37134f0",
   "metadata": {},
   "outputs": [
    {
     "name": "stdout",
     "output_type": "stream",
     "text": [
      "Partitions:\n",
      "(Instance: 39786633, [7786, 2605, 7673, 8156, 2145, 1783, 5802, 6911, 2285, 1151, 3485])\n",
      "(Instance: 39786635, [8007, 5670, 4207, 4830, 7829, 9291, 6392, 7709, 4685, 7116, 4394])\n",
      "(Instance: 39786639, [8094, 7612, 4976, 7744, 3037, 4470, 1904, 5878, 4318, 4237, 3313])\n",
      "\n",
      "Worker worker-0 generated:\n",
      "\t7786 = 79433\n",
      "\t2605 = 23369\n",
      "\t7673 = 78139\n",
      "\t8156 = 83563\n",
      "\t2145 = 18797\n",
      "\t1783 = 15271\n",
      "\t5802 = 57203\n",
      "\t6911 = 69697\n",
      "\t2285 = 20201\n",
      "\t1151 = 9293\n",
      "\t3485 = 32479\n",
      "Worker worker-1 generated:\n",
      "\t8007 = 81899\n",
      "\t5670 = 55849\n",
      "\t4207 = 40037\n",
      "\t4830 = 46747\n",
      "\t7829 = 79907\n",
      "\t9291 = 96469\n",
      "\t6392 = 63737\n",
      "\t7709 = 78569\n",
      "\t4685 = 45131\n",
      "\t7116 = 71887\n",
      "\t4394 = 42017\n",
      "Worker worker-2 generated:\n",
      "\t8094 = 82811\n",
      "\t7612 = 77489\n",
      "\t4976 = 48371\n",
      "\t7744 = 78977\n",
      "\t3037 = 27809\n",
      "\t4470 = 42743\n",
      "\t1904 = 16427\n",
      "\t5878 = 58049\n",
      "\t4318 = 41233\n",
      "\t4237 = 40423\n",
      "\t3313 = 30707\n"
     ]
    }
   ],
   "source": [
    "# Partition array\n",
    "nth_prime_partition = []\n",
    "for i, worker in enumerate(workers):\n",
    "    s = i*len(nth_primes)//len(workers)\n",
    "    e = (i + 1)*len(nth_primes)//len(workers)\n",
    "    nth_prime_partition.append((worker, nth_primes[s:e]))\n",
    "print('Partitions:', *nth_prime_partition, sep='\\n', end='\\n\\n')\n",
    "\n",
    "def generate_prime_number(worker, nth_primes):\n",
    "    \"\"\"\n",
    "    Generate prime numbers for worker\n",
    "    \n",
    "    :worker:     ip address of worker\n",
    "    :nth_primes: list of n'th prime numbers to find\n",
    "    \"\"\"\n",
    "    ssh_client = paramiko.client.SSHClient()\n",
    "    ssh_client.load_system_host_keys()\n",
    "    ssh_client.set_missing_host_key_policy(paramiko.client.AutoAddPolicy)\n",
    "    ssh_client.connect(worker.ipv4[0], username='worker')\n",
    "    sftp = ssh_client.open_sftp()\n",
    "    if 'workerdir' not in sftp.listdir():\n",
    "        stats = sftp.mkdir('workerdir')\n",
    "    stats = sftp.put('worker-script.py', 'workerdir/worker-script.py')\n",
    "    sftp.close()\n",
    "    stdin, stdout, stderr = ssh_client.exec_command('rm -f workerdir/result.txt')\n",
    "    stdout.channel.recv_exit_status()\n",
    "    nstring = ' '.join(map(str, nth_primes))\n",
    "    stdin, stdout, stderr = ssh_client.exec_command(f'python workerdir/worker-script.py {nstring} >> workerdir/result.txt')\n",
    "    stdout.channel.recv_exit_status()\n",
    "    sftp = ssh_client.open_sftp()\n",
    "    with sftp.open('workerdir/result.txt', 'r') as f:\n",
    "        data = f.read()\n",
    "        data = codecs.decode(data, 'utf-8')\n",
    "    ssh_client.close()\n",
    "    return [ int(num) for num in data.split('\\n') if num ]\n",
    "\n",
    "\n",
    "# Run commands on workers using separate threads\n",
    "with concurrent.futures.ThreadPoolExecutor(max_workers=len(workers)) as exe:\n",
    "    futures_with_workers = { \n",
    "        exe.submit(generate_prime_number, worker, nth_primes) : (worker, nth_primes) \n",
    "        for worker, nth_primes in nth_prime_partition }\n",
    "    for future in concurrent.futures.as_completed(futures_with_workers):\n",
    "        worker, nth_primes = futures_with_workers[future]\n",
    "        try:\n",
    "            primes = future.result()\n",
    "            print('Worker', worker.label, 'generated:')\n",
    "            for nth, prime in zip(nth_primes, primes):\n",
    "                print(f'\\t{nth} = {prime}')\n",
    "        except Exception as exc:\n",
    "            print('Worker', worker.label, 'resulted in error:', exc)"
   ]
  },
  {
   "cell_type": "markdown",
   "id": "5613b4de-01ee-4257-9efb-4d4e6a7fdf74",
   "metadata": {},
   "source": [
    "Tear everything down"
   ]
  },
  {
   "cell_type": "code",
   "execution_count": 12,
   "id": "e8fe5dc0-9f9f-465d-9903-2a83ff817e33",
   "metadata": {},
   "outputs": [
    {
     "name": "stdout",
     "output_type": "stream",
     "text": [
      "3 Instance(s) deleted...\n"
     ]
    }
   ],
   "source": [
    "tag = next(tag for tag in linode_client.tags() if tag.label == 'worker')\n",
    "instances = [obj for obj in tag.objects if isinstance(obj, Instance)]\n",
    "for instance in instances:\n",
    "    instance.delete()\n",
    "print(f'{len(instances)} Instance(s) deleted...')"
   ]
  }
 ],
 "metadata": {
  "kernelspec": {
   "display_name": "Python 3 (ipykernel)",
   "language": "python",
   "name": "python3"
  },
  "language_info": {
   "codemirror_mode": {
    "name": "ipython",
    "version": 3
   },
   "file_extension": ".py",
   "mimetype": "text/x-python",
   "name": "python",
   "nbconvert_exporter": "python",
   "pygments_lexer": "ipython3",
   "version": "3.10.4"
  }
 },
 "nbformat": 4,
 "nbformat_minor": 5
}
