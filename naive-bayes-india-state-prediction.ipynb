{
 "cells": [
  {
   "cell_type": "markdown",
   "id": "9607d51a-d6e3-4ee8-89d7-15b9c504f837",
   "metadata": {},
   "source": [
    "# Using Naive Bayes to Predict What State You're From (If You Live in India)"
   ]
  },
  {
   "cell_type": "code",
   "execution_count": 65,
   "id": "77c939ad-c9d3-4c4d-8994-78ae3f47faaf",
   "metadata": {},
   "outputs": [],
   "source": [
    "import numpy as np\n",
    "import pandas as pd\n",
    "import requests\n",
    "\n",
    "year = '2011'\n",
    "api = lambda ep: f'http://digital-library.census.ihsn.org/index.php/api/tables/{ep}/{year}'\n",
    "api_list = api('list')\n",
    "api_info = lambda table: f\"{api('info')}/{table}\"\n",
    "api_data = lambda table: f\"{api('data')}/{table}\""
   ]
  },
  {
   "cell_type": "code",
   "execution_count": 70,
   "id": "a4854d8e-b005-48b5-bc09-1c2153b4d818",
   "metadata": {},
   "outputs": [],
   "source": [
    "# Create maps for state, district, \n",
    "# subdistrict, and town-village\n",
    "# 0 means ALL\n",
    "sdsdtv = pd.read_csv('data/PC11_TV_DIR.csv')\n",
    "\n",
    "# States map\n",
    "states = sdsdtv.loc[ (sdsdtv['District Code'] == 0) \\\n",
    "                    & (sdsdtv['Sub District Code'] == 0) \\\n",
    "                    & (sdsdtv['Town-Village Code'] == 0) ]\n",
    "states = states[[\n",
    "    'State Code', \n",
    "    'Town-Village Name'\n",
    "]]\n",
    "states = states.set_index('State Code')\n",
    "states = states['Town-Village Name']\n",
    "states.at[0] = 'ALL'\n",
    "states = states.sort_index()\n",
    "states = states.rename('State Name')\n",
    "\n",
    "# Districts map\n",
    "districts = sdsdtv.loc[ (sdsdtv['Sub District Code'] == 0) \\\n",
    "                    & (sdsdtv['Town-Village Code'] == 0) ]\n",
    "districts = districts[[ 'District Code', 'Town-Village Name' ]]\n",
    "districts = districts.drop_duplicates(subset=['District Code'])\n",
    "districts = districts.set_index('District Code')\n",
    "districts = districts['Town-Village Name']\n",
    "districts.at[0] = 'All'\n",
    "districts = districts.sort_index()\n",
    "districts = districts.rename('District Name')\n",
    "\n",
    "# Sub Districts map\n",
    "sub_districts = sdsdtv.loc[ (sdsdtv['Town-Village Code'] == 0) ]\n",
    "sub_districts = sub_districts[[\n",
    "    'Sub District Code',\n",
    "    'Town-Village Name'\n",
    "]]\n",
    "sub_districts = sub_districts.drop_duplicates(subset=['Sub District Code'])\n",
    "sub_districts = sub_districts.set_index('Sub District Code')\n",
    "sub_districts = sub_districts['Town-Village Name']\n",
    "sub_districts.at[0] = 'All'\n",
    "sub_districts = sub_districts.sort_index()\n",
    "sub_districts = sub_districts.rename('Sub District Name')\n",
    "\n",
    "# Town/Villages map\n",
    "town_villages = sdsdtv[[ 'Town-Village Code', 'Town-Village Name' ]]\n",
    "town_villages = town_villages.drop_duplicates(subset=['Town-Village Code'])\n",
    "town_villages = town_villages.set_index('Town-Village Code')\n",
    "town_villages = town_villages['Town-Village Name']\n",
    "town_villages.at[0] = 'All'\n",
    "town_villages = town_villages.sort_index()\n",
    "town_villages = town_villages.rename('Sub District Name')\n",
    "\n",
    "def get_dataset(table, query={}):\n",
    "    url = api_data(table)\n",
    "    query = '?' + '&'.join(f'{k}={v}' for k,v in query.items()) if query else ''\n",
    "    info = requests.get(api_info(table)).json()\n",
    "    features = info['result']['result_']['features']\n",
    "    feature_map = { \n",
    "        feature['feature_name'] : { \n",
    "            c['code'] : c['label'] \n",
    "            for c in feature['code_list'] } \n",
    "        for feature in features }\n",
    "    body = requests.get(url+query).json()\n",
    "    df = pd.DataFrame(body['data'])\n",
    "    df['state'] = df['state'].map(lambda r: states.at[r])\n",
    "    df['district'] = df['district'].map(lambda r: districts.at[r])\n",
    "    df['subdistrict'] = df['subdistrict'].map(lambda r: sub_districts.at[r])\n",
    "    df['town'] = df['town'].map(lambda r: town_villages.at[r])\n",
    "    for feature, labels in rps_feature_map.items():\n",
    "        df[feature] = df[feature].map(lambda row: labels[row])\n",
    "    return df"
   ]
  },
  {
   "cell_type": "code",
   "execution_count": 79,
   "id": "6b0c226d-f5c1-4f77-bea5-3d241b0aa8a2",
   "metadata": {
    "tags": []
   },
   "outputs": [
    {
     "data": {
      "text/plain": [
       "<AxesSubplot:ylabel='value'>"
      ]
     },
     "execution_count": 79,
     "metadata": {},
     "output_type": "execute_result"
    },
    {
     "data": {
      "image/png": "[encoded data removed]",
      "text/plain": [
       "<Figure size 432x288 with 1 Axes>"
      ]
     },
     "metadata": {},
     "output_type": "display_data"
    }
   ],
   "source": [
    "# Religions!\n",
    "dataset = get_dataset('PC11_C01', { \n",
    "    'state': '0',\n",
    "    'sex': '0',\n",
    "    'urbrur': '0',\n",
    "    'religion': '1,2,3'\n",
    "})\n",
    "dataset.set_index('religion').plot.pie(y='value')"
   ]
  }
 ],
 "metadata": {
  "kernelspec": {
   "display_name": "Python 3 (ipykernel)",
   "language": "python",
   "name": "python3"
  },
  "language_info": {
   "codemirror_mode": {
    "name": "ipython",
    "version": 3
   },
   "file_extension": ".py",
   "mimetype": "text/x-python",
   "name": "python",
   "nbconvert_exporter": "python",
   "pygments_lexer": "ipython3",
   "version": "3.9.16"
  }
 },
 "nbformat": 4,
 "nbformat_minor": 5
}
