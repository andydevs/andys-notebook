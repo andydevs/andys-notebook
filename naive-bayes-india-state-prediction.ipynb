{
 "cells": [
  {
   "cell_type": "markdown",
   "id": "9607d51a-d6e3-4ee8-89d7-15b9c504f837",
   "metadata": {
    "tags": []
   },
   "source": [
    "# Using Naive Bayes to Predict What State You're From (If You Live in India)"
   ]
  },
  {
   "cell_type": "code",
   "execution_count": 1,
   "id": "77c939ad-c9d3-4c4d-8994-78ae3f47faaf",
   "metadata": {},
   "outputs": [],
   "source": [
    "%matplotlib inline\n",
    "from math import prod\n",
    "import numpy as np\n",
    "import pandas as pd\n",
    "import requests\n",
    "import ipywidgets as wg\n",
    "from matplotlib import pyplot as plt\n",
    "from matplotlib.ticker import PercentFormatter\n",
    "\n",
    "base_url = 'http://digital-library.census.ihsn.org/index.php/api/tables/'\n",
    "idx = pd.IndexSlice"
   ]
  },
  {
   "cell_type": "markdown",
   "id": "ed200618-1980-43f5-a4cb-5af85f39fa44",
   "metadata": {
    "tags": []
   },
   "source": [
    "## Using the India Census API\n",
    "\n",
    "I have some preemptive metadata in a csv file. The India Census API uses codes for many of the different fields, some of which is provided alongside code labels with each request, but others are common and inferred through this metadata."
   ]
  },
  {
   "cell_type": "code",
   "execution_count": 2,
   "id": "a4854d8e-b005-48b5-bc09-1c2153b4d818",
   "metadata": {},
   "outputs": [],
   "source": [
    "# Create maps for state, district, \n",
    "# subdistrict, and town-village\n",
    "# 0 means ALL\n",
    "sdsdtv = pd.read_csv('data/PC11_TV_DIR.csv')\n",
    "\n",
    "# States map\n",
    "states = sdsdtv.loc[ (sdsdtv['District Code'] == 0) \\\n",
    "                    & (sdsdtv['Sub District Code'] == 0) \\\n",
    "                    & (sdsdtv['Town-Village Code'] == 0) ]\n",
    "states = states[[\n",
    "    'State Code', \n",
    "    'Town-Village Name'\n",
    "]]\n",
    "states = states.set_index('State Code')\n",
    "states = states['Town-Village Name']\n",
    "states.at[0] = 'ALL'\n",
    "states = states.sort_index()\n",
    "states = states.rename('State Name')\n",
    "\n",
    "# Districts map\n",
    "districts = sdsdtv.loc[ (sdsdtv['Sub District Code'] == 0) \\\n",
    "                    & (sdsdtv['Town-Village Code'] == 0) ]\n",
    "districts = districts[[ 'District Code', 'Town-Village Name' ]]\n",
    "districts = districts.drop_duplicates(subset=['District Code'])\n",
    "districts = districts.set_index('District Code')\n",
    "districts = districts['Town-Village Name']\n",
    "districts.at[0] = 'All'\n",
    "districts = districts.sort_index()\n",
    "districts = districts.rename('District Name')\n",
    "\n",
    "# Sub Districts map\n",
    "sub_districts = sdsdtv.loc[ (sdsdtv['Town-Village Code'] == 0) ]\n",
    "sub_districts = sub_districts[[\n",
    "    'Sub District Code',\n",
    "    'Town-Village Name'\n",
    "]]\n",
    "sub_districts = sub_districts.drop_duplicates(subset=['Sub District Code'])\n",
    "sub_districts = sub_districts.set_index('Sub District Code')\n",
    "sub_districts = sub_districts['Town-Village Name']\n",
    "sub_districts.at[0] = 'All'\n",
    "sub_districts = sub_districts.sort_index()\n",
    "sub_districts = sub_districts.rename('Sub District Name')\n",
    "\n",
    "# Town/Villages map\n",
    "town_villages = sdsdtv[[ 'Town-Village Code', 'Town-Village Name' ]]\n",
    "town_villages = town_villages.drop_duplicates(subset=['Town-Village Code'])\n",
    "town_villages = town_villages.set_index('Town-Village Code')\n",
    "town_villages = town_villages['Town-Village Name']\n",
    "town_villages.at[0] = 'All'\n",
    "town_villages = town_villages.sort_index()\n",
    "town_villages = town_villages.rename('Sub District Name')"
   ]
  },
  {
   "cell_type": "markdown",
   "id": "10649021-8181-4ae3-82b9-a1fd50ba1eb1",
   "metadata": {},
   "source": [
    "I created a simple interface to help me pull relevant data from the API. That way I'm not pulling and saving a large dataset to do work with"
   ]
  },
  {
   "cell_type": "code",
   "execution_count": 3,
   "id": "19f671df-8597-4fbd-88a3-395b1862d5de",
   "metadata": {},
   "outputs": [],
   "source": [
    "def get_dataset(table, **kwargs):\n",
    "    \"\"\"\n",
    "    Call the India Census API with args\n",
    "    to retrieve filtered data\n",
    "    \n",
    "    :param table:    Census API table to query\n",
    "    :param **kwargs: Query parameters to send to API\n",
    "    \n",
    "    :returns: data retrieved from API as pandas DataFrame\n",
    "    \"\"\"\n",
    "    # Common features in all tables\n",
    "    common_features = {\n",
    "        'state': states,\n",
    "        'district': districts,\n",
    "        'subdistrict': sub_districts,\n",
    "        'town': town_villages\n",
    "    }\n",
    "    \n",
    "    # Get info specific to dataset (features)\n",
    "    year = kwargs.pop('year', '2011')\n",
    "    info_url = base_url + f'/info/{year}/{table}'\n",
    "    info = requests.get(info_url).json()\n",
    "    features = info['result']['result_']['features']\n",
    "    feature_map = { \n",
    "        feature['feature_name'] : pd.Series(\n",
    "            data=[c['label'] for c in feature['code_list']],\n",
    "            index=[c['code'] for c in feature['code_list']])\n",
    "        for feature in features }\n",
    "    feature_map |= common_features\n",
    "    \n",
    "    # Get data\n",
    "    data_url = base_url + f'/data/{year}/{table}'\n",
    "    query_string = '?' + '&'.join(f'{k}={v}' for k,v in kwargs.items()) if kwargs else ''\n",
    "    body = requests.get(data_url+query_string).json()\n",
    "    \n",
    "    # Map codes to features in dataset\n",
    "    df = pd.DataFrame(body['data'])\n",
    "    for feature, labels in feature_map.items():\n",
    "        if feature in df:\n",
    "            df[feature] = df[feature].map(lambda r: labels.at[r])\n",
    "        \n",
    "    # Return dataframe\n",
    "    return df"
   ]
  },
  {
   "cell_type": "markdown",
   "id": "8ed2023c-12f4-41da-9455-27bb5c666624",
   "metadata": {
    "tags": []
   },
   "source": [
    "## Getting Prior Probabilities\n",
    "\n",
    "Get total population of India and population of states"
   ]
  },
  {
   "cell_type": "code",
   "execution_count": 10,
   "id": "fe2d9063-51f5-4b89-8ccf-8292ac71f6f5",
   "metadata": {},
   "outputs": [
    {
     "name": "stdout",
     "output_type": "stream",
     "text": [
      "Total Population: 1210854977\n"
     ]
    },
    {
     "data": {
      "text/plain": [
       "state\n",
       "JAMMU & KASHMIR               12541302\n",
       "HIMACHAL PRADESH               6864602\n",
       "PUNJAB                        27743338\n",
       "CHANDIGARH                     1055450\n",
       "UTTARAKHAND                   10086292\n",
       "HARYANA                       25351462\n",
       "NCT OF DELHI                  16787941\n",
       "RAJASTHAN                     68548437\n",
       "UTTAR PRADESH                199812341\n",
       "BIHAR                        104099452\n",
       "SIKKIM                          610577\n",
       "ARUNACHAL PRADESH              1383727\n",
       "NAGALAND                       1978502\n",
       "MANIPUR                        2855794\n",
       "MIZORAM                        1097206\n",
       "TRIPURA                        3673917\n",
       "MEGHALAYA                      2966889\n",
       "ASSAM                         31205576\n",
       "WEST BENGAL                   91276115\n",
       "JHARKHAND                     32988134\n",
       "ODISHA                        41974218\n",
       "CHHATTISGARH                  25545198\n",
       "MADHYA PRADESH                72626809\n",
       "GUJARAT                       60439692\n",
       "DAMAN & DIU                     243247\n",
       "DADRA & NAGAR HAVELI            343709\n",
       "MAHARASHTRA                  112374333\n",
       "ANDHRA PRADESH                84580777\n",
       "KARNATAKA                     61095297\n",
       "GOA                            1458545\n",
       "LAKSHADWEEP                      64473\n",
       "KERALA                        33406061\n",
       "TAMIL NADU                    72147030\n",
       "PUDUCHERRY                     1247953\n",
       "ANDAMAN & NICOBAR ISLANDS       380581\n",
       "Name: state_prior, dtype: int64"
      ]
     },
     "execution_count": 10,
     "metadata": {},
     "output_type": "execute_result"
    }
   ],
   "source": [
    "# Total population\n",
    "total_population = get_dataset('PC11_C01', \n",
    "                               state='0', \n",
    "                               urbrur='0', \n",
    "                               geo_level='0',\n",
    "                               sex='0',\n",
    "                               religion='0',\n",
    "                               fields='value')\n",
    "total_population = total_population['value'].at[0]\n",
    "print('Total Population:', total_population)\n",
    "\n",
    "state_populations = get_dataset('PC11_C01',\n",
    "                                state='1-35',\n",
    "                                urbrur='0',\n",
    "                                geo_level='1',\n",
    "                                sex='0',\n",
    "                                religion='0',\n",
    "                                fields='state,value')\n",
    "state_populations = state_populations.set_index('state')['value']\n",
    "state_populations = state_populations.rename('state_prior')\n",
    "state_populations"
   ]
  },
  {
   "cell_type": "markdown",
   "id": "3aaaba9c-7f4c-4e1c-8cc5-eebc04eed97c",
   "metadata": {},
   "source": [
    "Get relative population of states (as fraction of total population). This will be our prior probability"
   ]
  },
  {
   "cell_type": "code",
   "execution_count": 11,
   "id": "43e432cd-85fa-4851-b76d-c3c9bd943213",
   "metadata": {},
   "outputs": [
    {
     "data": {
      "text/plain": [
       "state\n",
       "JAMMU & KASHMIR              0.010357\n",
       "HIMACHAL PRADESH             0.005669\n",
       "PUNJAB                       0.022912\n",
       "CHANDIGARH                   0.000872\n",
       "UTTARAKHAND                  0.008330\n",
       "HARYANA                      0.020937\n",
       "NCT OF DELHI                 0.013865\n",
       "RAJASTHAN                    0.056612\n",
       "UTTAR PRADESH                0.165018\n",
       "BIHAR                        0.085972\n",
       "SIKKIM                       0.000504\n",
       "ARUNACHAL PRADESH            0.001143\n",
       "NAGALAND                     0.001634\n",
       "MANIPUR                      0.002358\n",
       "MIZORAM                      0.000906\n",
       "TRIPURA                      0.003034\n",
       "MEGHALAYA                    0.002450\n",
       "ASSAM                        0.025772\n",
       "WEST BENGAL                  0.075382\n",
       "JHARKHAND                    0.027244\n",
       "ODISHA                       0.034665\n",
       "CHHATTISGARH                 0.021097\n",
       "MADHYA PRADESH               0.059980\n",
       "GUJARAT                      0.049915\n",
       "DAMAN & DIU                  0.000201\n",
       "DADRA & NAGAR HAVELI         0.000284\n",
       "MAHARASHTRA                  0.092806\n",
       "ANDHRA PRADESH               0.069852\n",
       "KARNATAKA                    0.050456\n",
       "GOA                          0.001205\n",
       "LAKSHADWEEP                  0.000053\n",
       "KERALA                       0.027589\n",
       "TAMIL NADU                   0.059584\n",
       "PUDUCHERRY                   0.001031\n",
       "ANDAMAN & NICOBAR ISLANDS    0.000314\n",
       "Name: state_prior, dtype: float64"
      ]
     },
     "execution_count": 11,
     "metadata": {},
     "output_type": "execute_result"
    }
   ],
   "source": [
    "# Get state populations\n",
    "state_priors = state_populations / total_population\n",
    "state_priors = state_priors.rename('state_prior')\n",
    "state_priors"
   ]
  },
  {
   "cell_type": "markdown",
   "id": "5abe4ad3-9653-4b76-b4ee-89d3555f4c19",
   "metadata": {
    "tags": []
   },
   "source": [
    "## Computing Likelihoods for Given Evidence Fields"
   ]
  },
  {
   "cell_type": "markdown",
   "id": "4b9f18b5-8635-44fc-967f-da6f76fe14e8",
   "metadata": {
    "tags": []
   },
   "source": [
    "### Odds based on Religion\n",
    "\n",
    "Get total religious makeup in country as well as for each state"
   ]
  },
  {
   "cell_type": "code",
   "execution_count": 21,
   "id": "6b0c226d-f5c1-4f77-bea5-3d241b0aa8a2",
   "metadata": {
    "tags": []
   },
   "outputs": [
    {
     "data": {
      "text/plain": [
       "religion\n",
       "Hindu        0.797996\n",
       "Muslim       0.142251\n",
       "Christian    0.022975\n",
       "Sikh         0.017205\n",
       "Buddhist     0.006973\n",
       "Jain         0.003677\n",
       "Name: religion, dtype: float64"
      ]
     },
     "execution_count": 21,
     "metadata": {},
     "output_type": "execute_result"
    }
   ],
   "source": [
    "# Relative religions in the country\n",
    "religion_evidence = get_dataset('PC11_C01',\n",
    "                                state='0',\n",
    "                                sex='0',\n",
    "                                urbrur='0',\n",
    "                                religion='1-6',\n",
    "                                fields='religion,value')\n",
    "religion_evidence = religion_evidence.set_index('religion')['value']\n",
    "religion_evidence = religion_evidence.rename('religion')\n",
    "religion_evidence /= total_population\n",
    "religion_evidence"
   ]
  },
  {
   "cell_type": "code",
   "execution_count": 20,
   "id": "eb3926cf-c16f-4870-8bcd-1b2effdbe7a5",
   "metadata": {},
   "outputs": [
    {
     "data": {
      "text/plain": [
       "religion  state                    \n",
       "Hindu     JAMMU & KASHMIR              0.284394\n",
       "          HIMACHAL PRADESH             0.951660\n",
       "          PUNJAB                       0.384890\n",
       "          CHANDIGARH                   0.807782\n",
       "          UTTARAKHAND                  0.829704\n",
       "                                         ...   \n",
       "Jain      LAKSHADWEEP                  0.000171\n",
       "          KERALA                       0.000134\n",
       "          TAMIL NADU                   0.001237\n",
       "          PUDUCHERRY                   0.001122\n",
       "          ANDAMAN & NICOBAR ISLANDS    0.000081\n",
       "Name: value, Length: 210, dtype: float64"
      ]
     },
     "execution_count": 20,
     "metadata": {},
     "output_type": "execute_result"
    }
   ],
   "source": [
    "# Likelihood of given religion per state\n",
    "religion_likelihood_given_state = get_dataset('PC11_C01', \n",
    "                                              sex='0', \n",
    "                                              urbrur='0', \n",
    "                                              religion='1-6', \n",
    "                                              state='1-35', \n",
    "                                              district='0',\n",
    "                                              fields='religion,state,value',\n",
    "                                              limit=210)\n",
    "religion_likelihood_given_state = religion_likelihood_given_state.set_index(['religion', 'state'])['value']\n",
    "religion_likelihood_given_state /= state_populations\n",
    "religion_likelihood_given_state"
   ]
  },
  {
   "cell_type": "markdown",
   "id": "c0b121c4-c665-4ca0-acc2-cf7e2eec7352",
   "metadata": {
    "tags": []
   },
   "source": [
    "## Building and Testing Model\n",
    "\n",
    "The naive bayesian model"
   ]
  },
  {
   "cell_type": "code",
   "execution_count": 15,
   "id": "c1b8a47a-d9d0-4b06-a6f8-4719006496fc",
   "metadata": {},
   "outputs": [],
   "source": [
    "def prediction_model(religion):\n",
    "    return state_priors * prod([\n",
    "        religion_likelihood_given_state[religion] / religion_evidence[religion]\n",
    "    ])"
   ]
  },
  {
   "cell_type": "markdown",
   "id": "3840f8ba-6ccc-447e-b340-19d37e504a9c",
   "metadata": {},
   "source": [
    "Here's an interactive tool used to predict what state you're from"
   ]
  },
  {
   "cell_type": "code",
   "execution_count": 16,
   "id": "d101f8c8-74a0-47cb-9c5b-e42619281b1a",
   "metadata": {},
   "outputs": [
    {
     "data": {
      "application/vnd.jupyter.widget-view+json": {
       "model_id": "48f86ce583ad48d7b7660c748297e83f",
       "version_major": 2,
       "version_minor": 0
      },
      "text/plain": [
       "HBox(children=(VBox(children=(Dropdown(description='Religion:', options=('Hindu', 'Muslim', 'Christian', 'Sikh…"
      ]
     },
     "metadata": {},
     "output_type": "display_data"
    }
   ],
   "source": [
    "n_results = 5\n",
    "\n",
    "religion_select = wg.Dropdown(options=['Hindu','Muslim','Christian','Sikh','Jain'],\n",
    "                              value='Hindu',\n",
    "                              description='Religion:',\n",
    "                              disabled=False)\n",
    "form = wg.VBox([ religion_select ])\n",
    "graph_output = wg.Output()\n",
    "\n",
    "def display_results(evt=None):\n",
    "    state_posterior = prediction_model(\n",
    "        religion=religion_select.value)\n",
    "    top_n = state_posterior.sort_values()[-n_results:]\n",
    "    graph_output.clear_output()\n",
    "    with graph_output:\n",
    "        xticks = PercentFormatter(xmax=1, decimals=0)\n",
    "        ax = top_n.plot.barh(xlabel='')\n",
    "        ax.xaxis.set_major_formatter(xticks)\n",
    "        plt.show();\n",
    "\n",
    "display(wg.HBox([ form, graph_output ]))\n",
    "display_results()\n",
    "religion_select.observe(display_results, 'value')"
   ]
  }
 ],
 "metadata": {
  "kernelspec": {
   "display_name": "Python 3 (ipykernel)",
   "language": "python",
   "name": "python3"
  },
  "language_info": {
   "codemirror_mode": {
    "name": "ipython",
    "version": 3
   },
   "file_extension": ".py",
   "mimetype": "text/x-python",
   "name": "python",
   "nbconvert_exporter": "python",
   "pygments_lexer": "ipython3",
   "version": "3.9.16"
  }
 },
 "nbformat": 4,
 "nbformat_minor": 5
}
