{
 "cells": [
  {
   "cell_type": "markdown",
   "id": "9607d51a-d6e3-4ee8-89d7-15b9c504f837",
   "metadata": {
    "tags": []
   },
   "source": [
    "# Using Naive Bayes to Predict What State You're From (If You Live in India)"
   ]
  },
  {
   "cell_type": "code",
   "execution_count": 23,
   "id": "77c939ad-c9d3-4c4d-8994-78ae3f47faaf",
   "metadata": {},
   "outputs": [],
   "source": [
    "%matplotlib inline\n",
    "from math import prod\n",
    "import numpy as np\n",
    "import pandas as pd\n",
    "import requests\n",
    "import ipywidgets as wg\n",
    "from matplotlib import pyplot as plt\n",
    "from matplotlib.ticker import PercentFormatter\n",
    "\n",
    "base_url = 'http://digital-library.census.ihsn.org/index.php/api/tables/'\n",
    "idx = pd.IndexSlice"
   ]
  },
  {
   "cell_type": "markdown",
   "id": "ed200618-1980-43f5-a4cb-5af85f39fa44",
   "metadata": {
    "tags": []
   },
   "source": [
    "## Using the India Census API\n",
    "\n",
    "I have some preemptive metadata in a csv file. The India Census API uses codes for many of the different fields, some of which is provided alongside code labels with each request, but others are common and inferred through this metadata."
   ]
  },
  {
   "cell_type": "code",
   "execution_count": 24,
   "id": "a4854d8e-b005-48b5-bc09-1c2153b4d818",
   "metadata": {},
   "outputs": [],
   "source": [
    "# Create maps for state, district, \n",
    "# subdistrict, and town-village\n",
    "# 0 means ALL\n",
    "sdsdtv = pd.read_csv('data/PC11_TV_DIR.csv')\n",
    "\n",
    "# States map\n",
    "states = sdsdtv.loc[ (sdsdtv['District Code'] == 0) \\\n",
    "                    & (sdsdtv['Sub District Code'] == 0) \\\n",
    "                    & (sdsdtv['Town-Village Code'] == 0) ]\n",
    "states = states[[\n",
    "    'State Code', \n",
    "    'Town-Village Name'\n",
    "]]\n",
    "states = states.set_index('State Code')\n",
    "states = states['Town-Village Name']\n",
    "states.at[0] = 'ALL'\n",
    "states = states.sort_index()\n",
    "states = states.rename('State Name')\n",
    "\n",
    "# Districts map\n",
    "districts = sdsdtv.loc[ (sdsdtv['Sub District Code'] == 0) \\\n",
    "                    & (sdsdtv['Town-Village Code'] == 0) ]\n",
    "districts = districts[[ 'District Code', 'Town-Village Name' ]]\n",
    "districts = districts.drop_duplicates(subset=['District Code'])\n",
    "districts = districts.set_index('District Code')\n",
    "districts = districts['Town-Village Name']\n",
    "districts.at[0] = 'All'\n",
    "districts = districts.sort_index()\n",
    "districts = districts.rename('District Name')\n",
    "\n",
    "# Sub Districts map\n",
    "sub_districts = sdsdtv.loc[ (sdsdtv['Town-Village Code'] == 0) ]\n",
    "sub_districts = sub_districts[[\n",
    "    'Sub District Code',\n",
    "    'Town-Village Name'\n",
    "]]\n",
    "sub_districts = sub_districts.drop_duplicates(subset=['Sub District Code'])\n",
    "sub_districts = sub_districts.set_index('Sub District Code')\n",
    "sub_districts = sub_districts['Town-Village Name']\n",
    "sub_districts.at[0] = 'All'\n",
    "sub_districts = sub_districts.sort_index()\n",
    "sub_districts = sub_districts.rename('Sub District Name')\n",
    "\n",
    "# Town/Villages map\n",
    "town_villages = sdsdtv[[ 'Town-Village Code', 'Town-Village Name' ]]\n",
    "town_villages = town_villages.drop_duplicates(subset=['Town-Village Code'])\n",
    "town_villages = town_villages.set_index('Town-Village Code')\n",
    "town_villages = town_villages['Town-Village Name']\n",
    "town_villages.at[0] = 'All'\n",
    "town_villages = town_villages.sort_index()\n",
    "town_villages = town_villages.rename('Sub District Name')"
   ]
  },
  {
   "cell_type": "markdown",
   "id": "10649021-8181-4ae3-82b9-a1fd50ba1eb1",
   "metadata": {},
   "source": [
    "I created a simple interface to help me pull relevant data from the API. That way I'm not pulling and saving a large dataset to do work with"
   ]
  },
  {
   "cell_type": "code",
   "execution_count": 25,
   "id": "19f671df-8597-4fbd-88a3-395b1862d5de",
   "metadata": {},
   "outputs": [],
   "source": [
    "def get_dataset(table, **kwargs):\n",
    "    \"\"\"\n",
    "    Call the India Census API with args\n",
    "    to retrieve filtered data\n",
    "    \n",
    "    :param table:    Census API table to query\n",
    "    :param **kwargs: Query parameters to send to API\n",
    "    \n",
    "    :returns: data retrieved from API as pandas DataFrame\n",
    "    \"\"\"\n",
    "    # Common features in all tables\n",
    "    common_features = {\n",
    "        'state': states,\n",
    "        'district': districts,\n",
    "        'subdistrict': sub_districts,\n",
    "        'town': town_villages\n",
    "    }\n",
    "    \n",
    "    # Get info specific to dataset (features)\n",
    "    year = kwargs.pop('year', '2011')\n",
    "    info_url = base_url + f'/info/{year}/{table}'\n",
    "    info = requests.get(info_url).json()\n",
    "    features = info['result']['result_']['features']\n",
    "    feature_map = { \n",
    "        feature['feature_name'] : pd.Series(\n",
    "            data=[c['label'] for c in feature['code_list']],\n",
    "            index=[c['code'] for c in feature['code_list']])\n",
    "        for feature in features }\n",
    "    feature_map |= common_features\n",
    "    \n",
    "    # Get data\n",
    "    data_url = base_url + f'/data/{year}/{table}'\n",
    "    query_string = '?' + '&'.join(f'{k}={v}' for k,v in kwargs.items()) if kwargs else ''\n",
    "    body = requests.get(data_url+query_string).json()\n",
    "    \n",
    "    # Map codes to features in dataset\n",
    "    df = pd.DataFrame(body['data'])\n",
    "    for feature, labels in feature_map.items():\n",
    "        if feature in df:\n",
    "            df[feature] = df[feature].map(lambda r: labels.at[r])\n",
    "        \n",
    "    # Return dataframe\n",
    "    return df"
   ]
  },
  {
   "cell_type": "markdown",
   "id": "8ed2023c-12f4-41da-9455-27bb5c666624",
   "metadata": {
    "tags": []
   },
   "source": [
    "## Getting Prior Probabilities\n",
    "\n",
    "Get total population of India and population of states"
   ]
  },
  {
   "cell_type": "code",
   "execution_count": 78,
   "id": "fe2d9063-51f5-4b89-8ccf-8292ac71f6f5",
   "metadata": {},
   "outputs": [
    {
     "name": "stdout",
     "output_type": "stream",
     "text": [
      "Total Population: 1210854977\n"
     ]
    }
   ],
   "source": [
    "# Total population\n",
    "total_population = get_dataset('PC11_C01', \n",
    "                               state='0', \n",
    "                               urbrur='0', \n",
    "                               geo_level='0',\n",
    "                               sex='0',\n",
    "                               religion='0',\n",
    "                               fields='value')\n",
    "total_population = total_population['value'].at[0]\n",
    "print('Total Population:', total_population)\n",
    "\n",
    "state_populations = get_dataset('PC11_C01',\n",
    "                                state='1-35',\n",
    "                                urbrur='0',\n",
    "                                geo_level='1',\n",
    "                                sex='0',\n",
    "                                religion='0',\n",
    "                                fields='state,value')\n",
    "state_populations = state_populations.set_index('state')['value']"
   ]
  },
  {
   "cell_type": "markdown",
   "id": "3aaaba9c-7f4c-4e1c-8cc5-eebc04eed97c",
   "metadata": {},
   "source": [
    "Get relative population of states (as fraction of total population). This will be our prior probability"
   ]
  },
  {
   "cell_type": "code",
   "execution_count": 147,
   "id": "43e432cd-85fa-4851-b76d-c3c9bd943213",
   "metadata": {},
   "outputs": [
    {
     "data": {
      "image/png": "[encoded data removed]",
      "text/plain": [
       "<Figure size 864x648 with 1 Axes>"
      ]
     },
     "metadata": {
      "needs_background": "light"
     },
     "output_type": "display_data"
    }
   ],
   "source": [
    "# Get state populations\n",
    "state_priors = state_populations / total_population\n",
    "state_priors = state_priors.rename('state_prior')\n",
    "\n",
    "# Plot those populations\n",
    "xticks = PercentFormatter(xmax=1, decimals=0)\n",
    "ax = state_priors.plot.barh(figsize=(12,9),\n",
    "                            title='Prior State Probabilities',\n",
    "                            ylabel='',\n",
    "                            xlabel='')\n",
    "ax.xaxis.set_major_formatter(xticks)"
   ]
  },
  {
   "cell_type": "markdown",
   "id": "5aaaa9fa-114a-4c1e-bef9-55afe1ec6498",
   "metadata": {},
   "source": [
    "And here we see a problem. A large chunk of people live in Uttar Pradesh. So, any model that we'd build would most likely classify people as being from UP, regardless of input data. However, if we find the right fields, we can make our model especially discerning. One way to find the right fields is to use the entropy of each field. Simply put, given any input, what is the likelihood we can predict the output."
   ]
  },
  {
   "cell_type": "markdown",
   "id": "5abe4ad3-9653-4b76-b4ee-89d3555f4c19",
   "metadata": {
    "tags": []
   },
   "source": [
    "## Computing Likelihoods for Given Input Fields"
   ]
  },
  {
   "cell_type": "markdown",
   "id": "3d453b52-b558-44c1-b8fd-6a40dbba1105",
   "metadata": {},
   "source": [
    "### Based on Age\n",
    "\n",
    "Preliminary helper variables for both training and prediction"
   ]
  },
  {
   "cell_type": "code",
   "execution_count": 118,
   "id": "b61824ae-114c-4448-af39-34126313de1d",
   "metadata": {},
   "outputs": [],
   "source": [
    "# Not sure if there's anyone in india older than 130\n",
    "age_max = 130\n",
    "age_min = 5\n",
    "\n",
    "def parse_lower(age_range):\n",
    "    delimiter = '+' if '+' in age_range else '-'\n",
    "    txt = age_range.split(delimiter)[0]\n",
    "    return int(txt)\n",
    "\n",
    "def parse_upper(age_range):\n",
    "    if '+' in age_range:\n",
    "        return age_max \n",
    "    else:\n",
    "        return int(age_range.split('-')[1])\n",
    "    \n",
    "def find_age_bucket(table, age):\n",
    "    selector = (table['age_lower'] <= age) & (table['age_upper'] >= age)\n",
    "    return table.loc[selector]"
   ]
  },
  {
   "cell_type": "markdown",
   "id": "8ddee01f-105d-450d-9ea3-ade6fa7e7d16",
   "metadata": {},
   "source": [
    "Get total age makeup in the country"
   ]
  },
  {
   "cell_type": "code",
   "execution_count": 71,
   "id": "a70b5e21-1b86-4099-8fb3-1d662cab76af",
   "metadata": {},
   "outputs": [
    {
     "data": {
      "text/html": [
       "<div>\n",
       "<style scoped>\n",
       "    .dataframe tbody tr th:only-of-type {\n",
       "        vertical-align: middle;\n",
       "    }\n",
       "\n",
       "    .dataframe tbody tr th {\n",
       "        vertical-align: top;\n",
       "    }\n",
       "\n",
       "    .dataframe thead th {\n",
       "        text-align: right;\n",
       "    }\n",
       "</style>\n",
       "<table border=\"1\" class=\"dataframe\">\n",
       "  <thead>\n",
       "    <tr style=\"text-align: right;\">\n",
       "      <th></th>\n",
       "      <th>value</th>\n",
       "      <th>age_lower</th>\n",
       "      <th>age_upper</th>\n",
       "    </tr>\n",
       "  </thead>\n",
       "  <tbody>\n",
       "    <tr>\n",
       "      <th>0</th>\n",
       "      <td>0.104825</td>\n",
       "      <td>5</td>\n",
       "      <td>9</td>\n",
       "    </tr>\n",
       "    <tr>\n",
       "      <th>1</th>\n",
       "      <td>0.109600</td>\n",
       "      <td>10</td>\n",
       "      <td>14</td>\n",
       "    </tr>\n",
       "    <tr>\n",
       "      <th>2</th>\n",
       "      <td>0.099538</td>\n",
       "      <td>15</td>\n",
       "      <td>19</td>\n",
       "    </tr>\n",
       "    <tr>\n",
       "      <th>3</th>\n",
       "      <td>0.092021</td>\n",
       "      <td>20</td>\n",
       "      <td>24</td>\n",
       "    </tr>\n",
       "    <tr>\n",
       "      <th>4</th>\n",
       "      <td>0.083754</td>\n",
       "      <td>25</td>\n",
       "      <td>29</td>\n",
       "    </tr>\n",
       "    <tr>\n",
       "      <th>5</th>\n",
       "      <td>0.073167</td>\n",
       "      <td>30</td>\n",
       "      <td>34</td>\n",
       "    </tr>\n",
       "    <tr>\n",
       "      <th>6</th>\n",
       "      <td>0.070315</td>\n",
       "      <td>35</td>\n",
       "      <td>39</td>\n",
       "    </tr>\n",
       "    <tr>\n",
       "      <th>7</th>\n",
       "      <td>0.111290</td>\n",
       "      <td>40</td>\n",
       "      <td>49</td>\n",
       "    </tr>\n",
       "    <tr>\n",
       "      <th>8</th>\n",
       "      <td>0.072854</td>\n",
       "      <td>50</td>\n",
       "      <td>59</td>\n",
       "    </tr>\n",
       "    <tr>\n",
       "      <th>9</th>\n",
       "      <td>0.052953</td>\n",
       "      <td>60</td>\n",
       "      <td>69</td>\n",
       "    </tr>\n",
       "    <tr>\n",
       "      <th>10</th>\n",
       "      <td>0.023489</td>\n",
       "      <td>70</td>\n",
       "      <td>79</td>\n",
       "    </tr>\n",
       "    <tr>\n",
       "      <th>11</th>\n",
       "      <td>0.009323</td>\n",
       "      <td>80</td>\n",
       "      <td>130</td>\n",
       "    </tr>\n",
       "  </tbody>\n",
       "</table>\n",
       "</div>"
      ],
      "text/plain": [
       "       value  age_lower  age_upper\n",
       "0   0.104825          5          9\n",
       "1   0.109600         10         14\n",
       "2   0.099538         15         19\n",
       "3   0.092021         20         24\n",
       "4   0.083754         25         29\n",
       "5   0.073167         30         34\n",
       "6   0.070315         35         39\n",
       "7   0.111290         40         49\n",
       "8   0.072854         50         59\n",
       "9   0.052953         60         69\n",
       "10  0.023489         70         79\n",
       "11  0.009323         80        130"
      ]
     },
     "execution_count": 71,
     "metadata": {},
     "output_type": "execute_result"
    }
   ],
   "source": [
    "age_evidence = get_dataset('PC11_B01',\n",
    "                           state='0',\n",
    "                           district='0',\n",
    "                           scst='0',\n",
    "                           urbrur='0',\n",
    "                           sex='0',\n",
    "                           work_status='0',\n",
    "                           age='1-12',\n",
    "                           fields='age,value')\n",
    "\n",
    "age_evidence['age_lower'] = age_evidence['age'].map(parse_lower)\n",
    "age_evidence['age_upper'] = age_evidence['age'].map(parse_upper)\n",
    "del age_evidence['age']\n",
    "age_evidence['value'] /= total_population\n",
    "age_evidence"
   ]
  },
  {
   "cell_type": "markdown",
   "id": "b9385158-68e3-4036-a648-fe74becc4d78",
   "metadata": {},
   "source": [
    "Get likelihood of age for each state"
   ]
  },
  {
   "cell_type": "code",
   "execution_count": 83,
   "id": "b67a700e-e189-4fd8-ae65-7c1633f6ef0e",
   "metadata": {},
   "outputs": [
    {
     "data": {
      "text/html": [
       "<div>\n",
       "<style scoped>\n",
       "    .dataframe tbody tr th:only-of-type {\n",
       "        vertical-align: middle;\n",
       "    }\n",
       "\n",
       "    .dataframe tbody tr th {\n",
       "        vertical-align: top;\n",
       "    }\n",
       "\n",
       "    .dataframe thead th {\n",
       "        text-align: right;\n",
       "    }\n",
       "</style>\n",
       "<table border=\"1\" class=\"dataframe\">\n",
       "  <thead>\n",
       "    <tr style=\"text-align: right;\">\n",
       "      <th></th>\n",
       "      <th>state</th>\n",
       "      <th>value</th>\n",
       "      <th>age_lower</th>\n",
       "      <th>age_upper</th>\n",
       "    </tr>\n",
       "  </thead>\n",
       "  <tbody>\n",
       "    <tr>\n",
       "      <th>0</th>\n",
       "      <td>JAMMU &amp; KASHMIR</td>\n",
       "      <td>0.112586</td>\n",
       "      <td>5</td>\n",
       "      <td>9</td>\n",
       "    </tr>\n",
       "    <tr>\n",
       "      <th>1</th>\n",
       "      <td>JAMMU &amp; KASHMIR</td>\n",
       "      <td>0.112736</td>\n",
       "      <td>10</td>\n",
       "      <td>14</td>\n",
       "    </tr>\n",
       "    <tr>\n",
       "      <th>2</th>\n",
       "      <td>JAMMU &amp; KASHMIR</td>\n",
       "      <td>0.098671</td>\n",
       "      <td>15</td>\n",
       "      <td>19</td>\n",
       "    </tr>\n",
       "    <tr>\n",
       "      <th>3</th>\n",
       "      <td>JAMMU &amp; KASHMIR</td>\n",
       "      <td>0.092567</td>\n",
       "      <td>20</td>\n",
       "      <td>24</td>\n",
       "    </tr>\n",
       "    <tr>\n",
       "      <th>4</th>\n",
       "      <td>JAMMU &amp; KASHMIR</td>\n",
       "      <td>0.086604</td>\n",
       "      <td>25</td>\n",
       "      <td>29</td>\n",
       "    </tr>\n",
       "    <tr>\n",
       "      <th>...</th>\n",
       "      <td>...</td>\n",
       "      <td>...</td>\n",
       "      <td>...</td>\n",
       "      <td>...</td>\n",
       "    </tr>\n",
       "    <tr>\n",
       "      <th>415</th>\n",
       "      <td>ANDAMAN &amp; NICOBAR ISLANDS</td>\n",
       "      <td>0.132944</td>\n",
       "      <td>40</td>\n",
       "      <td>49</td>\n",
       "    </tr>\n",
       "    <tr>\n",
       "      <th>416</th>\n",
       "      <td>ANDAMAN &amp; NICOBAR ISLANDS</td>\n",
       "      <td>0.081691</td>\n",
       "      <td>50</td>\n",
       "      <td>59</td>\n",
       "    </tr>\n",
       "    <tr>\n",
       "      <th>417</th>\n",
       "      <td>ANDAMAN &amp; NICOBAR ISLANDS</td>\n",
       "      <td>0.043623</td>\n",
       "      <td>60</td>\n",
       "      <td>69</td>\n",
       "    </tr>\n",
       "    <tr>\n",
       "      <th>418</th>\n",
       "      <td>ANDAMAN &amp; NICOBAR ISLANDS</td>\n",
       "      <td>0.016682</td>\n",
       "      <td>70</td>\n",
       "      <td>79</td>\n",
       "    </tr>\n",
       "    <tr>\n",
       "      <th>419</th>\n",
       "      <td>ANDAMAN &amp; NICOBAR ISLANDS</td>\n",
       "      <td>0.006498</td>\n",
       "      <td>80</td>\n",
       "      <td>130</td>\n",
       "    </tr>\n",
       "  </tbody>\n",
       "</table>\n",
       "<p>420 rows × 4 columns</p>\n",
       "</div>"
      ],
      "text/plain": [
       "                         state     value  age_lower  age_upper\n",
       "0              JAMMU & KASHMIR  0.112586          5          9\n",
       "1              JAMMU & KASHMIR  0.112736         10         14\n",
       "2              JAMMU & KASHMIR  0.098671         15         19\n",
       "3              JAMMU & KASHMIR  0.092567         20         24\n",
       "4              JAMMU & KASHMIR  0.086604         25         29\n",
       "..                         ...       ...        ...        ...\n",
       "415  ANDAMAN & NICOBAR ISLANDS  0.132944         40         49\n",
       "416  ANDAMAN & NICOBAR ISLANDS  0.081691         50         59\n",
       "417  ANDAMAN & NICOBAR ISLANDS  0.043623         60         69\n",
       "418  ANDAMAN & NICOBAR ISLANDS  0.016682         70         79\n",
       "419  ANDAMAN & NICOBAR ISLANDS  0.006498         80        130\n",
       "\n",
       "[420 rows x 4 columns]"
      ]
     },
     "execution_count": 83,
     "metadata": {},
     "output_type": "execute_result"
    }
   ],
   "source": [
    "age_likelihood_given_state = get_dataset('PC11_B01',\n",
    "                                         state='1-35',\n",
    "                                         district='0',\n",
    "                                         scst='0',\n",
    "                                         urbrur='0',\n",
    "                                         sex='0',\n",
    "                                         work_status='0',\n",
    "                                         age='1-12',\n",
    "                                         limit=420,\n",
    "                                         fields='age,state,value')\n",
    "\n",
    "age_likelihood_given_state['age_lower'] = age_likelihood_given_state['age'].map(parse_lower)\n",
    "age_likelihood_given_state['age_upper'] = age_likelihood_given_state['age'].map(parse_upper)\n",
    "del age_likelihood_given_state['age']\n",
    "age_likelihood_given_state['value'] = age_likelihood_given_state.apply(lambda r: r['value'] / state_populations[r['state']], axis=1)\n",
    "age_likelihood_given_state"
   ]
  },
  {
   "cell_type": "markdown",
   "id": "954cf1fa-e9cd-4c9c-9a59-c318fea42b0d",
   "metadata": {},
   "source": [
    "Get relative populations per sex in country. Unfortunately the only sexes are available are Male and Female. I can add an option for \"Other\" which will just ignore this term\""
   ]
  },
  {
   "cell_type": "code",
   "execution_count": 28,
   "id": "1fe91ef2-bd2a-4e32-9d55-7e2332fcdcfa",
   "metadata": {},
   "outputs": [
    {
     "data": {
      "text/plain": [
       "sex\n",
       "Male      0.514736\n",
       "Female    0.485264\n",
       "Name: sex_evidence, dtype: float64"
      ]
     },
     "execution_count": 28,
     "metadata": {},
     "output_type": "execute_result"
    }
   ],
   "source": [
    "# Aptly named\n",
    "sex_evidence = get_dataset('PC11_C01',\n",
    "                           state='0',\n",
    "                           sex='1,2',\n",
    "                           urbrur='0',\n",
    "                           geo_level='0',\n",
    "                           religion='0',\n",
    "                           fields='sex,value')\n",
    "sex_evidence = sex_evidence.set_index('sex')['value']\n",
    "sex_evidence = sex_evidence.rename('sex_evidence')\n",
    "sex_evidence /= total_population\n",
    "sex_evidence"
   ]
  },
  {
   "cell_type": "markdown",
   "id": "82638551-cb99-4020-82b4-bd4489cbd9fd",
   "metadata": {},
   "source": [
    "Now do it for each state"
   ]
  },
  {
   "cell_type": "code",
   "execution_count": 29,
   "id": "c16b60a6-4774-4e22-8579-3d9bb42e1954",
   "metadata": {},
   "outputs": [
    {
     "data": {
      "text/plain": [
       "sex     state                    \n",
       "Male    JAMMU & KASHMIR              0.529503\n",
       "        HIMACHAL PRADESH             0.507221\n",
       "        PUNJAB                       0.527675\n",
       "        CHANDIGARH                   0.550157\n",
       "        UTTARAKHAND                  0.509382\n",
       "                                       ...   \n",
       "Female  LAKSHADWEEP                  0.486250\n",
       "        KERALA                       0.520224\n",
       "        TAMIL NADU                   0.499107\n",
       "        PUDUCHERRY                   0.509187\n",
       "        ANDAMAN & NICOBAR ISLANDS    0.466944\n",
       "Name: value, Length: 70, dtype: float64"
      ]
     },
     "execution_count": 29,
     "metadata": {},
     "output_type": "execute_result"
    }
   ],
   "source": [
    "sex_likelihood_given_state = get_dataset('PC11_C01',\n",
    "                                         state='1-35',\n",
    "                                         sex='1,2',\n",
    "                                         urbrur='0',\n",
    "                                         geo_level='1',\n",
    "                                         religion='0',\n",
    "                                         fields='state,sex,value')\n",
    "sex_likelihood_given_state = sex_likelihood_given_state.set_index(['sex', 'state'])['value']\n",
    "sex_likelihood_given_state /= state_populations\n",
    "sex_likelihood_given_state"
   ]
  },
  {
   "cell_type": "markdown",
   "id": "4b9f18b5-8635-44fc-967f-da6f76fe14e8",
   "metadata": {
    "tags": []
   },
   "source": [
    "### Based on Religion\n",
    "\n",
    "Get total religious makeup in country as well as for each state"
   ]
  },
  {
   "cell_type": "code",
   "execution_count": 30,
   "id": "6b0c226d-f5c1-4f77-bea5-3d241b0aa8a2",
   "metadata": {
    "tags": []
   },
   "outputs": [
    {
     "data": {
      "text/plain": [
       "religion\n",
       "Hindu        0.797996\n",
       "Muslim       0.142251\n",
       "Christian    0.022975\n",
       "Sikh         0.017205\n",
       "Buddhist     0.006973\n",
       "Jain         0.003677\n",
       "Name: religion_evidence, dtype: float64"
      ]
     },
     "execution_count": 30,
     "metadata": {},
     "output_type": "execute_result"
    }
   ],
   "source": [
    "# Relative religions in the country\n",
    "religion_evidence = get_dataset('PC11_C01',\n",
    "                                state='0',\n",
    "                                sex='0',\n",
    "                                urbrur='0',\n",
    "                                religion='1-6',\n",
    "                                fields='religion,value')\n",
    "religion_evidence = religion_evidence.set_index('religion')['value']\n",
    "religion_evidence = religion_evidence.rename('religion_evidence')\n",
    "religion_evidence /= total_population\n",
    "religion_evidence"
   ]
  },
  {
   "cell_type": "code",
   "execution_count": 31,
   "id": "eb3926cf-c16f-4870-8bcd-1b2effdbe7a5",
   "metadata": {},
   "outputs": [
    {
     "data": {
      "text/plain": [
       "religion  state                    \n",
       "Hindu     JAMMU & KASHMIR              0.284394\n",
       "          HIMACHAL PRADESH             0.951660\n",
       "          PUNJAB                       0.384890\n",
       "          CHANDIGARH                   0.807782\n",
       "          UTTARAKHAND                  0.829704\n",
       "                                         ...   \n",
       "Jain      LAKSHADWEEP                  0.000171\n",
       "          KERALA                       0.000134\n",
       "          TAMIL NADU                   0.001237\n",
       "          PUDUCHERRY                   0.001122\n",
       "          ANDAMAN & NICOBAR ISLANDS    0.000081\n",
       "Name: value, Length: 210, dtype: float64"
      ]
     },
     "execution_count": 31,
     "metadata": {},
     "output_type": "execute_result"
    }
   ],
   "source": [
    "# Likelihood of given religion per state\n",
    "religion_likelihood_given_state = get_dataset('PC11_C01', \n",
    "                                              sex='0', \n",
    "                                              urbrur='0', \n",
    "                                              religion='1-6', \n",
    "                                              state='1-35', \n",
    "                                              district='0',\n",
    "                                              fields='religion,state,value',\n",
    "                                              limit=210)\n",
    "religion_likelihood_given_state = religion_likelihood_given_state.set_index(['religion', 'state'])['value']\n",
    "religion_likelihood_given_state /= state_populations\n",
    "religion_likelihood_given_state"
   ]
  },
  {
   "cell_type": "markdown",
   "id": "c0b121c4-c665-4ca0-acc2-cf7e2eec7352",
   "metadata": {
    "tags": []
   },
   "source": [
    "## Building and Testing Model\n",
    "\n",
    "The naive bayesian model"
   ]
  },
  {
   "cell_type": "code",
   "execution_count": 132,
   "id": "c1b8a47a-d9d0-4b06-a6f8-4719006496fc",
   "metadata": {},
   "outputs": [],
   "source": [
    "def prediction_model(religion, age):\n",
    "    # Religion odds calculations\n",
    "    religion_odds = religion_likelihood_given_state[religion] \n",
    "    religion_odds /= religion_evidence[religion]\n",
    "    \n",
    "    # Age odds calculations\n",
    "    age_likelihood_given_state_q = find_age_bucket(age_likelihood_given_state, age)\n",
    "    age_likelihood_given_state_q = age_likelihood_given_state_q.set_index('state')['value']\n",
    "    age_evidence_q = find_age_bucket(age_evidence, age)['value'].values[0]\n",
    "    age_odds = age_likelihood_given_state_q / age_evidence_q\n",
    "    \n",
    "    # Return final state probabilities\n",
    "    return state_priors * prod([\n",
    "        religion_odds,\n",
    "        age_odds\n",
    "    ])"
   ]
  },
  {
   "cell_type": "markdown",
   "id": "3840f8ba-6ccc-447e-b340-19d37e504a9c",
   "metadata": {},
   "source": [
    "Here's an interactive tool used to predict what state you're from"
   ]
  },
  {
   "cell_type": "code",
   "execution_count": 148,
   "id": "d101f8c8-74a0-47cb-9c5b-e42619281b1a",
   "metadata": {},
   "outputs": [
    {
     "data": {
      "application/vnd.jupyter.widget-view+json": {
       "model_id": "099b571a435c4f2f91b0084c043e2d11",
       "version_major": 2,
       "version_minor": 0
      },
      "text/plain": [
       "HBox(children=(VBox(children=(BoundedIntText(value=10, description='Age:', max=130, min=5), Dropdown(descripti…"
      ]
     },
     "metadata": {},
     "output_type": "display_data"
    }
   ],
   "source": [
    "n_results = 5\n",
    "\n",
    "# Selection fields\n",
    "religion_select = wg.Dropdown(options=['Hindu','Muslim','Christian','Sikh','Jain'],\n",
    "                              value='Hindu',\n",
    "                              description='Religion:',\n",
    "                              disabled=False)\n",
    "age_select = wg.BoundedIntText(min=age_min, \n",
    "                               max=age_max, \n",
    "                               value=10, \n",
    "                               description='Age:')\n",
    "form = wg.VBox([ \n",
    "    age_select, \n",
    "    religion_select ])\n",
    "graph_output = wg.Output()\n",
    "\n",
    "def display_results(evt=None):\n",
    "    \"\"\"\n",
    "    Display updated results of prediction\n",
    "    any time a field changes\n",
    "    \"\"\"\n",
    "    # Get posterior probabilities\n",
    "    state_posterior = prediction_model(\n",
    "        religion=religion_select.value,\n",
    "        age=age_select.value)\n",
    "    \n",
    "    # Get top n values\n",
    "    top_n = state_posterior.sort_values()[-n_results:]\n",
    "    \n",
    "    # Plot results on graph\n",
    "    graph_output.clear_output()\n",
    "    with graph_output:\n",
    "        xticks = PercentFormatter(xmax=1, decimals=0)\n",
    "        ax = top_n.plot.barh(xlabel='')\n",
    "        ax.xaxis.set_major_formatter(xticks)\n",
    "        plt.show();\n",
    "        \n",
    "# Hook callback to any change events\n",
    "religion_select.observe(display_results, 'value')\n",
    "age_select.observe(display_results, 'value')\n",
    "\n",
    "# Display applet\n",
    "display(wg.HBox([ form, graph_output ]))\n",
    "display_results()"
   ]
  }
 ],
 "metadata": {
  "kernelspec": {
   "display_name": "Python 3 (ipykernel)",
   "language": "python",
   "name": "python3"
  },
  "language_info": {
   "codemirror_mode": {
    "name": "ipython",
    "version": 3
   },
   "file_extension": ".py",
   "mimetype": "text/x-python",
   "name": "python",
   "nbconvert_exporter": "python",
   "pygments_lexer": "ipython3",
   "version": "3.9.16"
  }
 },
 "nbformat": 4,
 "nbformat_minor": 5
}
