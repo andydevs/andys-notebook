{
 "cells": [
  {
   "cell_type": "markdown",
   "id": "9607d51a-d6e3-4ee8-89d7-15b9c504f837",
   "metadata": {},
   "source": [
    "# Using Naive Bayes to Predict What State You're From (If You Live in India)"
   ]
  },
  {
   "cell_type": "code",
   "execution_count": 1,
   "id": "77c939ad-c9d3-4c4d-8994-78ae3f47faaf",
   "metadata": {},
   "outputs": [],
   "source": [
    "import numpy as np\n",
    "import pandas as pd\n",
    "import requests\n",
    "\n",
    "base_url = 'http://digital-library.census.ihsn.org/index.php/api/tables/'"
   ]
  },
  {
   "cell_type": "code",
   "execution_count": 2,
   "id": "a4854d8e-b005-48b5-bc09-1c2153b4d818",
   "metadata": {},
   "outputs": [],
   "source": [
    "# Create maps for state, district, \n",
    "# subdistrict, and town-village\n",
    "# 0 means ALL\n",
    "sdsdtv = pd.read_csv('data/PC11_TV_DIR.csv')\n",
    "\n",
    "# States map\n",
    "states = sdsdtv.loc[ (sdsdtv['District Code'] == 0) \\\n",
    "                    & (sdsdtv['Sub District Code'] == 0) \\\n",
    "                    & (sdsdtv['Town-Village Code'] == 0) ]\n",
    "states = states[[\n",
    "    'State Code', \n",
    "    'Town-Village Name'\n",
    "]]\n",
    "states = states.set_index('State Code')\n",
    "states = states['Town-Village Name']\n",
    "states.at[0] = 'ALL'\n",
    "states = states.sort_index()\n",
    "states = states.rename('State Name')\n",
    "\n",
    "# Districts map\n",
    "districts = sdsdtv.loc[ (sdsdtv['Sub District Code'] == 0) \\\n",
    "                    & (sdsdtv['Town-Village Code'] == 0) ]\n",
    "districts = districts[[ 'District Code', 'Town-Village Name' ]]\n",
    "districts = districts.drop_duplicates(subset=['District Code'])\n",
    "districts = districts.set_index('District Code')\n",
    "districts = districts['Town-Village Name']\n",
    "districts.at[0] = 'All'\n",
    "districts = districts.sort_index()\n",
    "districts = districts.rename('District Name')\n",
    "\n",
    "# Sub Districts map\n",
    "sub_districts = sdsdtv.loc[ (sdsdtv['Town-Village Code'] == 0) ]\n",
    "sub_districts = sub_districts[[\n",
    "    'Sub District Code',\n",
    "    'Town-Village Name'\n",
    "]]\n",
    "sub_districts = sub_districts.drop_duplicates(subset=['Sub District Code'])\n",
    "sub_districts = sub_districts.set_index('Sub District Code')\n",
    "sub_districts = sub_districts['Town-Village Name']\n",
    "sub_districts.at[0] = 'All'\n",
    "sub_districts = sub_districts.sort_index()\n",
    "sub_districts = sub_districts.rename('Sub District Name')\n",
    "\n",
    "# Town/Villages map\n",
    "town_villages = sdsdtv[[ 'Town-Village Code', 'Town-Village Name' ]]\n",
    "town_villages = town_villages.drop_duplicates(subset=['Town-Village Code'])\n",
    "town_villages = town_villages.set_index('Town-Village Code')\n",
    "town_villages = town_villages['Town-Village Name']\n",
    "town_villages.at[0] = 'All'\n",
    "town_villages = town_villages.sort_index()\n",
    "town_villages = town_villages.rename('Sub District Name')"
   ]
  },
  {
   "cell_type": "code",
   "execution_count": 15,
   "id": "19f671df-8597-4fbd-88a3-395b1862d5de",
   "metadata": {},
   "outputs": [],
   "source": [
    "def get_dataset(table, **kwargs):\n",
    "    # Get info of dataset (features)\n",
    "    year = kwargs.pop('year', '2011')\n",
    "    info_url = base_url + f'/info/{year}/{table}'\n",
    "    info = requests.get(info_url).json()\n",
    "    features = info['result']['result_']['features']\n",
    "    feature_map = { \n",
    "        feature['feature_name'] : { \n",
    "            c['code'] : c['label'] \n",
    "            for c in feature['code_list'] } \n",
    "        for feature in features }\n",
    "    \n",
    "    # Get data\n",
    "    data_url = base_url + f'/data/{year}/{table}'\n",
    "    query_string = '?' + '&'.join(f'{k}={v}' for k,v in kwargs.items()) if kwargs else ''\n",
    "    body = requests.get(data_url+query_string).json()\n",
    "    \n",
    "    # Map codes to features in dataset\n",
    "    df = pd.DataFrame(body['data'])\n",
    "    df['state'] = df['state'].map(lambda r: states.at[r])\n",
    "    df['district'] = df['district'].map(lambda r: districts.at[r])\n",
    "    df['subdistrict'] = df['subdistrict'].map(lambda r: sub_districts.at[r])\n",
    "    df['town'] = df['town'].map(lambda r: town_villages.at[r])\n",
    "    for feature, labels in feature_map.items():\n",
    "        df[feature] = df[feature].map(lambda row: labels[row])\n",
    "        \n",
    "    # Return dataframe\n",
    "    return df"
   ]
  },
  {
   "cell_type": "code",
   "execution_count": 54,
   "id": "6b0c226d-f5c1-4f77-bea5-3d241b0aa8a2",
   "metadata": {
    "tags": []
   },
   "outputs": [
    {
     "data": {
      "text/plain": [
       "religion\n",
       "Hindu        0.805181\n",
       "Muslim       0.143532\n",
       "Christian    0.023182\n",
       "Sikh         0.017360\n",
       "Buddhist     0.007036\n",
       "Jain         0.003710\n",
       "Name: religion, dtype: float64"
      ]
     },
     "execution_count": 54,
     "metadata": {},
     "output_type": "execute_result"
    }
   ],
   "source": [
    "# Relative Religions\n",
    "religion = get_dataset('PC11_C01',\n",
    "                      state='0',\n",
    "                      sex='0',\n",
    "                      urbrur='0',\n",
    "                      religion='1,2,3,4,5,6')\n",
    "religion = religion.set_index('religion')['value']\n",
    "religion = religion.rename('religion')\n",
    "religion = religion / religion.sum()\n",
    "religion"
   ]
  }
 ],
 "metadata": {
  "kernelspec": {
   "display_name": "Python 3 (ipykernel)",
   "language": "python",
   "name": "python3"
  },
  "language_info": {
   "codemirror_mode": {
    "name": "ipython",
    "version": 3
   },
   "file_extension": ".py",
   "mimetype": "text/x-python",
   "name": "python",
   "nbconvert_exporter": "python",
   "pygments_lexer": "ipython3",
   "version": "3.9.16"
  }
 },
 "nbformat": 4,
 "nbformat_minor": 5
}
