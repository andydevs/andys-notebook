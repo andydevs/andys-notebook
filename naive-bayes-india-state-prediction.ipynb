{
 "cells": [
  {
   "cell_type": "markdown",
   "id": "9607d51a-d6e3-4ee8-89d7-15b9c504f837",
   "metadata": {},
   "source": [
    "# Using Naive Bayes to Predict What State You're From (If You Live in India)"
   ]
  },
  {
   "cell_type": "code",
   "execution_count": 41,
   "id": "77c939ad-c9d3-4c4d-8994-78ae3f47faaf",
   "metadata": {},
   "outputs": [],
   "source": [
    "import numpy as np\n",
    "import pandas as pd\n",
    "import requests\n",
    "\n",
    "base_url = 'http://digital-library.census.ihsn.org/index.php/api/tables/'"
   ]
  },
  {
   "cell_type": "markdown",
   "id": "ed200618-1980-43f5-a4cb-5af85f39fa44",
   "metadata": {},
   "source": [
    "I have some preemptive metadata in a csv file. The India Census API uses codes for many of the different fields, some of which is provided alongside code labels with each request, but others are common and inferred through this metadata."
   ]
  },
  {
   "cell_type": "code",
   "execution_count": 42,
   "id": "a4854d8e-b005-48b5-bc09-1c2153b4d818",
   "metadata": {},
   "outputs": [],
   "source": [
    "# Create maps for state, district, \n",
    "# subdistrict, and town-village\n",
    "# 0 means ALL\n",
    "sdsdtv = pd.read_csv('data/PC11_TV_DIR.csv')\n",
    "\n",
    "# States map\n",
    "states = sdsdtv.loc[ (sdsdtv['District Code'] == 0) \\\n",
    "                    & (sdsdtv['Sub District Code'] == 0) \\\n",
    "                    & (sdsdtv['Town-Village Code'] == 0) ]\n",
    "states = states[[\n",
    "    'State Code', \n",
    "    'Town-Village Name'\n",
    "]]\n",
    "states = states.set_index('State Code')\n",
    "states = states['Town-Village Name']\n",
    "states.at[0] = 'ALL'\n",
    "states = states.sort_index()\n",
    "states = states.rename('State Name')\n",
    "\n",
    "# Districts map\n",
    "districts = sdsdtv.loc[ (sdsdtv['Sub District Code'] == 0) \\\n",
    "                    & (sdsdtv['Town-Village Code'] == 0) ]\n",
    "districts = districts[[ 'District Code', 'Town-Village Name' ]]\n",
    "districts = districts.drop_duplicates(subset=['District Code'])\n",
    "districts = districts.set_index('District Code')\n",
    "districts = districts['Town-Village Name']\n",
    "districts.at[0] = 'All'\n",
    "districts = districts.sort_index()\n",
    "districts = districts.rename('District Name')\n",
    "\n",
    "# Sub Districts map\n",
    "sub_districts = sdsdtv.loc[ (sdsdtv['Town-Village Code'] == 0) ]\n",
    "sub_districts = sub_districts[[\n",
    "    'Sub District Code',\n",
    "    'Town-Village Name'\n",
    "]]\n",
    "sub_districts = sub_districts.drop_duplicates(subset=['Sub District Code'])\n",
    "sub_districts = sub_districts.set_index('Sub District Code')\n",
    "sub_districts = sub_districts['Town-Village Name']\n",
    "sub_districts.at[0] = 'All'\n",
    "sub_districts = sub_districts.sort_index()\n",
    "sub_districts = sub_districts.rename('Sub District Name')\n",
    "\n",
    "# Town/Villages map\n",
    "town_villages = sdsdtv[[ 'Town-Village Code', 'Town-Village Name' ]]\n",
    "town_villages = town_villages.drop_duplicates(subset=['Town-Village Code'])\n",
    "town_villages = town_villages.set_index('Town-Village Code')\n",
    "town_villages = town_villages['Town-Village Name']\n",
    "town_villages.at[0] = 'All'\n",
    "town_villages = town_villages.sort_index()\n",
    "town_villages = town_villages.rename('Sub District Name')"
   ]
  },
  {
   "cell_type": "code",
   "execution_count": 43,
   "id": "19f671df-8597-4fbd-88a3-395b1862d5de",
   "metadata": {},
   "outputs": [],
   "source": [
    "common_features = {\n",
    "    'state': states,\n",
    "    'district': districts,\n",
    "    'subdistrict': sub_districts,\n",
    "    'town': town_villages\n",
    "}\n",
    "\n",
    "def get_dataset(table, **kwargs):\n",
    "    # Get info of dataset (features)\n",
    "    year = kwargs.pop('year', '2011')\n",
    "    info_url = base_url + f'/info/{year}/{table}'\n",
    "    info = requests.get(info_url).json()\n",
    "    features = info['result']['result_']['features']\n",
    "    feature_map = { \n",
    "        feature['feature_name'] : pd.Series(\n",
    "            data=[c['label'] for c in feature['code_list']],\n",
    "            index=[c['code'] for c in feature['code_list']])\n",
    "        for feature in features }\n",
    "    feature_map |= common_features\n",
    "    \n",
    "    # Get data\n",
    "    data_url = base_url + f'/data/{year}/{table}'\n",
    "    query_string = '?' + '&'.join(f'{k}={v}' for k,v in kwargs.items()) if kwargs else ''\n",
    "    body = requests.get(data_url+query_string).json()\n",
    "    \n",
    "    # Map codes to features in dataset\n",
    "    df = pd.DataFrame(body['data'])\n",
    "    for feature, labels in feature_map.items():\n",
    "        if feature in df:\n",
    "            df[feature] = df[feature].map(lambda r: labels.at[r])\n",
    "        \n",
    "    # Return dataframe\n",
    "    return df"
   ]
  },
  {
   "cell_type": "code",
   "execution_count": 44,
   "id": "fe2d9063-51f5-4b89-8ccf-8292ac71f6f5",
   "metadata": {},
   "outputs": [
    {
     "name": "stdout",
     "output_type": "stream",
     "text": [
      "Total Population: 1210854977\n"
     ]
    }
   ],
   "source": [
    "# Get total population (as of 2011)\n",
    "population = get_dataset('PC11_C01', \n",
    "                         state='0', \n",
    "                         urbrur='0', \n",
    "                         geo_level='0',\n",
    "                         sex='0',\n",
    "                         religion='0',\n",
    "                         fields='value')\n",
    "population = population['value'].at[0]\n",
    "print('Total Population:', population)"
   ]
  },
  {
   "cell_type": "code",
   "execution_count": 45,
   "id": "43e432cd-85fa-4851-b76d-c3c9bd943213",
   "metadata": {},
   "outputs": [
    {
     "data": {
      "text/plain": [
       "state\n",
       "JAMMU & KASHMIR               12541302\n",
       "HIMACHAL PRADESH               6864602\n",
       "PUNJAB                        27743338\n",
       "CHANDIGARH                     1055450\n",
       "UTTARAKHAND                   10086292\n",
       "HARYANA                       25351462\n",
       "NCT OF DELHI                  16787941\n",
       "RAJASTHAN                     68548437\n",
       "UTTAR PRADESH                199812341\n",
       "BIHAR                        104099452\n",
       "SIKKIM                          610577\n",
       "ARUNACHAL PRADESH              1383727\n",
       "NAGALAND                       1978502\n",
       "MANIPUR                        2855794\n",
       "MIZORAM                        1097206\n",
       "TRIPURA                        3673917\n",
       "MEGHALAYA                      2966889\n",
       "ASSAM                         31205576\n",
       "WEST BENGAL                   91276115\n",
       "JHARKHAND                     32988134\n",
       "ODISHA                        41974218\n",
       "CHHATTISGARH                  25545198\n",
       "MADHYA PRADESH                72626809\n",
       "GUJARAT                       60439692\n",
       "DAMAN & DIU                     243247\n",
       "DADRA & NAGAR HAVELI            343709\n",
       "MAHARASHTRA                  112374333\n",
       "ANDHRA PRADESH                84580777\n",
       "KARNATAKA                     61095297\n",
       "GOA                            1458545\n",
       "LAKSHADWEEP                      64473\n",
       "KERALA                        33406061\n",
       "TAMIL NADU                    72147030\n",
       "PUDUCHERRY                     1247953\n",
       "ANDAMAN & NICOBAR ISLANDS       380581\n",
       "Name: state, dtype: int64"
      ]
     },
     "execution_count": 45,
     "metadata": {},
     "output_type": "execute_result"
    }
   ],
   "source": [
    "# Get state populations\n",
    "states = get_dataset('PC11_C01',\n",
    "                     state='1-35',\n",
    "                     urbrur='0',\n",
    "                     geo_level='1',\n",
    "                     sex='0',\n",
    "                     religion='0', \n",
    "                     fields='state,value')\n",
    "states = states.set_index('state')['value']\n",
    "states = states.rename('state')\n",
    "states"
   ]
  },
  {
   "cell_type": "code",
   "execution_count": 48,
   "id": "6b0c226d-f5c1-4f77-bea5-3d241b0aa8a2",
   "metadata": {
    "tags": []
   },
   "outputs": [
    {
     "data": {
      "text/plain": [
       "religion\n",
       "Hindu        0.797996\n",
       "Muslim       0.142251\n",
       "Christian    0.022975\n",
       "Sikh         0.017205\n",
       "Buddhist     0.006973\n",
       "Jain         0.003677\n",
       "Name: religion, dtype: float64"
      ]
     },
     "execution_count": 48,
     "metadata": {},
     "output_type": "execute_result"
    }
   ],
   "source": [
    "# Relative religions in the country\n",
    "religion = get_dataset('PC11_C01',\n",
    "                      state='0',\n",
    "                      sex='0',\n",
    "                      urbrur='0',\n",
    "                      religion='1-6',\n",
    "                      fields='religion,value')\n",
    "religion = religion.set_index('religion')['value']\n",
    "religion = religion.rename('religion')\n",
    "religion /= population\n",
    "religion"
   ]
  },
  {
   "cell_type": "code",
   "execution_count": 51,
   "id": "eb3926cf-c16f-4870-8bcd-1b2effdbe7a5",
   "metadata": {},
   "outputs": [
    {
     "data": {
      "text/plain": [
       "state                      religion\n",
       "JAMMU & KASHMIR            Hindu       0.284394\n",
       "HIMACHAL PRADESH           Hindu       0.951660\n",
       "PUNJAB                     Hindu       0.384890\n",
       "CHANDIGARH                 Hindu       0.807782\n",
       "UTTARAKHAND                Hindu       0.829704\n",
       "                                         ...   \n",
       "LAKSHADWEEP                Jain        0.000171\n",
       "KERALA                     Jain        0.000134\n",
       "TAMIL NADU                 Jain        0.001237\n",
       "PUDUCHERRY                 Jain        0.001122\n",
       "ANDAMAN & NICOBAR ISLANDS  Jain        0.000081\n",
       "Name: value, Length: 210, dtype: float64"
      ]
     },
     "execution_count": 51,
     "metadata": {},
     "output_type": "execute_result"
    }
   ],
   "source": [
    "# Religions per state\n",
    "religion_given_state = get_dataset('PC11_C01',\n",
    "                                 sex='0',\n",
    "                                 urbrur='0',\n",
    "                                 religion='1-6',\n",
    "                                 state='1-35',\n",
    "                                 district='0',\n",
    "                                 limit=(35*6))\n",
    "religion_given_state = religion_given_state.set_index(['state', 'religion'])['value']\n",
    "religion_given_state /= states\n",
    "religion_given_state"
   ]
  }
 ],
 "metadata": {
  "kernelspec": {
   "display_name": "Python 3 (ipykernel)",
   "language": "python",
   "name": "python3"
  },
  "language_info": {
   "codemirror_mode": {
    "name": "ipython",
    "version": 3
   },
   "file_extension": ".py",
   "mimetype": "text/x-python",
   "name": "python",
   "nbconvert_exporter": "python",
   "pygments_lexer": "ipython3",
   "version": "3.9.16"
  }
 },
 "nbformat": 4,
 "nbformat_minor": 5
}
