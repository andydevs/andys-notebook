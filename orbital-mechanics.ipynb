{
 "cells": [
  {
   "cell_type": "markdown",
   "id": "a263016a-cdb7-44ca-83d2-29c46fa7a11b",
   "metadata": {},
   "source": [
    "# Simulating Orbital Mechanics"
   ]
  },
  {
   "cell_type": "code",
   "execution_count": 4,
   "id": "e0d59bec-44fc-48cd-8abb-116c52aaf041",
   "metadata": {},
   "outputs": [],
   "source": [
    "import numpy as np\n",
    "import sympy as sp\n",
    "import sympy.physics.mechanics as spm\n",
    "import scipy.integrate as spi\n",
    "import matplotlib.pyplot as plt"
   ]
  },
  {
   "cell_type": "markdown",
   "id": "8ec73c44-df45-42ab-bcf2-88dfaea2b9d2",
   "metadata": {},
   "source": [
    "## 2D Two Body Problem\n",
    "\n",
    "System has rotational symmetry. Degrees of freedom $r_1\\ r_2\\ \\theta_1\\ \\theta_2$ and derivatives $\\dot{r}_1\\ \\dot{r}_2\\ \\dot{\\theta}_1\\ \\dot{\\theta}_2$."
   ]
  },
  {
   "cell_type": "code",
   "execution_count": 5,
   "id": "efd5cd76-044c-4938-9625-b6315c83891e",
   "metadata": {},
   "outputs": [],
   "source": [
    "G, m1, m2 = sp.symbols('G m_1 m_2')\n",
    "r1, r2, th1, th2 = spm.dynamicsymbols('r_1 r_2 \\\\theta_1 \\\\theta_2')\n",
    "r1d, r2d, th1d, th2d = tuple( s.diff() for s in (r1, r2, th1, th2) )"
   ]
  }
 ],
 "metadata": {
  "kernelspec": {
   "display_name": "Python 3 (ipykernel)",
   "language": "python",
   "name": "python3"
  },
  "language_info": {
   "codemirror_mode": {
    "name": "ipython",
    "version": 3
   },
   "file_extension": ".py",
   "mimetype": "text/x-python",
   "name": "python",
   "nbconvert_exporter": "python",
   "pygments_lexer": "ipython3",
   "version": "3.10.4"
  }
 },
 "nbformat": 4,
 "nbformat_minor": 5
}
