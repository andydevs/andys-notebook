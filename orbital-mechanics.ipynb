{
 "cells": [
  {
   "cell_type": "markdown",
   "id": "a263016a-cdb7-44ca-83d2-29c46fa7a11b",
   "metadata": {},
   "source": [
    "# Simulating Orbital Mechanics"
   ]
  },
  {
   "cell_type": "code",
   "execution_count": 65,
   "id": "e0d59bec-44fc-48cd-8abb-116c52aaf041",
   "metadata": {},
   "outputs": [],
   "source": [
    "import numpy as np\n",
    "import sympy as sp\n",
    "import sympy.physics.mechanics as spm\n",
    "import scipy.integrate as spi\n",
    "import matplotlib.pyplot as plt\n",
    "sp.init_printing()\n",
    "spm.init_vprinting()\n",
    "dispForm = lambda lab, form: display(sp.Eq(sp.Symbol(lab), form))"
   ]
  },
  {
   "cell_type": "markdown",
   "id": "8ec73c44-df45-42ab-bcf2-88dfaea2b9d2",
   "metadata": {},
   "source": [
    "## 2D Two Body Problem\n",
    "\n",
    "![Two Body Problem](resources/two-body-orbital-diagram.svg)\n",
    "\n",
    "System has rotational symmetry. Using polar coordinates $r_1\\ \\theta_1\\ r_2\\ \\theta_2$ and derivatives $\\dot{r}_1\\ \\dot{\\theta}_1\\ \\dot{r}_2\\ \\dot{\\theta}_2$. We can declare $s$ as the distance between both planets. $s$ is described by the following formula:\n",
    "\n",
    "$$\n",
    "s = \\sqrt{ r_1^2 + r_2^2 - 2 r_1 r_2 \\cos{ \\left( \\theta_2 - \\theta_1 \\right) } }\n",
    "$$\n",
    "\n",
    "We'll keep $s$ as is in order to make the derivations simpler and more elegant."
   ]
  },
  {
   "cell_type": "code",
   "execution_count": 66,
   "id": "efd5cd76-044c-4938-9625-b6315c83891e",
   "metadata": {},
   "outputs": [],
   "source": [
    "G, m1, m2 = sp.symbols('G m_1 m_2')\n",
    "t = sp.symbols('t')\n",
    "r1, r2, th1, th2 = spm.dynamicsymbols('r_1 r_2 \\\\theta_1 \\\\theta_2')\n",
    "r1d, r2d, th1d, th2d = tuple( x.diff() for x in (r1, r2, th1, th2) )\n",
    "s = sp.Function('s')(r1, r2, th1, th2)"
   ]
  },
  {
   "cell_type": "markdown",
   "id": "11dfe9cd-6e40-4b33-b2b1-bdb3a58473ad",
   "metadata": {},
   "source": [
    "Since we're using Lagrangian mechanics, we derive the Lagrangian based on kinetic and potential energy. Potential energy relies only on the $s$ parameter, which we will try to keep as is in the final equations of motion so we won't have to compute them over and over again."
   ]
  },
  {
   "cell_type": "code",
   "execution_count": 67,
   "id": "86b53d91-7035-4c00-8152-cd70f2e74b77",
   "metadata": {},
   "outputs": [
    {
     "data": {
      "image/png": "[encoded data removed]",
      "text/latex": [
       "$\\displaystyle L = - \\frac{G m_{1} m_{2}}{s{\\left(r_{1},r_{2},\\theta_{1},\\theta_{2} \\right)}} + \\frac{m_{1} \\left(r_{1}^{2} \\dot{\\theta}_{1}^{2} + \\dot{r}_{1}^{2}\\right)}{2} + \\frac{m_{2} \\left(r_{2}^{2} \\dot{\\theta}_{2}^{2} + \\dot{r}_{2}^{2}\\right)}{2}$"
      ],
      "text/plain": [
       "                                       ⎛  2        2     2⎞      ⎛  2        2\n",
       "                G⋅m₁⋅m₂             m₁⋅⎝r₁ ⋅\\thėta₁  + r₁̇ ⎠   m₂⋅⎝r₂ ⋅\\thėt\n",
       "L = - ─────────────────────────── + ─────────────────────── + ────────────────\n",
       "      s(r₁, r₂, \\theta₁, \\theta₂)              2                         2    \n",
       "\n",
       "     2⎞\n",
       "a₂  + r₂̇ ⎠\n",
       "───────\n",
       "       "
      ]
     },
     "metadata": {},
     "output_type": "display_data"
    }
   ],
   "source": [
    "L = (m1 * (r1d**2 + (r1*th1d)**2) + m2 * (r2d**2 + (r2*th2d)**2)) / 2  - G * m1 * m2 / s\n",
    "dispForm('L', L)"
   ]
  },
  {
   "cell_type": "markdown",
   "id": "208dd4c8-9f68-4662-af34-4b9948dfe150",
   "metadata": {},
   "source": [
    "We plug this formula into the Euler-Lagrange equation to get our output solutions for each degree of freedom\n",
    "\n",
    "$$\n",
    "\\frac{\\partial L}{\\partial q_i} = \\frac{d}{dt} \\left( \\frac{\\partial L}{\\partial \\dot{q}_i} \\right)\n",
    "$$"
   ]
  },
  {
   "cell_type": "code",
   "execution_count": 68,
   "id": "08172f66-bbb2-4093-afd7-e92885ced580",
   "metadata": {},
   "outputs": [
    {
     "data": {
      "image/png": "[encoded data removed]",
      "text/latex": [
       "$\\displaystyle \\ddot{r_1} = \\frac{G m_{2} \\frac{d}{d r_{1}} s{\\left(r_{1},r_{2},\\theta_{1},\\theta_{2} \\right)}}{s^{2}{\\left(r_{1},r_{2},\\theta_{1},\\theta_{2} \\right)}} + r_{1} \\dot{\\theta}_{1}^{2}$"
      ],
      "text/plain": [
       "                   d                                            \n",
       "             G⋅m₂⋅───(s(r₁, r₂, \\theta₁, \\theta₂))              \n",
       "                  dr₁                                          2\n",
       "\\ddot{r_1} = ───────────────────────────────────── + r₁⋅\\thėta₁ \n",
       "                   2                                            \n",
       "                  s (r₁, r₂, \\theta₁, \\theta₂)                  "
      ]
     },
     "metadata": {},
     "output_type": "display_data"
    },
    {
     "data": {
      "image/png": "[encoded data removed]",
      "text/latex": [
       "$\\displaystyle \\ddot{r_2} = \\frac{G m_{1} \\frac{d}{d r_{2}} s{\\left(r_{1},r_{2},\\theta_{1},\\theta_{2} \\right)}}{s^{2}{\\left(r_{1},r_{2},\\theta_{1},\\theta_{2} \\right)}} + r_{2} \\dot{\\theta}_{2}^{2}$"
      ],
      "text/plain": [
       "                   d                                            \n",
       "             G⋅m₁⋅───(s(r₁, r₂, \\theta₁, \\theta₂))              \n",
       "                  dr₂                                          2\n",
       "\\ddot{r_2} = ───────────────────────────────────── + r₂⋅\\thėta₂ \n",
       "                   2                                            \n",
       "                  s (r₁, r₂, \\theta₁, \\theta₂)                  "
      ]
     },
     "metadata": {},
     "output_type": "display_data"
    },
    {
     "data": {
      "image/png": "[encoded data removed]",
      "text/latex": [
       "$\\displaystyle \\ddot{\\theta_1} = \\frac{G m_{2} \\frac{d}{d \\theta_{1}} s{\\left(r_{1},r_{2},\\theta_{1},\\theta_{2} \\right)}}{r_{1}^{2} s^{2}{\\left(r_{1},r_{2},\\theta_{1},\\theta_{2} \\right)}} - \\frac{2 \\dot{\\theta}_{1} \\dot{r}_{1}}{r_{1}}$"
      ],
      "text/plain": [
       "                          d                                                \n",
       "                  G⋅m₂⋅────────(s(r₁, r₂, \\theta₁, \\theta₂))               \n",
       "                       d\\theta₁                                2⋅\\thėta₁⋅r₁̇\n",
       "\\ddot{\\theta_1} = ────────────────────────────────────────── - ────────────\n",
       "                         2  2                                       r₁     \n",
       "                       r₁ ⋅s (r₁, r₂, \\theta₁, \\theta₂)                    "
      ]
     },
     "metadata": {},
     "output_type": "display_data"
    },
    {
     "data": {
      "image/png": "[encoded data removed]",
      "text/latex": [
       "$\\displaystyle \\ddot{\\theta_2} = \\frac{G m_{1} \\frac{d}{d \\theta_{2}} s{\\left(r_{1},r_{2},\\theta_{1},\\theta_{2} \\right)}}{r_{2}^{2} s^{2}{\\left(r_{1},r_{2},\\theta_{1},\\theta_{2} \\right)}} - \\frac{2 \\dot{\\theta}_{2} \\dot{r}_{2}}{r_{2}}$"
      ],
      "text/plain": [
       "                          d                                                \n",
       "                  G⋅m₁⋅────────(s(r₁, r₂, \\theta₁, \\theta₂))               \n",
       "                       d\\theta₂                                2⋅\\thėta₂⋅r₂̇\n",
       "\\ddot{\\theta_2} = ────────────────────────────────────────── - ────────────\n",
       "                         2  2                                       r₂     \n",
       "                       r₂ ⋅s (r₁, r₂, \\theta₁, \\theta₂)                    "
      ]
     },
     "metadata": {},
     "output_type": "display_data"
    }
   ],
   "source": [
    "def solve_euler_lagrange(q, qd):\n",
    "    \"\"\"\n",
    "    Return solution to Euler-Lagrange equation \n",
    "    for lagrangian wrt coordinate and respective \n",
    "    time derivative\n",
    "    \"\"\"\n",
    "    eL = L.diff(q) - L.diff(qd).diff(t)\n",
    "    return sp.solve(eL, qd.diff())[0]\n",
    "\n",
    "r1dd = solve_euler_lagrange(r1, r1d)\n",
    "r2dd = solve_euler_lagrange(r2, r2d)\n",
    "th1dd = solve_euler_lagrange(th1, th1d)\n",
    "th2dd = solve_euler_lagrange(th2, th2d)\n",
    "dispForm('\\\\ddot{r_1}',       r1dd)\n",
    "dispForm('\\\\ddot{r_2}',       r2dd)\n",
    "dispForm('\\\\ddot{\\\\theta_1}', th1dd)\n",
    "dispForm('\\\\ddot{\\\\theta_2}', th2dd)"
   ]
  },
  {
   "cell_type": "markdown",
   "id": "8f15ef49-71d0-420f-8587-8fd5bdd78990",
   "metadata": {},
   "source": [
    "We'll take a detour to solve for those derivatives of $s$. Using the chain rule, we can unravel this derivative piece by piece, keeping the $s$ term in wherever we can. We'll start with the square root term\n",
    "\n",
    "$$\n",
    "\\begin{align}\n",
    "\\frac{\\partial s}{\\partial q} &= \\frac{\\partial}{\\partial q} \\sqrt{ r_1^2 + r_2^2 - 2 r_1 r_2 \\cos{ \\left( \\theta_2 - \\theta_1 \\right) } } \\\\\n",
    "&= \\frac{\\frac{\\partial}{\\partial q} \\left( r_1^2 + r_2^2 - 2 r_1 r_2 \\cos{ \\left( \\theta_2 - \\theta_1 \\right) } \\right)}{2 \\sqrt{ r_1^2 + r_2^2 - 2 r_1 r_2 \\cos{ \\left( \\theta_2 - \\theta_1 \\right) } } } \\\\\n",
    "&= \\frac{ \\frac{\\partial}{\\partial q} \\left( r_1^2 + r_2^2 - 2 r_1 r_2 \\cos{ \\left( \\theta_2 - \\theta_1 \\right) } \\right) }{2s}\n",
    "\\end{align}\n",
    "$$\n",
    "\n",
    "From this, we can eliminate the square root term from the derivative, and, in fact, replace it with our $s$ term. The rest of the derivative depends on what's inside the square root. The derivatives for each of the coordinates are as follows.\n",
    "\n",
    "$$\n",
    "\\begin{align}\n",
    "\\frac{\\partial s}{\\partial r_1} &= \\frac{r_1 - r_2\\cos{\\left( \\theta_2 - \\theta_1 \\right)}}{s} & \\frac{\\partial s}{\\partial \\theta_1} &= - \\frac{r_1 r_2 \\sin{\\left( \\theta_2 - \\theta_1 \\right)}}{s} \\\\\n",
    "\\frac{\\partial s}{\\partial r_2} &= \\frac{r_2 - r_1\\cos{\\left( \\theta_2 - \\theta_1 \\right)}}{s} & \\frac{\\partial s}{\\partial \\theta_2} &= \\frac{r_1 r_2 \\sin{\\left( \\theta_2 - \\theta_1 \\right)}}{s} \\\\\n",
    "\\end{align}\n",
    "$$\n",
    "\n",
    "We can sub each of these into our equations above"
   ]
  },
  {
   "cell_type": "code",
   "execution_count": 69,
   "id": "98ff178b-d6bf-4b72-b7e5-0e9ea08f35b8",
   "metadata": {},
   "outputs": [
    {
     "data": {
      "image/png": "[encoded data removed]",
      "text/latex": [
       "$\\displaystyle \\ddot{r}_1 = \\frac{G m_{2} \\left(r_{1} - r_{2} \\cos{\\left(\\theta_{1} - \\theta_{2} \\right)}\\right)}{s^{3}{\\left(r_{1},r_{2},\\theta_{1},\\theta_{2} \\right)}} + r_{1} \\dot{\\theta}_{1}^{2}$"
      ],
      "text/plain": [
       "            G⋅m₂⋅(r₁ - r₂⋅cos(\\theta₁ - \\theta₂))             2\n",
       "\\ddot{r}₁ = ───────────────────────────────────── + r₁⋅\\thėta₁ \n",
       "                  3                                            \n",
       "                 s (r₁, r₂, \\theta₁, \\theta₂)                  "
      ]
     },
     "metadata": {},
     "output_type": "display_data"
    },
    {
     "data": {
      "image/png": "[encoded data removed]",
      "text/latex": [
       "$\\displaystyle \\ddot{r}_2 = \\frac{G m_{1} \\left(- r_{1} \\cos{\\left(\\theta_{1} - \\theta_{2} \\right)} + r_{2}\\right)}{s^{3}{\\left(r_{1},r_{2},\\theta_{1},\\theta_{2} \\right)}} + r_{2} \\dot{\\theta}_{2}^{2}$"
      ],
      "text/plain": [
       "            G⋅m₁⋅(-r₁⋅cos(\\theta₁ - \\theta₂) + r₂)             2\n",
       "\\ddot{r}₂ = ────────────────────────────────────── + r₂⋅\\thėta₂ \n",
       "                  3                                             \n",
       "                 s (r₁, r₂, \\theta₁, \\theta₂)                   "
      ]
     },
     "metadata": {},
     "output_type": "display_data"
    },
    {
     "data": {
      "image/png": "[encoded data removed]",
      "text/latex": [
       "$\\displaystyle \\ddot{\\theta}_1 = \\frac{G m_{2} r_{2} \\sin{\\left(\\theta_{1} - \\theta_{2} \\right)}}{r_{1} s^{3}{\\left(r_{1},r_{2},\\theta_{1},\\theta_{2} \\right)}} - \\frac{2 \\dot{\\theta}_{1} \\dot{r}_{1}}{r_{1}}$"
      ],
      "text/plain": [
       "                  G⋅m₂⋅r₂⋅sin(\\theta₁ - \\theta₂)   2⋅\\thėta₁⋅r₁̇\n",
       "\\ddot{\\theta}₁ = ─────────────────────────────── - ────────────\n",
       "                     3                                  r₁     \n",
       "                 r₁⋅s (r₁, r₂, \\theta₁, \\theta₂)               "
      ]
     },
     "metadata": {},
     "output_type": "display_data"
    },
    {
     "data": {
      "image/png": "[encoded data removed]",
      "text/latex": [
       "$\\displaystyle \\ddot{\\theta}_2 = - \\frac{G m_{1} r_{1} \\sin{\\left(\\theta_{1} - \\theta_{2} \\right)}}{r_{2} s^{3}{\\left(r_{1},r_{2},\\theta_{1},\\theta_{2} \\right)}} - \\frac{2 \\dot{\\theta}_{2} \\dot{r}_{2}}{r_{2}}$"
      ],
      "text/plain": [
       "                    G⋅m₁⋅r₁⋅sin(\\theta₁ - \\theta₂)   2⋅\\thėta₂⋅r₂̇\n",
       "\\ddot{\\theta}₂ = - ─────────────────────────────── - ────────────\n",
       "                       3                                  r₂     \n",
       "                   r₂⋅s (r₁, r₂, \\theta₁, \\theta₂)               "
      ]
     },
     "metadata": {},
     "output_type": "display_data"
    }
   ],
   "source": [
    "r1dd  = r1dd.subs(   s.diff(r1),  (r1 - r2 * sp.cos(th2 - th1)) / s )\n",
    "r2dd  = r2dd.subs(   s.diff(r2),  (r2 - r1 * sp.cos(th2 - th1)) / s )\n",
    "th1dd = th1dd.subs( s.diff(th1), - r1 * r2 * sp.sin(th2 - th1)  / s )\n",
    "th2dd = th2dd.subs( s.diff(th2),   r1 * r2 * sp.sin(th2 - th1)  / s )\n",
    "dispForm('\\\\ddot{r}_1', r1dd)\n",
    "dispForm('\\\\ddot{r}_2', r2dd)\n",
    "dispForm('\\\\ddot{\\\\theta}_1', th1dd)\n",
    "dispForm('\\\\ddot{\\\\theta}_2', th2dd)"
   ]
  },
  {
   "cell_type": "markdown",
   "id": "723f9ea0-6e95-4c23-9bbc-a8bbe756d095",
   "metadata": {},
   "source": [
    "Finally, sub $s$ with our formula for $s$ above."
   ]
  },
  {
   "cell_type": "code",
   "execution_count": 70,
   "id": "027d89e0-9235-4f38-9300-5f096defad71",
   "metadata": {},
   "outputs": [
    {
     "data": {
      "image/png": "[encoded data removed]",
      "text/latex": [
       "$\\displaystyle \\ddot{r}_1 = \\frac{G m_{2} \\left(r_{1} - r_{2} \\cos{\\left(\\theta_{1} - \\theta_{2} \\right)}\\right)}{\\left(r_{1}^{2} - 2 r_{1} r_{2} \\cos{\\left(\\theta_{1} - \\theta_{2} \\right)} + r_{2}^{2}\\right)^{\\frac{3}{2}}} + r_{1} \\dot{\\theta}_{1}^{2}$"
      ],
      "text/plain": [
       "                 G⋅m₂⋅(r₁ - r₂⋅cos(\\theta₁ - \\theta₂))                  2\n",
       "\\ddot{r}₁ = ─────────────────────────────────────────────── + r₁⋅\\thėta₁ \n",
       "                                                        3/2              \n",
       "            ⎛  2                                      2⎞                 \n",
       "            ⎝r₁  - 2⋅r₁⋅r₂⋅cos(\\theta₁ - \\theta₂) + r₂ ⎠                 "
      ]
     },
     "metadata": {},
     "output_type": "display_data"
    },
    {
     "data": {
      "image/png": "[encoded data removed]",
      "text/latex": [
       "$\\displaystyle \\ddot{r}_2 = \\frac{G m_{1} \\left(- r_{1} \\cos{\\left(\\theta_{1} - \\theta_{2} \\right)} + r_{2}\\right)}{\\left(r_{1}^{2} - 2 r_{1} r_{2} \\cos{\\left(\\theta_{1} - \\theta_{2} \\right)} + r_{2}^{2}\\right)^{\\frac{3}{2}}} + r_{2} \\dot{\\theta}_{2}^{2}$"
      ],
      "text/plain": [
       "                 G⋅m₁⋅(-r₁⋅cos(\\theta₁ - \\theta₂) + r₂)                 2\n",
       "\\ddot{r}₂ = ─────────────────────────────────────────────── + r₂⋅\\thėta₂ \n",
       "                                                        3/2              \n",
       "            ⎛  2                                      2⎞                 \n",
       "            ⎝r₁  - 2⋅r₁⋅r₂⋅cos(\\theta₁ - \\theta₂) + r₂ ⎠                 "
      ]
     },
     "metadata": {},
     "output_type": "display_data"
    },
    {
     "data": {
      "image/png": "[encoded data removed]",
      "text/latex": [
       "$\\displaystyle \\ddot{\\theta}_1 = \\frac{G m_{2} r_{2} \\sin{\\left(\\theta_{1} - \\theta_{2} \\right)}}{\\left(r_{1}^{2} - 2 r_{1} r_{2} \\cos{\\left(\\theta_{1} - \\theta_{2} \\right)} + r_{2}^{2}\\right)^{\\frac{3}{2}} r_{1}} - \\frac{2 \\dot{\\theta}_{1} \\dot{r}_{1}}{r_{1}}$"
      ],
      "text/plain": [
       "                           G⋅m₂⋅r₂⋅sin(\\theta₁ - \\theta₂)             2⋅\\thėt\n",
       "\\ddot{\\theta}₁ = ────────────────────────────────────────────────── - ────────\n",
       "                                                             3/2           r₁ \n",
       "                 ⎛  2                                      2⎞                 \n",
       "                 ⎝r₁  - 2⋅r₁⋅r₂⋅cos(\\theta₁ - \\theta₂) + r₂ ⎠   ⋅r₁           \n",
       "\n",
       "a₁⋅r₁̇\n",
       "────\n",
       "    \n",
       "    \n",
       "    "
      ]
     },
     "metadata": {},
     "output_type": "display_data"
    },
    {
     "data": {
      "image/png": "[encoded data removed]",
      "text/latex": [
       "$\\displaystyle \\ddot{\\theta}_2 = - \\frac{G m_{1} r_{1} \\sin{\\left(\\theta_{1} - \\theta_{2} \\right)}}{\\left(r_{1}^{2} - 2 r_{1} r_{2} \\cos{\\left(\\theta_{1} - \\theta_{2} \\right)} + r_{2}^{2}\\right)^{\\frac{3}{2}} r_{2}} - \\frac{2 \\dot{\\theta}_{2} \\dot{r}_{2}}{r_{2}}$"
      ],
      "text/plain": [
       "                             G⋅m₁⋅r₁⋅sin(\\theta₁ - \\theta₂)             2⋅\\the\n",
       "\\ddot{\\theta}₂ = - ────────────────────────────────────────────────── - ──────\n",
       "                                                               3/2           r\n",
       "                   ⎛  2                                      2⎞               \n",
       "                   ⎝r₁  - 2⋅r₁⋅r₂⋅cos(\\theta₁ - \\theta₂) + r₂ ⎠   ⋅r₂         \n",
       "\n",
       "̇ta₂⋅r₂̇\n",
       "──────\n",
       "₂     \n",
       "      \n",
       "      "
      ]
     },
     "metadata": {},
     "output_type": "display_data"
    }
   ],
   "source": [
    "sForm = sp.sqrt(r1**2 + r2**2 - 2*r1*r2*sp.cos(th2 - th1))\n",
    "\n",
    "r1dd  = r1dd.subs(  s, sForm )\n",
    "r2dd  = r2dd.subs(  s, sForm )\n",
    "th1dd = th1dd.subs( s, sForm )\n",
    "th2dd = th2dd.subs( s, sForm )\n",
    "\n",
    "dispForm('\\\\ddot{r}_1', r1dd)\n",
    "dispForm('\\\\ddot{r}_2', r2dd)\n",
    "dispForm('\\\\ddot{\\\\theta}_1', th1dd)\n",
    "dispForm('\\\\ddot{\\\\theta}_2', th2dd)"
   ]
  },
  {
   "cell_type": "markdown",
   "id": "97f3552c-f58a-438c-894a-3361a84e3d4e",
   "metadata": {},
   "source": [
    "Create a vector which returns input state and updated state"
   ]
  },
  {
   "cell_type": "code",
   "execution_count": 71,
   "id": "93f6e5b9-b5bf-436f-a7d7-8e9a55e7bb39",
   "metadata": {},
   "outputs": [
    {
     "name": "stdout",
     "output_type": "stream",
     "text": [
      "Input State:\n"
     ]
    },
    {
     "data": {
      "text/latex": [
       "$\\displaystyle \\left[\\begin{matrix}r_{1} & r_{2} & \\theta_{1} & \\theta_{2} & \\dot{r}_{1} & \\dot{r}_{2} & \\dot{\\theta}_{1} & \\dot{\\theta}_{2}\\end{matrix}\\right]$"
      ],
      "text/plain": [
       "[r₁  r₂  \\theta₁  \\theta₂  r₁̇  r₂̇  \\thėta₁  \\thėta₂]"
      ]
     },
     "metadata": {},
     "output_type": "display_data"
    },
    {
     "name": "stdout",
     "output_type": "stream",
     "text": [
      "State Update:\n"
     ]
    },
    {
     "data": {
      "text/latex": [
       "$\\displaystyle \\left[\\begin{matrix}\\dot{r}_{1} & \\dot{r}_{2} & \\dot{\\theta}_{1} & \\dot{\\theta}_{2} & \\frac{G m_{2} \\left(r_{1} - r_{2} \\cos{\\left(\\theta_{1} - \\theta_{2} \\right)}\\right)}{\\left(r_{1}^{2} - 2 r_{1} r_{2} \\cos{\\left(\\theta_{1} - \\theta_{2} \\right)} + r_{2}^{2}\\right)^{\\frac{3}{2}}} + r_{1} \\dot{\\theta}_{1}^{2} & \\frac{G m_{1} \\left(- r_{1} \\cos{\\left(\\theta_{1} - \\theta_{2} \\right)} + r_{2}\\right)}{\\left(r_{1}^{2} - 2 r_{1} r_{2} \\cos{\\left(\\theta_{1} - \\theta_{2} \\right)} + r_{2}^{2}\\right)^{\\frac{3}{2}}} + r_{2} \\dot{\\theta}_{2}^{2} & \\frac{G m_{2} r_{2} \\sin{\\left(\\theta_{1} - \\theta_{2} \\right)}}{\\left(r_{1}^{2} - 2 r_{1} r_{2} \\cos{\\left(\\theta_{1} - \\theta_{2} \\right)} + r_{2}^{2}\\right)^{\\frac{3}{2}} r_{1}} - \\frac{2 \\dot{\\theta}_{1} \\dot{r}_{1}}{r_{1}} & - \\frac{G m_{1} r_{1} \\sin{\\left(\\theta_{1} - \\theta_{2} \\right)}}{\\left(r_{1}^{2} - 2 r_{1} r_{2} \\cos{\\left(\\theta_{1} - \\theta_{2} \\right)} + r_{2}^{2}\\right)^{\\frac{3}{2}} r_{2}} - \\frac{2 \\dot{\\theta}_{2} \\dot{r}_{2}}{r_{2}}\\end{matrix}\\right]$"
      ],
      "text/plain": [
       "⎡                               G⋅m₂⋅(r₁ - r₂⋅cos(\\theta₁ - \\theta₂))         \n",
       "⎢r₁̇  r₂̇  \\thėta₁  \\thėta₂  ───────────────────────────────────────────────\n",
       "⎢                                                                      3/2    \n",
       "⎢                          ⎛  2                                      2⎞       \n",
       "⎣                          ⎝r₁  - 2⋅r₁⋅r₂⋅cos(\\theta₁ - \\theta₂) + r₂ ⎠       \n",
       "\n",
       "         2       G⋅m₁⋅(-r₁⋅cos(\\theta₁ - \\theta₂) + r₂)                 2     \n",
       " + r₁⋅\\thėta₁   ─────────────────────────────────────────────── + r₂⋅\\thėta₂\n",
       "                                                        3/2                   \n",
       "            ⎛  2                                      2⎞                   ⎛  \n",
       "            ⎝r₁  - 2⋅r₁⋅r₂⋅cos(\\theta₁ - \\theta₂) + r₂ ⎠                   ⎝r₁\n",
       "\n",
       "       G⋅m₂⋅r₂⋅sin(\\theta₁ - \\theta₂)             2⋅\\thėta₁⋅r₁̇              \n",
       "   ────────────────────────────────────────────────── - ────────────  - ──────\n",
       "                                         3/2           r₁                     \n",
       "2                                      2⎞                         ⎛  2        \n",
       "  - 2⋅r₁⋅r₂⋅cos(\\theta₁ - \\theta₂) + r₂ ⎠   ⋅r₁                   ⎝r₁  - 2⋅r₁⋅\n",
       "\n",
       "G⋅m₁⋅r₁⋅sin(\\theta₁ - \\theta₂)             2⋅\\thėta₂⋅r₂̇⎤\n",
       "──────────────────────────────────────────── - ────────────⎥\n",
       "                                3/2           r₂     ⎥\n",
       "                              2⎞                     ⎥\n",
       "r₂⋅cos(\\theta₁ - \\theta₂) + r₂ ⎠   ⋅r₂               ⎦"
      ]
     },
     "metadata": {},
     "output_type": "display_data"
    }
   ],
   "source": [
    "S = sp.Array([ r1, r2, th1, th2, r1d, r2d, th1d, th2d ])\n",
    "Sd = sp.Array([ r1d, r2d, th1d, th2d, r1dd, r2dd, th1dd, th2dd ])\n",
    "print('Input State:')\n",
    "display(S)\n",
    "print('State Update:')\n",
    "display(Sd)"
   ]
  }
 ],
 "metadata": {
  "kernelspec": {
   "display_name": "Python 3 (ipykernel)",
   "language": "python",
   "name": "python3"
  },
  "language_info": {
   "codemirror_mode": {
    "name": "ipython",
    "version": 3
   },
   "file_extension": ".py",
   "mimetype": "text/x-python",
   "name": "python",
   "nbconvert_exporter": "python",
   "pygments_lexer": "ipython3",
   "version": "3.10.4"
  }
 },
 "nbformat": 4,
 "nbformat_minor": 5
}
