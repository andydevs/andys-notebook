{
 "cells": [
  {
   "cell_type": "markdown",
   "id": "fd6678b6",
   "metadata": {},
   "source": [
    "# Cracking an Old Cipher\n",
    "\n",
    "Encrypt and decrypt something using the vigenere cipher and a key. Then, we try to crack the cypher and find the key.\n",
    "\n",
    "Frequency table provided by [this study](https://link.springer.com/content/pdf/10.3758/BF03195586.pdf)"
   ]
  },
  {
   "cell_type": "code",
   "execution_count": 1,
   "id": "0f9581be",
   "metadata": {},
   "outputs": [],
   "source": [
    "import math as mt\n",
    "import numpy as np\n",
    "import matplotlib\n",
    "import ipywidgets as widg\n",
    "matplotlib.rcParams['figure.figsize'] = [12, 8]\n",
    "from matplotlib import pyplot as plt\n",
    "\n",
    "# Helper functions\n",
    "symbol_space = 'abcdefghijklmnopqrstuvwxyzABCDEFGHIJKLMNOPQRSTUVWXYZ0123456789.,!?&()\"\\':;- \\n'\n",
    "to_ints = lambda text: np.array([ symbol_space.index(c) for c in text ], dtype=np.int8)\n",
    "to_chrs = lambda ints: ''.join([ symbol_space[i] for i in ints ])\n",
    "\n",
    "def extend_to_fit(key, text):\n",
    "    \"\"\"\n",
    "    Extend key by repitition to\n",
    "    match length of key to length\n",
    "    of text\n",
    "    \n",
    "    :param key: key to extend\n",
    "    :param text: text to fit to\n",
    "    \n",
    "    :return: extended key\n",
    "    \"\"\"\n",
    "    keys = key * ( mt.ceil(len(plaintext)/len(key)) )\n",
    "    return keys[:len(plaintext)]"
   ]
  },
  {
   "cell_type": "markdown",
   "id": "e036c3b1",
   "metadata": {},
   "source": [
    "Our plaintext and key"
   ]
  },
  {
   "cell_type": "code",
   "execution_count": 35,
   "id": "5373df01",
   "metadata": {},
   "outputs": [
    {
     "name": "stdout",
     "output_type": "stream",
     "text": [
      "35\n"
     ]
    }
   ],
   "source": [
    "plaintext = \"\"\"Did you ever hear the tragedy of Darth Plagueis The Wise? \n",
    "I thought not. It's not a story the Jedi would tell you. It's a Sith \n",
    "legend. Darth Plagueis was a Dark Lord of the Sith, so powerful and \n",
    "so wise he could use the Force to influence the midichlorians to create \n",
    "life. He had such a knowledge of the dark side that he could even keep \n",
    "the ones he cared about from dying. The dark side of the Force is a \n",
    "pathway to many abilities some consider to be unnatural. He became so \n",
    "powerful. the only thing he was afraid of was losing his power, which \n",
    "eventually, of course, he did. Unfortunately, he taught his apprentice \n",
    "everything he knew, then his apprentice killed him in his sleep. Ironic. \n",
    "He could save others from death, but not himself.\"\"\"\n",
    "\n",
    "key = 'itisnotpossibletolearnthisfromajedi'\n",
    "print(len(key))"
   ]
  },
  {
   "cell_type": "markdown",
   "id": "a52ff957",
   "metadata": {},
   "source": [
    "Encrypt it using vigenere cipher"
   ]
  },
  {
   "cell_type": "code",
   "execution_count": 3,
   "id": "2a2b7a67",
   "metadata": {},
   "outputs": [
    {
     "name": "stdout",
     "output_type": "stream",
     "text": [
      "Ciphertext:\n",
      "\n",
      "LBlqLCNnsNwz\n",
      "sitFjxhvlMyiyjuMkoocGizMpq2ztvIwAA\n",
      "4lxm7msvcrgQqyyCGgqxbvwM'qVHnHmFGB\n",
      "lcLHzvypGAlg1juwkwxyolgMmDymRDIeqQufwrojWiKurgtwlvBp.hHdzBAg7yozJsAKgxlwrojHaIxrSwJipCr Clhg0BBzamLDmHGEfCjNzjenulszwqBzGq qibkwNtvlILtmLzm\n",
      "QsKqpctFlBunDzvBoehxkmgFqvvqAACJAioDcMCjgrvnMlgrqztq.hLhgptlqFIvwmsqsozAEsokepByfBzjprmrtcvqlxgLuoMnvwqkpFpwmpzeElDlmHdqHtehsqmArpwlqtGsvqiczyMmqvoDlwFqFldm5hncgizDgKvrxnCxqBipcYCCgepvLfiqeGoFhFeBgBHgEnBRnotAtjEmxGjwoDrrjwFxzrqrhxrgjxgMABtIIJst,jLxmmicrzxfAGdqDAwnviCtfgLusrDBDQgusmGujlepJtzgskIoudhsigEtAqyCLxByqpjDcICHirelPoqumpnqvnrwCiEtQamHumuGCsDigmsi uvw\"g!swCDtDrdBmEGflvxnHsMoiEcAwDcaGCKlvLntsk\n",
      "nzhzGMpAAurwsqCvfH(rHsinpuBzgsuGFqnCmfmgDqDyswnvAEgjycAwDcsCrxw'qNICzil&bhPxguBIEsmKsDfjsMvpvspsKvuqivoFh;ceCBrvGGmAxAKwtg-\n"
     ]
    }
   ],
   "source": [
    "# Convert plaintext and key to integers\n",
    "plaintext_i = to_ints(plaintext)\n",
    "\n",
    "# Extend key to fit plaintext\n",
    "keys_i = to_ints(extend_to_fit(key, plaintext))\n",
    "\n",
    "# Encrypt plaintext using key into cyphertext\n",
    "ciphertext = to_chrs((plaintext_i + keys_i) % len(symbol_space))\n",
    "\n",
    "# Print cyphertext\n",
    "print('Ciphertext:')\n",
    "print()\n",
    "print(ciphertext)"
   ]
  },
  {
   "cell_type": "markdown",
   "id": "63798a26",
   "metadata": {},
   "source": [
    "Now let's try decrypting the text using our key. This is the reverse of the encryption process"
   ]
  },
  {
   "cell_type": "code",
   "execution_count": 4,
   "id": "fe1edc18",
   "metadata": {},
   "outputs": [
    {
     "name": "stdout",
     "output_type": "stream",
     "text": [
      "Did you ever hear the tragedy of Darth Plagueis The Wise? \n",
      "I thought not. It's not a story the Jedi would tell you. It's a Sith \n",
      "legend. Darth Plagueis was a Dark Lord of the Sith, so powerful and \n",
      "so wise he could use the Force to influence the midichlorians to create \n",
      "life. He had such a knowledge of the dark side that he could even keep \n",
      "the ones he cared about from dying. The dark side of the Force is a \n",
      "pathway to many abilities some consider to be unnatural. He became so \n",
      "powerful. the only thing he was afraid of was losing his power, which \n",
      "eventually, of course, he did. Unfortunately, he taught his apprentice \n",
      "everything he knew, then his apprentice killed him in his sleep. Ironic. \n",
      "He could save others from death, but not himself.\n"
     ]
    }
   ],
   "source": [
    "# Convert ciphertext and key to integers\n",
    "# Extend key to fit ciphertext\n",
    "ciphertext_i = to_ints(ciphertext)\n",
    "\n",
    "# Decrypt ciphertext using key into plaintext\n",
    "dplaintext = to_chrs((ciphertext_i - keys_i) % len(symbol_space))\n",
    "\n",
    "# Print plaintext\n",
    "print(dplaintext)"
   ]
  },
  {
   "cell_type": "markdown",
   "id": "ca6774ce",
   "metadata": {},
   "source": [
    "If we don't have the key, we theoretically cannot decypher the cyphertext... or can we?\n",
    "\n",
    "The only difficult part is to find the length of the cipher. We can find a set of possible lengths, and we'll have to brute force each one"
   ]
  },
  {
   "cell_type": "code",
   "execution_count": 5,
   "id": "493aa3d7",
   "metadata": {},
   "outputs": [
    {
     "name": "stdout",
     "output_type": "stream",
     "text": [
      "[  2   3   7   4   5   9  35  19  18   8  11  70  38  29  21  37  58  14\n",
      "  10   6  17  16  26  13  20  12  23  25 140  28  72 117 105 103  95  87\n",
      "  78  76  74  67 118  59  56  48  42  41  40  36  31  30]\n"
     ]
    }
   ],
   "source": [
    "# Convert cyphertext to integers\n",
    "ciphertext_i = to_ints(ciphertext)\n",
    "\n",
    "# Convert to list of n-graphs\n",
    "n = 2\n",
    "pad = np.zeros((n - len(ciphertext_i) % n,), dtype=np.int32)\n",
    "pad_ciphertext_i = np.append(ciphertext_i, pad)\n",
    "ngraphs_i = pad_ciphertext_i.reshape(-1, n)\n",
    "\n",
    "# Gather unique distances between like ngraphs\n",
    "num_ngraphs = ngraphs_i.shape[0]\n",
    "distances = np.array([], dtype=np.int32)\n",
    "for i in range(num_ngraphs):\n",
    "    indices = np.argwhere((ngraphs_i == ngraphs_i[i,:]).all(axis=1)).reshape(-1)\n",
    "    if len(indices) > 1:\n",
    "        distances = np.concatenate((distances, np.diff(indices)))\n",
    "distances = np.unique(distances)\n",
    "distances\n",
    "\n",
    "# List all prime numbers up to max distance\n",
    "max_distance = distances.max()\n",
    "primes = [2]\n",
    "for i in range(2, max_distance):\n",
    "    for prime in primes:\n",
    "        if i % prime == 0:\n",
    "            break\n",
    "    else:\n",
    "        primes.append(i)\n",
    "        \n",
    "# Generate list of factors for each distance\n",
    "factors = []\n",
    "for distance in distances:\n",
    "    dfactors = set()\n",
    "    for prime in primes:\n",
    "        ffactor = prime\n",
    "        while ffactor < distance and distance % ffactor == 0:\n",
    "            dfactors.add(ffactor)\n",
    "            dfactors.add(distance // ffactor)\n",
    "            ffactor *= prime\n",
    "    factors.extend(list(dfactors))\n",
    "\n",
    "# List factors sorted by most occurances\n",
    "ufactors, counts = np.unique(factors, return_counts=True)\n",
    "likely_lengths = ufactors[np.flip(np.argsort(counts))]\n",
    "print(likely_lengths)"
   ]
  },
  {
   "cell_type": "markdown",
   "id": "7ecb33d9-0aff-45e0-b93f-257f0f0bfee1",
   "metadata": {},
   "source": [
    "Frequency analysis"
   ]
  }
 ],
 "metadata": {
  "kernelspec": {
   "display_name": "Python 3 (ipykernel)",
   "language": "python",
   "name": "python3"
  },
  "language_info": {
   "codemirror_mode": {
    "name": "ipython",
    "version": 3
   },
   "file_extension": ".py",
   "mimetype": "text/x-python",
   "name": "python",
   "nbconvert_exporter": "python",
   "pygments_lexer": "ipython3",
   "version": "3.10.4"
  }
 },
 "nbformat": 4,
 "nbformat_minor": 5
}
