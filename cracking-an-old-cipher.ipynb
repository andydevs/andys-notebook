{
 "cells": [
  {
   "cell_type": "markdown",
   "id": "fd6678b6",
   "metadata": {},
   "source": [
    "# Cracking an Old Cipher\n",
    "\n",
    "Encrypt and decrypt something using the vigenere cipher and a key. Then, we try to crack the cypher and find the key."
   ]
  },
  {
   "cell_type": "code",
   "execution_count": 1,
   "id": "0f9581be",
   "metadata": {},
   "outputs": [],
   "source": [
    "import math as mt\n",
    "import numpy as np\n",
    "import matplotlib\n",
    "import ipywidgets as widg\n",
    "matplotlib.rcParams['figure.figsize'] = [12, 8]\n",
    "from matplotlib import pyplot as plt\n",
    "\n",
    "# Helper functions\n",
    "to_ints = lambda text: np.array(list(text), dtype='<U1').view('<u4')\n",
    "to_chrs = lambda ints: ''.join(ints.view('<U1'))\n",
    "\n",
    "def extend_to_fit(key, text):\n",
    "    \"\"\"\n",
    "    Extend key by repitition to\n",
    "    match length of key to length\n",
    "    of text\n",
    "    \n",
    "    :param key: key to extend\n",
    "    :param text: text to fit to\n",
    "    \n",
    "    :return: extended key\n",
    "    \"\"\"\n",
    "    keys = key * ( mt.ceil(len(plaintext)/len(key)) )\n",
    "    return keys[:len(plaintext)]"
   ]
  },
  {
   "cell_type": "markdown",
   "id": "e036c3b1",
   "metadata": {},
   "source": [
    "Our plaintext and key"
   ]
  },
  {
   "cell_type": "code",
   "execution_count": 2,
   "id": "5373df01",
   "metadata": {},
   "outputs": [],
   "source": [
    "plaintext = \"\"\"Did you ever hear the tragedy of Darth Plagueis The Wise? \n",
    "I thought not. It's not a story the Jedi would tell you. It's a Sith \n",
    "legend. Darth Plagueis was a Dark Lord of the Sith, so powerful and \n",
    "so wise he could use the Force to influence the midichlorians to create \n",
    "life. He had such a knowledge of the dark side that he could even keep \n",
    "the ones he cared about from dying. The dark side of the Force is a \n",
    "pathway to many abilities some consider to be unnatural. He became so \n",
    "powerful. the only thing he was afraid of was losing his power, which \n",
    "eventually, of course, he did. Unfortunately, he taught his apprentice \n",
    "everything he knew, then his apprentice killed him in his sleep. Ironic. \n",
    "He could save others from death, but not himself.\"\"\"\n",
    "\n",
    "key = 'itisnotpossibletolearnthisfromajedi'"
   ]
  },
  {
   "cell_type": "markdown",
   "id": "a52ff957",
   "metadata": {},
   "source": [
    "Encrypt it using vigenere cipher"
   ]
  },
  {
   "cell_type": "code",
   "execution_count": 3,
   "id": "2a2b7a67",
   "metadata": {},
   "outputs": [
    {
     "name": "stdout",
     "output_type": "stream",
     "text": [
      "Ciphertext:\n",
      "\n",
      "­ÝÍçÞéÔéØÛÔÊÕáÙÉ×èÚÊÚËÖèÐÐ",
      "¨ÊÛèÑ¾ÛÕ×äØÜÜÀÍÙÃÎÔ×­r²ÚÚÞâÈÒÙ×Øè·ããáâÝÍ",
      "çãÛ×ÚâÜÍ½ËÖØØÙÚÐÍèÎßÚíßä¡²ÖØÐ¸ÊæÖrÕØÍ×ÝÑ©ÅÛÝÜÃÚÐÛåÔÜæÙÍØÐ©ÂäÙ´ØåÊÞÓÞÍÉ¼ÝÝÛçßãâàÇÞËéÛÆÏÖ~ÛØÝÛâÒÒÊÌØéÕ×äçÕçÛÎ²ÔæÒÑ",
      "ÕáÝÖÏßÛ×ÝÐÆÙÌÎáÒ××ÒÜÜÞåÜÊÐß",
      "èÞÈÓ×ÏèÍ}ÒÛÕÒ­ÉÑÕÍáä×ØÔÔÐÛÜàÔÐÌÆÝÚÝÛËÓÎÓÕ",
      "×ÒÍÙçÖÐè×ØÌÑáÑØÑÛÆàßÍÎã|ãÕÆÔÒÎÜÑØÒÕâÔ×ÊÄÛÚèÒ×ÐßØáÒáÍ ÁÉÏ",
      "ÈÊÛßæ×ÓÙÞÙÝÊÑ",
      "ºÞÞÈÆ×çÊpâÐáÉáÆÝÝãàÏÝíÐÕÜÕËàÎÙâØÐßÓËØáÙÛÓÒÓÙÓËÙèÜÝÕääåÔÕ­ÙÎÊÄÓÛÙÜâ|ßÜØÏ×ÊÞÕ¢çÖÔßÝßìÖÔÎâÖÍÆåÕÛÔÌäÐÖÅÔÊàÕÜÚÞçÙÝÚÑËß",
      "äÞãÊÓëÐÒÖÎyÒ×ÏÓØÞÊàÕìãÖÖâÞÔßÊ ÔÊÖ×ØÈÔØÞßÕßÓÅÝÎàâ×ÙãÔèÐÊà",
      "ÜØß",
      "ÂâÞæÍ×çÏÕÔkÏÛÉÛâèÑÜÜÖØÔÞ×ÇããÔÊÏÖÝÛÔÖâáÒÏÞÎÇÎßÒßÚÔØ×ÜàËÚ",
      "ÜØß",
      "ÔÞÓÙØ¯äÞÛÊÍs±ÙÖÝäàÔæÔßÇÔè×Ñ×ÔÔæ×ÖÊ×ÐáÉ",
      "ÆÞÝ×ââÜÙÜæØÕÈ\n"
     ]
    }
   ],
   "source": [
    "# Convert plaintext and key to integers\n",
    "# Extend key to fit plaintext\n",
    "plaintext_i = to_ints(plaintext)\n",
    "keys_i      = to_ints(extend_to_fit(key, plaintext))\n",
    "\n",
    "# Encrypt plaintext using key into cyphertext\n",
    "ciphertext = to_chrs(plaintext_i + keys_i)\n",
    "\n",
    "# Print cyphertext\n",
    "print('Ciphertext:')\n",
    "print()\n",
    "print(ciphertext)"
   ]
  },
  {
   "cell_type": "markdown",
   "id": "63798a26",
   "metadata": {},
   "source": [
    "Now let's try decrypting the text using our key. This is the reverse of the encryption process"
   ]
  },
  {
   "cell_type": "code",
   "execution_count": 4,
   "id": "fe1edc18",
   "metadata": {},
   "outputs": [
    {
     "name": "stdout",
     "output_type": "stream",
     "text": [
      "Did you ever hear the tragedy of Darth Plagueis The Wise? \n",
      "I thought not. It's not a story the Jedi would tell you. It's a Sith \n",
      "legend. Darth Plagueis was a Dark Lord of the Sith, so powerful and \n",
      "so wise he could use the Force to influence the midichlorians to create \n",
      "life. He had such a knowledge of the dark side that he could even keep \n",
      "the ones he cared about from dying. The dark side of the Force is a \n",
      "pathway to many abilities some consider to be unnatural. He became so \n",
      "powerful. the only thing he was afraid of was losing his power, which \n",
      "eventually, of course, he did. Unfortunately, he taught his apprentice \n",
      "everything he knew, then his apprentice killed him in his sleep. Ironic. \n",
      "He could save others from death, but not himself.\n"
     ]
    }
   ],
   "source": [
    "# Convert ciphertext and key to integers\n",
    "# Extend key to fit ciphertext\n",
    "ciphertext_i = to_ints(ciphertext)\n",
    "keys_i       = to_ints(extend_to_fit(key, ciphertext))\n",
    "\n",
    "# Decrypt ciphertext using key into plaintext\n",
    "plaintext = to_chrs(ciphertext_i - keys_i)\n",
    "\n",
    "# Print plaintext\n",
    "print(plaintext)"
   ]
  },
  {
   "cell_type": "markdown",
   "id": "ca6774ce",
   "metadata": {},
   "source": [
    "If we don't have the key, we theoretically cannot decypher the cyphertext... or can we?\n",
    "\n",
    "The only difficult part is to find the length of the cipher"
   ]
  },
  {
   "cell_type": "code",
   "execution_count": 5,
   "id": "493aa3d7",
   "metadata": {},
   "outputs": [
    {
     "data": {
      "image/png": "[encoded data removed]",
      "text/plain": [
       "<Figure size 432x288 with 1 Axes>"
      ]
     },
     "metadata": {
      "needs_background": "light"
     },
     "output_type": "display_data"
    }
   ],
   "source": [
    "# Convert cyphertext to integers\n",
    "ciphertext_i = to_ints(ciphertext)\n",
    "\n",
    "# Create shift array\n",
    "shifted = np.zeros((len(ciphertext), len(ciphertext)), dtype='i')\n",
    "for i in range(len(ciphertext)):\n",
    "    shifted[i,:] = np.roll(ciphertext_i, i)\n",
    "    \n",
    "# Match each row with original ciphertext and check for coincidences\n",
    "ciphertext_i2 = np.expand_dims(ciphertext_i, axis=0)\n",
    "coincidences = np.count_nonzero(shifted == ciphertext_i2, axis=1)[1:]\n",
    "heights, bins = np.histogram(coincidences, bins=len(np.unique(coincidences)));\n",
    "\n",
    "# Plot histogram\n",
    "fig = plt.figure();\n",
    "plt.bar(bins[:-1], heights)\n",
    "plt.title('Distribution of Coincidences')\n",
    "plt.xlabel('# of coincidences')\n",
    "plt.show();"
   ]
  }
 ],
 "metadata": {
  "kernelspec": {
   "display_name": "Python 3 (ipykernel)",
   "language": "python",
   "name": "python3"
  },
  "language_info": {
   "codemirror_mode": {
    "name": "ipython",
    "version": 3
   },
   "file_extension": ".py",
   "mimetype": "text/x-python",
   "name": "python",
   "nbconvert_exporter": "python",
   "pygments_lexer": "ipython3",
   "version": "3.10.4"
  }
 },
 "nbformat": 4,
 "nbformat_minor": 5
}
