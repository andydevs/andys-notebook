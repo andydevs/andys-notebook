{
 "cells": [
  {
   "cell_type": "markdown",
   "id": "40be8374",
   "metadata": {},
   "source": [
    "# Sentence Generator\n",
    "\n",
    "Generating sentences.\n",
    "\n",
    "For most of these demos, rerun the cell to get a new sentence output"
   ]
  },
  {
   "cell_type": "code",
   "execution_count": 18,
   "id": "d6cd564a",
   "metadata": {},
   "outputs": [],
   "source": [
    "from random import choice, random\n",
    "from ipywidgets import Output, Button\n",
    "\n",
    "def coin():\n",
    "    \"\"\"\n",
    "    Return a random boolean\n",
    "    \"\"\"\n",
    "    return random() > 0.5"
   ]
  },
  {
   "cell_type": "markdown",
   "id": "a4376539",
   "metadata": {},
   "source": [
    "Start with simplest sentence: a noun (the subject) a verb and another noun (the object)."
   ]
  },
  {
   "cell_type": "code",
   "execution_count": 63,
   "id": "ef6ac735",
   "metadata": {},
   "outputs": [
    {
     "data": {
      "text/plain": [
       "'Roy annoys the working class'"
      ]
     },
     "execution_count": 63,
     "metadata": {},
     "output_type": "execute_result"
    }
   ],
   "source": [
    "noun_a = [\n",
    "    'John',\n",
    "    'Jim',\n",
    "    'Gordon Ramsay',\n",
    "    'Steven',\n",
    "    'Khan',\n",
    "    'Roy',\n",
    "    'Michael',\n",
    "    'Vladmir Putin'\n",
    "]\n",
    "\n",
    "verb = [\n",
    "    'jumps',\n",
    "    'runs',\n",
    "    'cooks',\n",
    "    'annoys',\n",
    "    'helps',\n",
    "    'reads',\n",
    "    'chooses'\n",
    "]\n",
    "\n",
    "noun_b = [\n",
    "    'the fence',\n",
    "    'the shark',\n",
    "    'the child',\n",
    "    'the mistress',\n",
    "    'the working class',\n",
    "    'the book'\n",
    "]\n",
    "\n",
    "choice(noun_a) + ' ' + choice(verb) + ' ' + choice(noun_b)"
   ]
  },
  {
   "cell_type": "markdown",
   "id": "236104b5",
   "metadata": {},
   "source": [
    "Kinda redundant... We have two sets of nouns, could we combine them?\n",
    "\n",
    "Well, nouns come in two flavors, proper and improper. Improper nouns have articles (\"a/an\" and \"the\"), while proper nouns don't (kind of). So we can have a set for proper nouns, and a set for improper nouns, and pick between them randomly"
   ]
  },
  {
   "cell_type": "code",
   "execution_count": 78,
   "id": "cc9f4607",
   "metadata": {},
   "outputs": [
    {
     "data": {
      "text/plain": [
       "'the fence helps the citizen'"
      ]
     },
     "execution_count": 78,
     "metadata": {},
     "output_type": "execute_result"
    }
   ],
   "source": [
    "nouns_proper = [\n",
    "    'John',\n",
    "    'Jim',\n",
    "    'Gordon Ramsay',\n",
    "    'Steven',\n",
    "    'Khan',\n",
    "    'Roy',\n",
    "    'Michael',\n",
    "    'Vladmir Putin'\n",
    "]\n",
    "\n",
    "nouns_improper = [\n",
    "    'fence',\n",
    "    'shark',\n",
    "    'child',\n",
    "    'mistress',\n",
    "    'citizen',\n",
    "    'book',\n",
    "    'egg'\n",
    "]\n",
    "\n",
    "verbs = [\n",
    "    'jumps',\n",
    "    'runs',\n",
    "    'cooks',\n",
    "    'annoys',\n",
    "    'helps',\n",
    "    'reads',\n",
    "    'chooses',\n",
    "    'writes',\n",
    "    'punches'\n",
    "]\n",
    "\n",
    "def noun():\n",
    "    if coin():\n",
    "        return choice(nouns_proper)\n",
    "    else:\n",
    "        return 'the ' + choice(nouns_improper)\n",
    "\n",
    "# Following the apparent convention\n",
    "def verb():\n",
    "    return choice(verbs)\n",
    "    \n",
    "# Geneate sentence\n",
    "noun() + ' ' + verb() + ' ' + noun()"
   ]
  },
  {
   "cell_type": "markdown",
   "id": "3cadd68a",
   "metadata": {},
   "source": [
    "Now we got a bit more intrigue... the improper nouns only begin with \"the\", since there's a bit more code that needs to go into \"a/an\". Namely, we have to programatically choose between \"a\" and \"an\" depending on if the noun starts with a vowel.\n",
    "\n",
    "Also, I'm going to imply that any noun that doesn't allow for both \"a/an\" and \"the\" is proper (e.g. \"the working class\")"
   ]
  },
  {
   "cell_type": "code",
   "execution_count": 123,
   "id": "e0e51467",
   "metadata": {},
   "outputs": [
    {
     "data": {
      "text/plain": [
       "'Gordon Ramsay punches a fence'"
      ]
     },
     "execution_count": 123,
     "metadata": {},
     "output_type": "execute_result"
    }
   ],
   "source": [
    "nouns_proper = [\n",
    "    'John',\n",
    "    'Jim',\n",
    "    'Gordon Ramsay',\n",
    "    'Steven',\n",
    "    'Khan',\n",
    "    'Roy',\n",
    "    'Michael',\n",
    "    'Vladmir Putin',\n",
    "    'the working class',\n",
    "    'the biker gang',\n",
    "    'the sky',\n",
    "    'France'\n",
    "]\n",
    "\n",
    "nouns_improper = [\n",
    "    'fence',\n",
    "    'shark',\n",
    "    'child',\n",
    "    'mistress',\n",
    "    'citizen',\n",
    "    'book',\n",
    "    'egg'\n",
    "]\n",
    "\n",
    "verbs = [\n",
    "    'jumps',\n",
    "    'runs',\n",
    "    'cooks',\n",
    "    'annoys',\n",
    "    'helps',\n",
    "    'reads',\n",
    "    'chooses',\n",
    "    'writes',\n",
    "    'punches'\n",
    "]\n",
    "\n",
    "def noun():\n",
    "    if coin():\n",
    "        return choice(nouns_proper)\n",
    "    else:\n",
    "        noun = choice(nouns_improper)\n",
    "        if coin():\n",
    "            return 'the ' + noun\n",
    "        elif noun[0] in 'aeiou': # Usually not y\n",
    "            return 'an ' + noun\n",
    "        else:\n",
    "            return 'a ' + noun\n",
    "            \n",
    "\n",
    "# Following the apparent convention\n",
    "def verb():\n",
    "    return choice(verbs)\n",
    "    \n",
    "# Generate sentence\n",
    "noun() + ' ' + verb() + ' ' + noun()"
   ]
  },
  {
   "cell_type": "markdown",
   "id": "c94bf2a2",
   "metadata": {},
   "source": [
    "Now comes the first tough part: plural nouns. You can have one citizen cook an egg, or multiple citizens cook an egg. However, if we want to implement this, it will introduce new problems. We need a singular and plural form of a noun. With most nouns you just attach an 's' to the end, but _some_ nouns are special (e.g. person singular, people plural). So we have to account for both. _Also_, the verb will change depending on wether the noun is singular or plural. So now we introduce dependencies.\n",
    "\n",
    "We'll have to create a staged approach. We first determine our subject. Then, from there, we format the verb based on the subject's plurality, and finally we introduce the object.\n",
    "\n",
    "As for singular and plural, special nouns will be provided in arrays, and plain strings imply add an 's'."
   ]
  },
  {
   "cell_type": "code",
   "execution_count": 166,
   "id": "6eb896f1",
   "metadata": {},
   "outputs": [
    {
     "data": {
      "text/plain": [
       "'the working class cooks Khan'"
      ]
     },
     "execution_count": 166,
     "metadata": {},
     "output_type": "execute_result"
    }
   ],
   "source": [
    "nouns_improper = [\n",
    "    'fence',\n",
    "    'shark',\n",
    "    ['child', 'children'],\n",
    "    ['mistress', 'misstresses'],\n",
    "    'citizen',\n",
    "    'book',\n",
    "    'egg'\n",
    "]\n",
    "\n",
    "nouns_proper = [\n",
    "    'John',\n",
    "    'Jim',\n",
    "    'Gordon Ramsay',\n",
    "    'Steven',\n",
    "    'Khan',\n",
    "    'Roy',\n",
    "    'Michael',\n",
    "    'Vladmir Putin',\n",
    "    'the working class',\n",
    "    'the biker gang',\n",
    "    'the sky',\n",
    "    'France'\n",
    "]\n",
    "\n",
    "verbs = [\n",
    "    'jump',\n",
    "    'run',\n",
    "    'cook',\n",
    "    'annoy',\n",
    "    'help',\n",
    "    'read',\n",
    "    'choose',\n",
    "    'write',\n",
    "    ['punch', 'punches']\n",
    "]\n",
    "\n",
    "def noun_improper(plural):\n",
    "    value = choice(nouns_improper)\n",
    "    if plural:\n",
    "        if type(value) is list:\n",
    "            word = value[1]\n",
    "        else:\n",
    "            word = value + 's'\n",
    "        return 'the ' + word\n",
    "    else:\n",
    "        if type(value) is list:\n",
    "            word = value[0]\n",
    "        else:\n",
    "            word = value\n",
    "        if coin():\n",
    "            if word[0] in 'aeiou': # usually not y\n",
    "                return 'an ' + word\n",
    "            else:\n",
    "                return 'a ' + word\n",
    "        else:\n",
    "            return 'the ' + word\n",
    "    \n",
    "def noun_proper():\n",
    "    return choice(nouns_proper)\n",
    "\n",
    "def noun():\n",
    "    if coin():\n",
    "        plural = coin()\n",
    "        return noun_improper(plural), plural\n",
    "    else:\n",
    "        return noun_proper(), False\n",
    "    \n",
    "def verb(plural):\n",
    "    value = choice(verbs)\n",
    "    if type(value) is list and plural:\n",
    "        return value[0]\n",
    "    elif type(value) is list:\n",
    "        return value[1]\n",
    "    elif plural:\n",
    "        return value\n",
    "    else:\n",
    "        return value + 's'\n",
    "    \n",
    "# Build sentence\n",
    "subject, plural = noun()\n",
    "action = verb(plural)\n",
    "object_, _ = noun()\n",
    "subject + ' ' + action + ' ' + object_"
   ]
  },
  {
   "cell_type": "markdown",
   "id": "b91849d7",
   "metadata": {},
   "source": [
    "We're starting to make sentences more interesting. However, the code is kind of getting unruly, so I'm going to do some refactoring"
   ]
  },
  {
   "cell_type": "code",
   "execution_count": 241,
   "id": "7e149e4e",
   "metadata": {},
   "outputs": [
    {
     "data": {
      "text/plain": [
       "'Jim writes a book'"
      ]
     },
     "execution_count": 241,
     "metadata": {},
     "output_type": "execute_result"
    }
   ],
   "source": [
    "class RandomValue:\n",
    "    @classmethod\n",
    "    def random(cls):\n",
    "        value = choice(cls.data)\n",
    "        return cls(*value) if type(value) is list else cls(value)\n",
    "    \n",
    "\n",
    "class ProperNoun(RandomValue):\n",
    "    data = [\n",
    "        'John',\n",
    "        'Jim',\n",
    "        'Gordon Ramsay',\n",
    "        'Steven',\n",
    "        'Khan',\n",
    "        'Roy',\n",
    "        'Michael',\n",
    "        'Vladmir Putin',\n",
    "        'the working class',\n",
    "        'the biker gang',\n",
    "        'the sky',\n",
    "        'France'\n",
    "    ]\n",
    "    \n",
    "    def __init__(self, word):\n",
    "        self.word = word\n",
    "        \n",
    "    def get_word(self, plural):\n",
    "        return self.word\n",
    "\n",
    "    \n",
    "class ImproperNoun(RandomValue):\n",
    "    data = [\n",
    "        'fence',\n",
    "        'shark',\n",
    "        ['child', 'children'],\n",
    "        ['mistress', 'misstresses'],\n",
    "        'citizen',\n",
    "        'book',\n",
    "        'egg'\n",
    "    ]\n",
    "    \n",
    "    def __init__(self, singular, plural=None):\n",
    "        self.singular = singular\n",
    "        self.plural = plural or (singular + 's')\n",
    "        \n",
    "    def get_word(self, plural):\n",
    "        word = self.plural if plural else self.singular\n",
    "        article = 'the' if plural or coin() else 'an' if word[0] in 'aeiou' else 'a'\n",
    "        return article + ' ' + word\n",
    "\n",
    "\n",
    "def noun():\n",
    "    if coin():\n",
    "        value = ImproperNoun.random()\n",
    "        plural = coin()\n",
    "        return value.get_word(plural), plural\n",
    "    else:\n",
    "        return ProperNoun.random().get_word(False), False\n",
    "    \n",
    "    \n",
    "class Verb(RandomValue):\n",
    "    data = [\n",
    "        'jump',\n",
    "        'run',\n",
    "        'cook',\n",
    "        'annoy',\n",
    "        'help',\n",
    "        'read',\n",
    "        'choose',\n",
    "        'write',\n",
    "        ['punch', 'punches']\n",
    "    ]\n",
    "        \n",
    "    def __init__(self, plural, singular=None):\n",
    "        self.plural = plural\n",
    "        self.singular = singular or (plural + 's')\n",
    "        \n",
    "    def get_word(self, plural):\n",
    "        return self.plural if plural else self.singular\n",
    "    \n",
    "\n",
    "# Build sentence\n",
    "subject, plural = noun()\n",
    "action = Verb.random().get_word(plural)\n",
    "object_, _ = noun()\n",
    "subject + ' ' + action + ' ' + object_"
   ]
  }
 ],
 "metadata": {
  "kernelspec": {
   "display_name": "Python 3 (ipykernel)",
   "language": "python",
   "name": "python3"
  },
  "language_info": {
   "codemirror_mode": {
    "name": "ipython",
    "version": 3
   },
   "file_extension": ".py",
   "mimetype": "text/x-python",
   "name": "python",
   "nbconvert_exporter": "python",
   "pygments_lexer": "ipython3",
   "version": "3.9.1"
  }
 },
 "nbformat": 4,
 "nbformat_minor": 5
}
