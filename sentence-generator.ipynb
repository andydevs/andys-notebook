{
 "cells": [
  {
   "cell_type": "markdown",
   "id": "40be8374",
   "metadata": {},
   "source": [
    "# Sentence Generator"
   ]
  },
  {
   "cell_type": "code",
   "execution_count": 22,
   "id": "d6cd564a",
   "metadata": {},
   "outputs": [],
   "source": [
    "from random import choice, random\n",
    "from ipywidgets import Output, Button\n",
    "\n",
    "def coin():\n",
    "    \"\"\"\n",
    "    Return a random boolean\n",
    "    \"\"\"\n",
    "    return random() > 0.5\n",
    "\n",
    "def display_helper(func):\n",
    "    \"\"\"\n",
    "    A helper function which takes a sentence generator\n",
    "    and displays a widget that lets you call the generator\n",
    "    repeatedly by clicking a button\n",
    "    \n",
    "    :param func: sentence generator function\n",
    "    \"\"\"\n",
    "    genbutton = Button(description='Generate')\n",
    "    output = Output()\n",
    "    display(genbutton, output)\n",
    "\n",
    "    def generate(event):\n",
    "        sentence = func()\n",
    "        output.clear_output()\n",
    "        with output:\n",
    "            print(sentence)\n",
    "\n",
    "    genbutton.on_click(generate)\n",
    "    generate(None)\n",
    "    return func"
   ]
  },
  {
   "cell_type": "markdown",
   "id": "a4376539",
   "metadata": {},
   "source": [
    "Start with simple sentence that takes a noun a verb and another noun"
   ]
  },
  {
   "cell_type": "code",
   "execution_count": 27,
   "id": "ef6ac735",
   "metadata": {},
   "outputs": [
    {
     "data": {
      "application/vnd.jupyter.widget-view+json": {
       "model_id": "feee208aacd64782b85926f95aeba52d",
       "version_major": 2,
       "version_minor": 0
      },
      "text/plain": [
       "Button(description='Generate', style=ButtonStyle())"
      ]
     },
     "metadata": {},
     "output_type": "display_data"
    },
    {
     "data": {
      "application/vnd.jupyter.widget-view+json": {
       "model_id": "e287e524fcbd428c8c5958679372d774",
       "version_major": 2,
       "version_minor": 0
      },
      "text/plain": [
       "Output()"
      ]
     },
     "metadata": {},
     "output_type": "display_data"
    }
   ],
   "source": [
    "noun_a = [\n",
    "    'John',\n",
    "    'Jim',\n",
    "    'Gordon Ramsay',\n",
    "    'Steven',\n",
    "    'Khan',\n",
    "    'Roy',\n",
    "    'Michael',\n",
    "    'Vladmir Putin'\n",
    "]\n",
    "\n",
    "verb = [\n",
    "    'jumps',\n",
    "    'runs',\n",
    "    'cooks',\n",
    "    'annoys',\n",
    "    'helps',\n",
    "    'reads',\n",
    "    'chooses'\n",
    "]\n",
    "\n",
    "noun_b = [\n",
    "    'the fence',\n",
    "    'the shark',\n",
    "    'the child',\n",
    "    'the mistress',\n",
    "    'the working class',\n",
    "    'the book'\n",
    "]\n",
    "\n",
    "@display_helper\n",
    "def generate_sentence():\n",
    "    return choice(noun_a) + ' ' + choice(verb) + ' ' + choice(noun_b)"
   ]
  },
  {
   "cell_type": "markdown",
   "id": "236104b5",
   "metadata": {},
   "source": [
    "Kinda boring... We have two sets of nouns, could we combine them?\n",
    "\n",
    "Well, nouns come in two flavors, proper and improper. Improper nouns have articles (\"a/an\" and \"the\"), while proper nouns don't (kind of). So we can have a set for proper nouns, and a set for improper nouns, and pick between them randomly"
   ]
  },
  {
   "cell_type": "code",
   "execution_count": 28,
   "id": "cc9f4607",
   "metadata": {},
   "outputs": [
    {
     "data": {
      "application/vnd.jupyter.widget-view+json": {
       "model_id": "8bcdbae93f384c04b25b8f59998e50c9",
       "version_major": 2,
       "version_minor": 0
      },
      "text/plain": [
       "Button(description='Generate', style=ButtonStyle())"
      ]
     },
     "metadata": {},
     "output_type": "display_data"
    },
    {
     "data": {
      "application/vnd.jupyter.widget-view+json": {
       "model_id": "0f076e37be3042fcb062d1f1c8322709",
       "version_major": 2,
       "version_minor": 0
      },
      "text/plain": [
       "Output()"
      ]
     },
     "metadata": {},
     "output_type": "display_data"
    }
   ],
   "source": [
    "nouns_proper = [\n",
    "    'John',\n",
    "    'Jim',\n",
    "    'Gordon Ramsay',\n",
    "    'Steven',\n",
    "    'Khan',\n",
    "    'Roy',\n",
    "    'Michael',\n",
    "    'Vladmir Putin'\n",
    "]\n",
    "\n",
    "nouns_improper = [\n",
    "    'fence',\n",
    "    'shark',\n",
    "    'child',\n",
    "    'mistress',\n",
    "    'citizen',\n",
    "    'book',\n",
    "    'egg'\n",
    "]\n",
    "\n",
    "verbs = [\n",
    "    'jumps',\n",
    "    'runs',\n",
    "    'cooks',\n",
    "    'annoys',\n",
    "    'helps',\n",
    "    'reads',\n",
    "    'chooses',\n",
    "    'writes',\n",
    "    'punches'\n",
    "]\n",
    "\n",
    "def noun():\n",
    "    if coin():\n",
    "        return choice(nouns_proper)\n",
    "    else:\n",
    "        return 'the ' + choice(nouns_improper)\n",
    "\n",
    "# Following the apparent convention\n",
    "def verb():\n",
    "    return choice(verbs)\n",
    "    \n",
    "@display_helper\n",
    "def generate_sentence():\n",
    "    return noun() + ' ' + verb() + ' ' + noun()"
   ]
  },
  {
   "cell_type": "markdown",
   "id": "3cadd68a",
   "metadata": {},
   "source": [
    "Now we got a bit more intrigue... the improper nouns only begin with \"the\", since there's a bit more code that needs to go into \"a/an\". Namely, we have to programatically choose between \"a\" and \"an\" depending on if the noun starts with a vowel.\n",
    "\n",
    "Also, I'm going to imply that any noun that doesn't allow for both \"a/an\" and \"the\" is proper. This includes \"the working class\""
   ]
  },
  {
   "cell_type": "code",
   "execution_count": 30,
   "id": "e0e51467",
   "metadata": {},
   "outputs": [
    {
     "data": {
      "application/vnd.jupyter.widget-view+json": {
       "model_id": "742985f7e2fc4bf8afe2c8c69bc7bd47",
       "version_major": 2,
       "version_minor": 0
      },
      "text/plain": [
       "Button(description='Generate', style=ButtonStyle())"
      ]
     },
     "metadata": {},
     "output_type": "display_data"
    },
    {
     "data": {
      "application/vnd.jupyter.widget-view+json": {
       "model_id": "bc561aa849154c87889dfc39ee6c14b3",
       "version_major": 2,
       "version_minor": 0
      },
      "text/plain": [
       "Output()"
      ]
     },
     "metadata": {},
     "output_type": "display_data"
    }
   ],
   "source": [
    "nouns_proper = [\n",
    "    'John',\n",
    "    'Jim',\n",
    "    'Gordon Ramsay',\n",
    "    'Steven',\n",
    "    'Khan',\n",
    "    'Roy',\n",
    "    'Michael',\n",
    "    'Vladmir Putin',\n",
    "    'the working class',\n",
    "    'the biker gang',\n",
    "    'the sky',\n",
    "    'France'\n",
    "]\n",
    "\n",
    "nouns_improper = [\n",
    "    'fence',\n",
    "    'shark',\n",
    "    'child',\n",
    "    'mistress',\n",
    "    'citizen',\n",
    "    'book',\n",
    "    'egg'\n",
    "]\n",
    "\n",
    "verbs = [\n",
    "    'jumps',\n",
    "    'runs',\n",
    "    'cooks',\n",
    "    'annoys',\n",
    "    'helps',\n",
    "    'reads',\n",
    "    'chooses',\n",
    "    'writes',\n",
    "    'punches'\n",
    "]\n",
    "\n",
    "def noun():\n",
    "    if coin():\n",
    "        return choice(nouns_proper)\n",
    "    else:\n",
    "        noun = choice(nouns_improper)\n",
    "        if coin():\n",
    "            return 'the ' + noun\n",
    "        elif noun[0] in 'aeiou': # Usually not y\n",
    "            return 'an ' + noun\n",
    "        else:\n",
    "            return 'a ' + noun\n",
    "            \n",
    "\n",
    "# Following the apparent convention\n",
    "def verb():\n",
    "    return choice(verbs)\n",
    "    \n",
    "@display_helper\n",
    "def generate_sentence():\n",
    "    return noun() + ' ' + verb() + ' ' + noun()"
   ]
  }
 ],
 "metadata": {
  "kernelspec": {
   "display_name": "Python 3 (ipykernel)",
   "language": "python",
   "name": "python3"
  },
  "language_info": {
   "codemirror_mode": {
    "name": "ipython",
    "version": 3
   },
   "file_extension": ".py",
   "mimetype": "text/x-python",
   "name": "python",
   "nbconvert_exporter": "python",
   "pygments_lexer": "ipython3",
   "version": "3.8.2"
  }
 },
 "nbformat": 4,
 "nbformat_minor": 5
}
