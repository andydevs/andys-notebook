{
 "cells": [
  {
   "cell_type": "markdown",
   "id": "47d5ac40-7ae6-44c1-b381-cb1220c8b0b9",
   "metadata": {},
   "source": [
    "# Who's Gonna Win the 2024 Election\n",
    "\n",
    "_NOTE: This is only speculation based on crude data analysis for education purposes only. I am NOT an expert I am but a humble bufoon._\n",
    "\n",
    "_Sources will be at the bottom_"
   ]
  },
  {
   "cell_type": "code",
   "execution_count": 30,
   "id": "983b78a3-dc1a-4e50-a3b7-840452a48721",
   "metadata": {},
   "outputs": [],
   "source": [
    "import numpy as np\n",
    "import matplotlib.pyplot as plt\n",
    "import matplotlib.ticker as mtick\n",
    "plt.rcParams['figure.figsize'] = [12, 4]"
   ]
  },
  {
   "cell_type": "markdown",
   "id": "3ccb739a-713b-4024-9bb5-b4f8de62719b",
   "metadata": {},
   "source": [
    "So I'm pretty sure we're going to have Trump be the Republican nominee for 2024 based on his poll standing. The democratic nominee will most likely be Biden as the incumbent president. So it'll likely be a Trump vs. Biden affair... again.\n",
    "\n",
    "So what data can we gather to determine who will win?\n",
    "\n",
    "I'm treating this as a naive bayes classifier to give us a baseline of what to expect despite there being _many_ factors that are unique to this election, we can probably look at various factors in history and how they influenced the election to get a rough estimate.\n",
    "\n",
    "Let's start with a 50-50 split... seems about fair"
   ]
  },
  {
   "cell_type": "code",
   "execution_count": 36,
   "id": "c14600ed-aa03-4491-a369-3e702024b2a7",
   "metadata": {},
   "outputs": [
    {
     "data": {
      "image/png": "[encoded data removed]",
      "text/plain": [
       "<Figure size 864x288 with 1 Axes>"
      ]
     },
     "metadata": {
      "needs_background": "light"
     },
     "output_type": "display_data"
    }
   ],
   "source": [
    "election_results = np.array([\n",
    "    ( 'Donald', 'Trump', 'r', 0.50 ),\n",
    "    ( 'Joe', 'Biden', 'b', 0.50 ),\n",
    "], dtype=[\n",
    "    ('first_name', np.unicode_, 8), \n",
    "    ('last_name', np.unicode_, 8),\n",
    "    ('party_color', np.unicode_, 1),\n",
    "    ('win_likelihood', np.float64)\n",
    "])\n",
    "\n",
    "def plot_results(election_results):\n",
    "    fig,ax = plt.subplots()\n",
    "    ax.barh(\n",
    "        y=election_results['last_name'], \n",
    "        width=election_results['win_likelihood'],\n",
    "        color=election_results['party_color']\n",
    "    )\n",
    "    ax.xaxis.set_major_formatter(mtick.PercentFormatter(1.0))\n",
    "    ax.set_title('Projected Results')\n",
    "    plt.show()\n",
    "    return\n",
    "plot_results(election_results)"
   ]
  },
  {
   "cell_type": "markdown",
   "id": "dba0975f-7cc7-4f90-afcb-4f04ad334345",
   "metadata": {},
   "source": [
    "The first feature we want to use is the incumbent president advantage. Throughout history how likely is the incumbent president to win an election. We only have about 59 datapoints to consider, and I found a wikipedia article [1] (very accurate) with the list of previous wins. If we find that a president has won two or more times in a row, that is an incumbent win"
   ]
  },
  {
   "cell_type": "code",
   "execution_count": null,
   "id": "ba5f4d53-3139-44bf-a230-bcd626c5628f",
   "metadata": {},
   "outputs": [],
   "source": [
    "# Previous election wins\n",
    "previous_wins = []"
   ]
  },
  {
   "cell_type": "markdown",
   "id": "ff530288-32af-432a-8ca4-7b2ed2fb4352",
   "metadata": {},
   "source": [
    "_Sources:_\n",
    "\n",
    "[1] https://en.wikipedia.org/wiki/List_of_United_States_presidential_elections_by_popular_vote_margin"
   ]
  }
 ],
 "metadata": {
  "kernelspec": {
   "display_name": "Python 3 (ipykernel)",
   "language": "python",
   "name": "python3"
  },
  "language_info": {
   "codemirror_mode": {
    "name": "ipython",
    "version": 3
   },
   "file_extension": ".py",
   "mimetype": "text/x-python",
   "name": "python",
   "nbconvert_exporter": "python",
   "pygments_lexer": "ipython3",
   "version": "3.9.18"
  }
 },
 "nbformat": 4,
 "nbformat_minor": 5
}
